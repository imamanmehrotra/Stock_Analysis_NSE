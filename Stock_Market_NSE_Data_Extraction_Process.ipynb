{
 "cells": [
  {
   "cell_type": "code",
   "execution_count": 1,
   "metadata": {},
   "outputs": [],
   "source": [
    "from nsepy import get_history\n",
    "from datetime import date\n",
    "import seaborn as sns\n",
    "import matplotlib.pyplot as plt\n",
    "import pandas as pd\n",
    "import numpy as np\n",
    "import plotly.express as px\n",
    "import calendar\n",
    "%matplotlib inline"
   ]
  },
  {
   "cell_type": "code",
   "execution_count": 102,
   "metadata": {},
   "outputs": [],
   "source": [
    "url_com='https://indiancompanies.in/listed-companies-in-nse-with-symbol/'\n",
    "result=pd.read_html(url_com)\n",
    "com_sym=((result[0])[[1,2]]).rename(columns={1:'Company Name',2:'Symbol'})"
   ]
  },
  {
   "cell_type": "markdown",
   "metadata": {},
   "source": [
    "# List of All the companies on NSE"
   ]
  },
  {
   "cell_type": "code",
   "execution_count": 103,
   "metadata": {},
   "outputs": [
    {
     "name": "stdout",
     "output_type": "stream",
     "text": [
      "List of All the Company Names:-\n",
      "20 Microns Limited\n",
      "21st Century Management Services Limited\n",
      "3i Infotech Limited\n",
      "3M India Limited\n",
      "3P Land Holdings Limited\n",
      "5Paisa Capital Limited\n",
      "63 moons technologies limited\n",
      "A2Z Infra Engineering Limited\n",
      "Aarti Drugs Limited\n",
      "Aarti Industries Limited\n",
      "Aarvee Denims & Exports Limited\n",
      "Aavas Financiers Limited\n",
      "Aban Offshore Limited\n",
      "ABB India Limited\n",
      "Abbott India Limited\n",
      "Aditya Birla Capital Limited\n",
      "Aditya Birla Fashion and Retail Limited\n",
      "ABM International Limited\n",
      "ACC Limited\n",
      "Accelya Solutions India Limited\n",
      "Action Construction Equipment Limited\n",
      "Adani Enterprises Limited\n",
      "Adani Gas Limited\n",
      "Adani Green Energy Limited\n",
      "Adani Ports and Special Economic Zone Limited\n",
      "Adani Power Limited\n",
      "Adani Transmission Limited\n",
      "ADF Foods Limited\n",
      "Adhunik Metaliks Limited\n",
      "Adhunik Industries Limited\n",
      "Adlabs Entertainment Limited\n",
      "Ador Welding Limited\n",
      "Adroit Infotech Limited\n",
      "Allied Digital Services Limited\n",
      "Advani Hotels & Resorts (India) Limited\n",
      "Advanced Enzyme Technologies Limited\n",
      "Aegis Logistics Limited\n",
      "Affle (India) Limited\n",
      "Agarwal Industrial Corporation Limited\n",
      "AGC Networks Limited\n",
      "Agri-Tech (India) Limited\n",
      "Agro Phos India Limited\n",
      "Asian Hotels (East) Limited\n",
      "Ahluwalia Contracts (India) Limited\n",
      "Asian Hotels (West) Limited\n",
      "AIA Engineering Limited\n",
      "Monnet Ispat & Energy Limited\n",
      "Airan Limited\n",
      "Ajanta Pharma Limited\n",
      "Ajmera Realty & Infra India Limited\n",
      "Akash Infra-Projects Limited\n",
      "AksharChem India Limited\n",
      "Aksh Optifibre Limited\n",
      "Akzo Nobel India Limited\n",
      "Alankit Limited\n",
      "Albert David Limited\n",
      "Allahabad Bank\n",
      "Alchemist Limited\n",
      "Alembic Limited\n",
      "Alicon Castalloy Limited\n",
      "Alkali Metals Limited\n",
      "Alkem Laboratories Limited\n",
      "Alkyl Amines Chemicals Limited\n",
      "Allcargo Logistics Limited\n",
      "Allsec Technologies Limited\n",
      "Almondz Global Securities Limited\n",
      "Alok Industries Limited\n",
      "Alpa Laboratories Limited\n",
      "Alphageo (India) Limited\n",
      "Alps Industries Limited\n",
      "Amara Raja Batteries Limited\n",
      "Amber Enterprises India Limited\n",
      "Ambika Cotton Mills Limited\n",
      "Ambuja Cements Limited\n",
      "AMD Industries Limited\n",
      "Amj Land Holdings Limited\n",
      "Amrutanjan Health Care Limited\n",
      "Anant Raj Limited\n",
      "Andhra Bank\n",
      "Andhra Cements Limited\n",
      "The Andhra Sugars Limited\n",
      "Anik Industries Limited\n",
      "Ankit Metal & Power Limited\n",
      "Ansal Properties & Infrastructure Limited\n",
      "Ansal Housing Limited\n",
      "Antarctica Limited\n",
      "The Anup Engineering Limited\n",
      "Apar Industries Limited\n",
      "Anjani Portland Cement Limited\n",
      "Apcotex Industries Limited\n",
      "Apex Frozen Foods Limited\n",
      "APL Apollo Tubes Limited\n",
      "Alembic Pharmaceuticals Limited\n",
      "Apollo Micro Systems Limited\n",
      "Apollo Hospitals Enterprise Limited\n",
      "Apollo Pipes Limited\n",
      "Apollo Tyres Limited\n",
      "Apollo Sindoori Hotels Limited\n",
      "Aptech Limited\n",
      "Archidply Industries Limited\n",
      "Archies Limited\n",
      "Arcotech Limited\n",
      "Rajdarshan Industries Limited\n",
      "Aries Agro Limited\n",
      "Arihant Foundations & Housing Limited\n",
      "Arihant Superstructures Limited\n",
      "Arman Financial Services Limited\n",
      "Aro Granite Industries Limited\n",
      "Arrow Greentech Limited\n",
      "Arrow Textiles Limited\n",
      "Arshiya Limited\n",
      "ARSS Infrastructure Projects Limited\n",
      "Arvind Limited\n",
      "Arvind Fashions Limited\n",
      "Arvind SmartSpaces Limited\n",
      "Asahi India Glass Limited\n",
      "Asahi Songwon Colors Limited\n",
      "Automotive Stampings and Assemblies Limited\n",
      "Ashapura Minechem Limited\n",
      "Ashiana Housing Limited\n",
      "Ashima Limited\n",
      "Ashoka Buildcon Limited\n",
      "Ashok Leyland Limited\n",
      "Asian Hotels (North) Limited\n",
      "Asian Paints Limited\n",
      "Asian Granito India Limited\n",
      "Aspinwall and Company Limited\n",
      "Astec LifeSciences Limited\n",
      "Aster DM Healthcare Limited\n",
      "Astral Poly Technik Limited\n",
      "Astra Microwave Products Limited\n",
      "AstraZeneca Pharma India Limited\n",
      "Astron Paper & Board Mill Limited\n",
      "Agro Tech Foods Limited\n",
      "Atlanta Limited\n",
      "Atlas Cycles (Haryana) Limited\n",
      "Atul Limited\n",
      "Atul Auto Limited\n",
      "AU Small Finance Bank Limited\n",
      "Aurionpro Solutions Limited\n",
      "Aurobindo Pharma Limited\n",
      "Ausom Enterprise Limited\n",
      "Automotive Axles Limited\n",
      "Autoline Industries Limited\n",
      "Autolite (India) Limited\n",
      "Avadh Sugar & Energy Limited\n",
      "Avanti Feeds Limited\n",
      "AVT Natural Products Limited\n",
      "Axis Bank Limited\n",
      "AXISCADES Engineering Technologies Limited\n",
      "AYM Syntex Limited\n",
      "B.A.G Films and Media Limited\n",
      "Bajaj Auto Limited\n",
      "Bajaj Consumer Care Limited\n",
      "Bajaj Electricals Limited\n",
      "Bajaj Finserv Limited\n",
      "Bajaj Hindusthan Sugar Limited\n",
      "Bajaj Holdings & Investment Limited\n",
      "Bajaj Finance Limited\n",
      "Balaji Telefilms Limited\n",
      "Balaji Amines Limited\n",
      "Balaxi Ventures Limited\n",
      "Balkrishna Paper Mills Limited\n",
      "Balkrishna Industries Limited\n",
      "Ballarpur Industries Limited\n",
      "Balmer Lawrie & Company Limited\n",
      "Bal Pharma Limited\n",
      "Balrampur Chini Mills Limited\n",
      "Banaras Beads Limited\n",
      "Bannari Amman Sugars Limited\n",
      "Banco Products (I) Limited\n",
      "Bandhan Bank Limited\n",
      "Bang Overseas Limited\n",
      "Bank of Baroda\n",
      "Bank of India\n",
      "Banswara Syntex Limited\n",
      "Bartronics India Limited\n",
      "BASF India Limited\n",
      "Bannari Amman Spinning Mills Limited\n",
      "Bata India Limited\n",
      "Bayer Cropscience Limited\n",
      "Bharat Bijlee Limited\n",
      "Bombay Burmah Trading Corporation Limited\n",
      "Brightcom Group Limited\n",
      "B.C. Power Controls Ltd\n",
      "Bharat Dynamics Limited\n",
      "Beardsell Limited\n",
      "Bedmutha Industries Limited\n",
      "Bharat Electronics Limited\n",
      "BEML Limited\n",
      "Bhansali Engineering Polymers Limited\n",
      "Berger Paints (I) Limited\n",
      "BF Investment Limited\n",
      "BF Utilities Limited\n",
      "Bharatiya Global Infomedia Limited\n",
      "BGR Energy Systems Limited\n",
      "Bhageria Industries Limited\n",
      "Bhagyanagar India Limited\n",
      "Bhagyanagar Properties Limited\n",
      "Bhandari Hosiery Exports Limited\n",
      "Bharat Forge Limited\n",
      "Bharat Gears Limited\n",
      "Bharat Rasayan Limited\n",
      "Bharat Wire Ropes Limited\n",
      "Bharti Airtel Limited\n",
      "Bharat Heavy Electricals Limited\n",
      "Bigbloc Construction Limited\n",
      "Bhartiya International Limited\n",
      "Bil Energy Systems Limited\n",
      "Oswal Chemicals & Fertilizers Limited\n",
      "Biocon Limited\n",
      "Biofil Chemicals & Pharmaceuticals Limited\n",
      "Birla Cable Limited\n",
      "Birla Corporation Limited\n",
      "Aditya Birla Money Limited\n",
      "Bkm Industries Limited\n",
      "BLB Limited\n",
      "Bliss GVS Pharma Limited\n",
      "B. L. Kashyap and Sons Limited\n",
      "BLS International Services Limited\n",
      "Blue Blends (I) Limited\n",
      "Blue Coast Hotels Limited\n",
      "Blue Dart Express Limited\n",
      "Blue Star Limited\n",
      "Bodal Chemicals Limited\n",
      "Bombay Dyeing & Mfg Company Limited\n",
      "Borosil Glass Works Limited\n",
      "Bosch Limited\n",
      "Bharat Petroleum Corporation Limited\n",
      "BPL Limited\n",
      "Bombay Rayon Fashions Limited\n",
      "Brigade Enterprises Limited\n",
      "Britannia Industries Limited\n",
      "Bharat Road Network Limited\n",
      "Brooks Laboratories Limited\n",
      "BSE Limited\n",
      "BSEL Infrastructure Realty Limited\n",
      "BSL Limited\n",
      "BIRLASOFT LIMITED\n",
      "Burnpur Cement Limited\n",
      "Butterfly Gandhimathi Appliances Limited\n",
      "Barak Valley Cements Limited\n",
      "The Byke Hospitality Ltd\n",
      "Cadila Healthcare Limited\n",
      "California Software Company Limited\n",
      "Camlin Fine Sciences Limited\n",
      "Canara Bank\n",
      "C & C Constructions Limited\n",
      "Can Fin Homes Limited\n",
      "Cantabil Retail India Limited\n",
      "Capacit’e Infraprojects Limited\n",
      "Caplin Point Laboratories Limited\n",
      "Capital Trust Limited\n",
      "Carborundum Universal Limited\n",
      "Career Point Limited\n",
      "CARE Ratings Limited\n",
      "Castex Technologies Limited\n",
      "Castrol India Limited\n",
      "Country Club Hospitality & Holidays Limited\n",
      "CCL Products (India) Limited\n",
      "Central Depository Services (India) Limited\n",
      "CEAT Limited\n",
      "Commercial Engineers & Body Builders Co Limited\n",
      "Celebrity Fashions Limited\n",
      "Celestial Biolabs Limited\n",
      "Century Enka Limited\n",
      "Century Extrusions Limited\n",
      "Central Bank of India\n",
      "Centrum Capital Limited\n",
      "Centum Electronics Limited\n",
      "Century Plyboards (India) Limited\n",
      "Century Textiles & Industries Limited\n",
      "Cera Sanitaryware Limited\n",
      "Cerebra Integrated Technologies Limited\n",
      "CESC Limited\n",
      "CESC Ventures Limited\n",
      "Capri Global Capital Limited\n",
      "CG Power and Industrial Solutions Limited\n",
      "Chalet Hotels Limited\n",
      "Chambal Fertilizers & Chemicals Limited\n",
      "Chemfab Alkalis Limited\n",
      "Chennai Petroleum Corporation Limited\n",
      "Cholamandalam Investment and Finance Company Limited\n",
      "Cholamandalam Financial Holdings Limited\n",
      "Chromatic India Limited\n",
      "Cigniti Technologies Limited\n",
      "Cimmco Limited\n",
      "Cineline India Limited\n",
      "Cinevista Limited\n",
      "Cipla Limited\n",
      "Cox & Kings Financial Service Limited\n",
      "CL Educate Limited\n",
      "Clariant Chemicals (India) Limited\n",
      "CMI Limited\n",
      "CIL Nova Petrochemicals Limited\n",
      "Coal India Limited\n",
      "Cochin Shipyard Limited\n",
      "Coffee Day Enterprises Limited\n",
      "Colgate Palmolive (India) Limited\n",
      "Compuage Infocom Limited\n",
      "Compucom Software Limited\n",
      "Container Corporation of India Limited\n",
      "Confidence Petroleum India Limited\n",
      "Consolidated Finvest & Holdings Limited\n",
      "Control Print Limited\n",
      "Coral India Finance & Housing Limited\n",
      "Cords Cable Industries Limited\n",
      "Coromandel International Limited\n",
      "Corporation Bank\n",
      "Cosmo Films Limited\n",
      "Country Condo’s Limited\n",
      "Cox & Kings Limited\n",
      "Creative Peripherals and Distribution Limited\n",
      "Creative Eye Limited\n",
      "CREDITACCESS GRAMEEN LIMITED\n",
      "Crest Ventures Limited\n",
      "CRISIL Limited\n",
      "Crompton Greaves Consumer Electricals Limited\n",
      "Cambridge Technology Enterprises Limited\n",
      "City Union Bank Limited\n",
      "Cubex Tubings Limited\n",
      "Cummins India Limited\n",
      "Cupid Limited\n",
      "Cura Technologies Limited\n",
      "Cyber Media (India) Limited\n",
      "Cybertech Systems And Software Limited\n",
      "Cyient Limited\n",
      "LT Foods Limited\n",
      "Dabur India Limited\n",
      "Dalmia Bharat Limited\n",
      "Dalmia Bharat Sugar and Industries Limited\n",
      "Damodar Industries Limited\n",
      "Datamatics Global Services Limited\n",
      "D.B.Corp Limited\n",
      "Dilip Buildcon Limited\n",
      "D B Realty Limited\n",
      "DB (International) Stock Brokers Limited\n",
      "Dishman Carbogen Amcis Limited\n",
      "DCB Bank Limited\n",
      "DCM Limited\n",
      "DCM Financial Services Limited\n",
      "DCM Nouvelle Limited\n",
      "DCM Shriram Limited\n",
      "DCW Limited\n",
      "Deccan Cements Limited\n",
      "Deepak Fertilizers and Petrochemicals Corporation Limited\n",
      "Deepak Nitrite Limited\n",
      "Deep Industries Limited\n",
      "Delta Corp Limited\n",
      "Delta Magnets Limited\n",
      "Den Networks Limited\n",
      "De Nora India Limited\n",
      "DFM Foods Limited\n",
      "Digicontent Limited\n",
      "Dhampur Sugar Mills Limited\n",
      "Dhanlaxmi Bank Limited\n",
      "Dhanuka Agritech Limited\n",
      "Dharani Sugars & Chemicals Limited\n",
      "Dewan Housing Finance Corporation Limited\n",
      "Dhunseri Investments Limited\n",
      "Prataap Snacks Limited\n",
      "Diamond Power Infra Ltd\n",
      "DIC India Limited\n",
      "DiGiSPICE Technologies Limited\n",
      "Digjam Limited\n",
      "Dish TV India Limited\n",
      "Divi’s Laboratories Limited\n",
      "Dixon Technologies (India) Limited\n",
      "DLF Limited\n",
      "D-Link (India) Limited\n",
      "Avenue Supermarts Limited\n",
      "Diligent Media Corporation Limited\n",
      "Dolat Investments Limited\n",
      "Dollar Industries Limited\n",
      "Donear Industries Limited\n",
      "DPSC Limited\n",
      "DQ Entertainment (International) Limited\n",
      "Dredging Corporation of India Limited\n",
      "Dr. Reddy’s Laboratories Limited\n",
      "Dynacons Systems & Solutions Limited\n",
      "Dhunseri Tea & Industries Limited\n",
      "Ducon Infratechnologies Limited\n",
      "Dhunseri Ventures Limited\n",
      "Dwarikesh Sugar Industries Limited\n",
      "Dynamatic Technologies Limited\n",
      "Dynemic Products Limited\n",
      "Eastern Silk Industries Limited\n",
      "Easun Reyrolle Limited\n",
      "eClerx Services Limited\n",
      "Edelweiss Financial Services Limited\n",
      "Empee Distilleries Limited\n",
      "Educomp Solutions Limited\n",
      "Eicher Motors Limited\n",
      "EID Parry India Limited\n",
      "EIH Associated Hotels Limited\n",
      "EIH Limited\n",
      "Eimco Elecon (India) Limited\n",
      "Everest Kanto Cylinder Limited\n",
      "Elecon Engineering Company Limited\n",
      "Electrosteel Castings Limited\n",
      "Electrotherm (India) Limited\n",
      "Elgi Equipments Limited\n",
      "Elgi Rubber Company Limited\n",
      "Emami Limited\n",
      "Emami Paper Mills Limited\n",
      "Emami Realty Limited\n",
      "Emco Limited\n",
      "Emkay Global Financial Services Limited\n",
      "Emmbi Industries Limited\n",
      "Endurance Technologies Limited\n",
      "Energy Development Company Limited\n",
      "Engineers India Limited\n",
      "Entertainment Network (India) Limited\n",
      "Eon Electric Limited\n",
      "Equitas Holdings Limited\n",
      "Eris Lifesciences Limited\n",
      "Eros International Media Limited\n",
      "Esab India Limited\n",
      "Escorts Limited\n",
      "Essar Shipping Limited\n",
      "Essel Propack Limited\n",
      "Ester Industries Limited\n",
      "Euro Ceramics Limited\n",
      "Euro Multivision Limited\n",
      "Eurotex Industries and Exports Limited\n",
      "Eveready Industries India Limited\n",
      "Everest Industries Limited\n",
      "Excel Realty N Infra Limited\n",
      "Excel Industries Limited\n",
      "Exide Industries Limited\n",
      "Expleo Solutions Limited\n",
      "Fertilizers and Chemicals Travancore Limited\n",
      "Fairchem Speciality Limited\n",
      "Fineotex Chemical Limited\n",
      "Future Consumer Limited\n",
      "FCS Software Solutions Limited\n",
      "FDC Limited\n",
      "The Federal Bank Limited\n",
      "Future Enterprises Limited\n",
      "Future Enterprises Limited\n",
      "Fiem Industries Limited\n",
      "Filatex India Limited\n",
      "Finolex Cables Limited\n",
      "Fine Organic Industries Limited\n",
      "Finolex Industries Limited\n",
      "Flexituff Ventures International Limited\n",
      "Future Lifestyle Fashions Limited\n",
      "Gujarat Fluorochemicals Limited\n",
      "Federal-Mogul Goetze (India) Limited.\n",
      "Future Market Networks Limited\n",
      "FORCE MOTORS LTD\n",
      "Fortis Healthcare Limited\n",
      "Foseco India Limited\n",
      "Future Retail Limited\n",
      "Future Supply Chain Solutions Limited\n",
      "Firstsource Solutions Limited\n",
      "Gabriel India Limited\n",
      "Gujarat Ambuja Exports Limited\n",
      "GAIL (India) Limited\n",
      "Gyscoal Alloys Limited\n",
      "Galaxy Surfactants Limited\n",
      "Gallantt Metal Limited\n",
      "Gallantt Ispat Limited\n",
      "Gammon Infrastructure Projects Limited\n",
      "Gandhi Special Tubes Limited\n",
      "Ganesha Ecosphere Limited\n",
      "Ganesh Housing Corporation Limited\n",
      "Ganges Securities Limited\n",
      "Gangotri Textiles Limited\n",
      "Garden Silk Mills Limited\n",
      "Garware Technical Fibres Limited\n",
      "GATI Limited\n",
      "Gayatri Highways Limited\n",
      "Gayatri Projects Limited\n",
      "Gateway Distriparks Limited\n",
      "GeeCee Ventures Limited\n",
      "Genesys International Corporation Limited\n",
      "Genus Paper & Boards Limited\n",
      "Genus Power Infrastructures Limited\n",
      "Geojit Financial Services Limited\n",
      "GE Power India Limited\n",
      "The Great Eastern Shipping Company Limited\n",
      "GE T&D India Limited\n",
      "GFL Limited\n",
      "GHCL Limited\n",
      "GIC Housing Finance Limited\n",
      "General Insurance Corporation of India\n",
      "Gillanders Arbuthnot & Company Limited\n",
      "Gillette India Limited\n",
      "Ginni Filaments Limited\n",
      "Gujarat Industries Power Company Limited\n",
      "GI Engineering Solutions Limited\n",
      "GKW Limited\n",
      "GlaxoSmithKline Pharmaceuticals Limited\n",
      "Glenmark Pharmaceuticals Limited\n",
      "Gujarat Lease Financing Limited\n",
      "Global Vectra Helicorp Limited\n",
      "Global Offshore Services Limited\n",
      "Globus Spirits Limited\n",
      "GM Breweries Limited\n",
      "Gujarat Mineral Development Corporation Limited\n",
      "GMM Pfaudler Limited\n",
      "GMR Infrastructure Limited\n",
      "GNA Axles Limited\n",
      "Gujarat Narmada Valley Fertilizers and Chemicals Limited\n",
      "Goa Carbon Limited\n",
      "GOCL Corporation Limited\n",
      "Godfrey Phillips India Limited\n",
      "Godrej Agrovet Limited\n",
      "Godrej Consumer Products Limited\n",
      "Godrej Industries Limited\n",
      "Godrej Properties Limited\n",
      "Goenka Diamond and Jewels Limited\n",
      "Gokaldas Exports Limited\n",
      "Gokul Refoils and Solvent Limited\n",
      "Gokul Agro Resources Limited\n",
      "Golden Tobacco Limited\n",
      "Goldiam International Limited\n",
      "Goldstone Technologies Limited\n",
      "Goodluck India Limited\n",
      "Godawari Power And Ispat limited\n",
      "Gujarat Pipavav Port Limited\n",
      "GPT Infraprojects Limited\n",
      "Granules India Limited\n",
      "Graphite India Limited\n",
      "Grasim Industries Limited\n",
      "Gravita India Limited\n",
      "Greaves Cotton Limited\n",
      "Greenlam Industries Limited\n",
      "Greenpanel Industries Limited\n",
      "Greenply Industries Limited\n",
      "Orient Green Power Company Limited\n",
      "Grindwell Norton Limited\n",
      "The Grob Tea Company Limited\n",
      "GRP Limited\n",
      "Garden Reach Shipbuilders & Engineers Limited\n",
      "Gujarat Sidhee Cement Limited\n",
      "Gujarat State Fertilizers & Chemicals Limited\n",
      "GlaxoSmithKline Consumer Healthcare Limited\n",
      "Gujarat State Petronet Limited\n",
      "GSS Infotech Limited\n",
      "GTL Limited\n",
      "GTL Infrastructure Limited\n",
      "GTN Industries Limited\n",
      "GTN Textiles Limited\n",
      "GTPL Hathway Limited\n",
      "Gufic Biosciences Limited\n",
      "Gujarat Alkalies and Chemicals Limited\n",
      "Gujarat Apollo Industries Limited\n",
      "Gujarat Gas Limited\n",
      "Gujarat Raffia Industries Limited\n",
      "Gulf Oil Lubricants India Limited\n",
      "GP Petroleums Limited\n",
      "Gulshan Polyols Limited\n",
      "GVK Power & Infrastructure Limited\n",
      "Hindustan Aeronautics Limited\n",
      "Harita Seating Systems Limited\n",
      "Harrisons Malayalam  Limited\n",
      "Hathway Cable & Datacom Limited\n",
      "Hatsun Agro Product Limited\n",
      "Havells India Limited\n",
      "Sri Havisha Hospitality and Infrastructure Limited\n",
      "HBL Power Systems Limited\n",
      "HB Stockholdings Limited\n",
      "Hindustan Construction Company Limited\n",
      "Healthcare Global Enterprises Limited\n",
      "HCL Infosystems Limited\n",
      "HCL Technologies Limited\n",
      "Housing Development Finance Corporation Limited\n",
      "HDFC Asset Management Company Limited\n",
      "HDFC Bank Limited\n",
      "HDFC Life Insurance Company Limited\n",
      "Housing Development and Infrastructure Limited\n",
      "HEG Limited\n",
      "HeidelbergCement India Limited\n",
      "Hercules Hoists Limited\n",
      "Heritage Foods Limited\n",
      "Hero MotoCorp Limited\n",
      "Hester Biosciences Limited\n",
      "Hexa Tradex Limited\n",
      "Hexaware Technologies Limited\n",
      "HFCL Limited\n",
      "H.G. Infra Engineering Limited\n",
      "Hinduja Global Solutions Limited\n",
      "Hikal Limited\n",
      "HIL Limited\n",
      "Hilton Metal Forging Limited\n",
      "Himatsingka Seide Limited\n",
      "Hindalco Industries Limited\n",
      "Hindustan Composites Limited\n",
      "Hindustan Copper Limited\n",
      "Hindustan Motors Limited\n",
      "Hindusthan National Glass & Industries Limited\n",
      "Hindustan Oil Exploration Company Limited\n",
      "Hindustan Petroleum Corporation Limited\n",
      "Hind Syntex Limited\n",
      "Hindustan Unilever Limited\n",
      "Hindustan Zinc Limited\n",
      "Hind Rectifiers Limited\n",
      "Hisar Metal Industries Limited\n",
      "Hi-Tech Pipes Limited\n",
      "Hitech Corporation Limited\n",
      "The Hi-Tech Gears Limited\n",
      "HMT Limited\n",
      "Hindustan Media Ventures Limited\n",
      "Hindustan Foods Limited\n",
      "Honeywell Automation India Limited\n",
      "Honda Siel Power Products Limited\n",
      "Hotel Leela Venture Limited\n",
      "Hotel Rugby Limited\n",
      "HOV Services Limited\n",
      "HPL Electric & Power Limited\n",
      "Himadri Speciality Chemical Limited\n",
      "HSIL Limited\n",
      "HT Media Limited\n",
      "Hubtown Limited\n",
      "Housing & Urban Development Corporation Limited\n",
      "Indiabulls Real Estate Limited\n",
      "Indiabulls Housing Finance Limited\n",
      "Indiabulls Integrated Services Limited\n",
      "Indiabulls Ventures Limited\n",
      "ICICI Bank Limited\n",
      "ICICI Lombard General Insurance Company Limited\n",
      "ICICI Prudential Life Insurance Company Limited\n",
      "Indo Count Industries Limited\n",
      "ICRA Limited\n",
      "IDBI Bank Limited\n",
      "Vodafone Idea Limited\n",
      "IDFC Limited\n",
      "IDFC First Bank Limited\n",
      "Indian Energy Exchange Limited\n",
      "IFB Agro Industries Limited\n",
      "IFB Industries Limited\n",
      "IFCI Limited\n",
      "IFGL Refractories Limited\n",
      "Igarashi Motors India Limited\n",
      "Indraprastha Gas Limited\n",
      "IG Petrochemicals Limited\n",
      "IIFL Finance Limited\n",
      "IIFL Securities Limited\n",
      "Iifl Wealth Management Limited\n",
      "Industrial Investment Trust Limited\n",
      "IL&FS Engineering and Construction Company Limited\n",
      "IL&FS Transportation Networks Limited\n",
      "Indian Metals & Ferro Alloys Limited\n",
      "India Motor Parts and Accessories Limited\n",
      "Impex Ferro Tech Limited\n",
      "Indbank Merchant Banking Services Limited\n",
      "The Indian Hotels Company Limited\n",
      "The India Cements Limited\n",
      "India Glycols Limited\n",
      "Indiamart Intermesh Limited\n",
      "Indian Bank\n",
      "Indian Card Clothing Company Limited\n",
      "Indian Hume Pipe Company Limited\n",
      "InterGlobe Aviation Limited\n",
      "IMP Powers Limited\n",
      "India Nippon Electricals Limited\n",
      "Indoco Remedies Limited\n",
      "Indo Rama Synthetics (India) Limited\n",
      "Indosolar Limited\n",
      "IndoStar Capital Finance Limited\n",
      "Indo Tech Transformers Limited\n",
      "Indo Thai Securities Limited\n",
      "Indowind Energy Limited\n",
      "Indraprastha Medical Corporation Limited\n",
      "Ind-Swift Laboratories Limited\n",
      "Ind-Swift Limited\n",
      "Indian Terrain Fashions Limited\n",
      "IndusInd Bank Limited\n",
      "INEOS Styrolution India Limited\n",
      "Infibeam Avenues Limited\n",
      "InfoBeans Technologies Limited\n",
      "Bharti Infratel Limited\n",
      "Infosys Limited\n",
      "Ingersoll Rand (India) Limited\n",
      "INOX Leisure Limited\n",
      "Inox Wind Limited\n",
      "Insecticides (India) Limited\n",
      "Inspirisys Solutions Limited\n",
      "Integra Garments and Textiles Limited\n",
      "Intellect Design Arena Limited\n",
      "Intense Technologies Limited\n",
      "Inventure Growth & Securities Limited\n",
      "Indian Overseas Bank\n",
      "Indian Oil Corporation Limited\n",
      "IOL Chemicals and Pharmaceuticals Limited\n",
      "International Paper APPM Limited\n",
      "IPCA Laboratories Limited\n",
      "IRB Infrastructure Developers Limited\n",
      "Ircon International Limited\n",
      "Indian Railway Catering And Tourism Corporation Limited\n",
      "ICICI Securities Limited\n",
      "Intrasoft Technologies Limited\n",
      "ISMT Limited\n",
      "ITC Limited\n",
      "India Tourism Development Corporation Limited\n",
      "ITD Cementation India Limited\n",
      "ITI Limited\n",
      "IL&FS Investment Managers Limited\n",
      "IVP Limited\n",
      "IVRCL Limited\n",
      "IZMO Limited\n",
      "The Jammu & Kashmir Bank Limited\n",
      "Jagran Prakashan Limited\n",
      "Jagsonpal Pharmaceuticals Limited\n",
      "Jai Balaji Industries Limited\n",
      "Jai Corp Limited\n",
      "Jaihind Projects Limited\n",
      "Jain Studios Limited\n",
      "Jamna Auto Industries Limited\n",
      "Jash Engineering Limited\n",
      "Jayant Agro Organics Limited\n",
      "Jay Bharat Maruti Limited\n",
      "Jayaswal Neco Industries Limited\n",
      "Jayshree Tea & Industries Limited\n",
      "JB Chemicals & Pharmaceuticals Limited\n",
      "JBF Industries Limited\n",
      "JBM Auto Limited\n",
      "Johnson Controls – Hitachi Air Conditioning India Limited\n",
      "Jet Airways (India) Limited\n",
      "JHS Svendgaard Laboratories Limited\n",
      "JIK Industries Limited\n",
      "Jindal Photo Limited\n",
      "Jindal Poly Films Limited\n",
      "Jindal Saw Limited\n",
      "Jindal Steel & Power Limited\n",
      "Jindal Cotex Limited\n",
      "Jindal Drilling And Industries Limited\n",
      "Jindal Worldwide Limited\n",
      "Jain Irrigation Systems Limited\n",
      "Jain Irrigation Systems Limited\n",
      "JITF Infralogistics Limited\n",
      "Jiya Eco-Products Limited\n",
      "JK Cement Limited\n",
      "J.Kumar Infraprojects Limited\n",
      "JK Lakshmi Cement Limited\n",
      "JK Paper Limited\n",
      "JK Tyre & Industries Limited\n",
      "Jullundur Motor Agency (Delhi) Limited\n",
      "JMC Projects (India) Limited\n",
      "JM Financial Limited\n",
      "JMT Auto Limited\n",
      "Jocil Limited\n",
      "Jaiprakash Associates Limited\n",
      "Jaypee Infratech Limited\n",
      "Jindal Poly Investment and Finance Company Limited\n",
      "Jaiprakash Power Ventures Limited\n",
      "Jindal Stainless Limited\n",
      "Jindal Stainless (Hisar) Limited\n",
      "JSW Energy Limited\n",
      "JSW Holdings Limited\n",
      "JSW Steel Limited\n",
      "Jtekt India Limited\n",
      "Jubilant Life Sciences Limited\n",
      "Jubilant Foodworks Limited\n",
      "Jubilant Industries Limited\n",
      "Jump Networks Limited\n",
      "Just Dial Limited\n",
      "JVL Agro Industries Limited\n",
      "Jyothy Labs Limited\n",
      "Kabra Extrusion Technik Limited\n",
      "Kajaria Ceramics Limited\n",
      "Kakatiya Cement Sugar & Industries Limited\n",
      "Kalpataru Power Transmission Limited\n",
      "Kalyani Commercials Limited\n",
      "Kalyani Forge Limited\n",
      "Kamat Hotels (I) Limited\n",
      "Kamdhenu Limited\n",
      "Kanani Industries Limited\n",
      "Kanoria Chemicals & Industries Limited\n",
      "Kansai Nerolac Paints Limited\n",
      "Karda Constructions Limited\n",
      "Karma Energy Limited\n",
      "Karur Vysya Bank Limited\n",
      "Kaushalya Infrastructure Development Corporation Limited\n",
      "Kavveri Telecom Products Limited\n",
      "Kaya Limited\n",
      "KCP Limited\n",
      "KCP Sugar and Industries Corporation Limited\n",
      "KDDL Limited\n",
      "KEC International Limited\n",
      "Kirloskar Electric Company Limited\n",
      "KEI Industries Limited\n",
      "Kellton Tech Solutions Limited\n",
      "Kennametal India Limited\n",
      "Kernex Microsystems (India) Limited\n",
      "Kesar Enterprises Limited\n",
      "Kesoram Industries Limited\n",
      "Keynote Financial Services Limited\n",
      "Karuturi Global Limited\n",
      "Khadim India Limited\n",
      "Khaitan (India) Limited\n",
      "Khandwala Securities Limited\n",
      "Kalyani Investment Company Limited\n",
      "Kilitch Drugs (India) Limited\n",
      "Kingfa Science & Technology (India) Limited\n",
      "KIOCL Limited\n",
      "Kiri Industries Limited\n",
      "Kirloskar Brothers Limited\n",
      "Kirloskar Oil Engines Limited\n",
      "Kirloskar Industries Limited\n",
      "Kitex Garments Limited\n",
      "Kewal Kiran Clothing Limited\n",
      "K.M.Sugar Mills Limited\n",
      "KNR Constructions Limited\n",
      "Kohinoor Foods Limited\n",
      "Kokuyo Camlin Limited\n",
      "Kolte – Patil Developers Limited\n",
      "Kopran Limited\n",
      "Kotak Mahindra Bank Limited\n",
      "Kothari Sugars And Chemicals Limited\n",
      "Kothari Petrochemicals Limited\n",
      "Kothari Products Limited\n",
      "KPIT Technologies Limited\n",
      "K.P.R. Mill Limited\n",
      "KRBL Limited\n",
      "Krebs Biochemicals and Industries Limited\n",
      "Kridhan Infra Limited\n",
      "Krishana Phoschem Limited\n",
      "Ksb Limited\n",
      "Kaveri Seed Company Limited\n",
      "KSS Limited\n",
      "KSK Energy Ventures Limited\n",
      "Kalyani Steels Limited\n",
      "Kesar Terminals & Infrastructure Limited\n",
      "The Karnataka Bank Limited\n",
      "Kuantum Papers Limited\n",
      "kwality limited\n",
      "L&T Finance Holdings Limited\n",
      "Lakshmi Precision Screws Limited\n",
      "Lakshmi Vilas Bank Limited\n",
      "Dr. Lal Path Labs Ltd.\n",
      "Lambodhara Textiles Limited\n",
      "La Opala RG Limited\n",
      "Lasa Supergenerics Limited\n",
      "Laurus Labs Limited\n",
      "Lakshmi Machine Works Limited\n",
      "Lemon Tree Hotels Limited\n",
      "Lakshmi Finance & Industrial Corporation Limited\n",
      "LG Balakrishnan & Bros Limited\n",
      "LGB Forge Limited\n",
      "Libas Designs Limited\n",
      "Libas Designs Limited\n",
      "Liberty Shoes Limited\n",
      "LIC Housing Finance Limited\n",
      "Lincoln Pharmaceuticals Limited\n",
      "Linc Pen & Plastics Limited\n",
      "Linde India Limited\n",
      "Lokesh Machines Limited\n",
      "Lotus Eye Hospital and Institute Limited\n",
      "Lovable Lingerie Limited\n",
      "Landmark Property Development Company Limited\n",
      "Lloyds Steels Industries Limited\n",
      "Larsen & Toubro Limited\n",
      "Larsen & Toubro Infotech Limited\n",
      "L&T Technology Services Limited\n",
      "Lumax Industries Limited\n",
      "Lumax Auto Technologies Limited\n",
      "Lupin Limited\n",
      "Lux Industries Limited\n",
      "Lyka Labs Limited\n",
      "Lypsa Gems & Jewellery Limited\n",
      "Mahindra & Mahindra Limited\n",
      "Mahindra & Mahindra Financial Services Limited\n",
      "Maan Aluminium Limited\n",
      "Madhav Marbles and Granites Limited\n",
      "Madhucon Projects Limited\n",
      "Madras Fertilizers Limited\n",
      "Magadh Sugar & Energy Limited\n",
      "Magma Fincorp Limited\n",
      "Magnum Ventures Limited\n",
      "Bank of Maharashtra\n",
      "Maha Rashtra Apex Corporation Limited\n",
      "Mahamaya Steel Industries Limited\n",
      "Maheshwari Logistics Limited\n",
      "Mahindra CIE Automotive Limited\n",
      "Mahindra Lifespace Developers Limited\n",
      "Mahindra Logistics Limited\n",
      "Maharashtra Scooters Limited\n",
      "Maharashtra Seamless Limited\n",
      "Maithan Alloys Limited\n",
      "Majesco Limited\n",
      "Malu Paper Mills Limited\n",
      "Manaksia Aluminium Company Limited\n",
      "Manaksia Coated Metals & Industries Limited\n",
      "Manaksia Limited\n",
      "Manaksia Steels Limited\n",
      "Manali Petrochemicals Limited\n",
      "Manappuram Finance Limited\n",
      "Mangalam Drugs And Organics Limited\n",
      "Mangalore Chemicals & Fertilizers Limited\n",
      "Mangalam Cement Limited\n",
      "Mangalam Timber Products Limited\n",
      "Man Industries (India) Limited\n",
      "Man Infraconstruction Limited\n",
      "Manpasand Beverages Limited\n",
      "Manugraph India Limited\n",
      "Maral Overseas Limited\n",
      "Marathon Nextgen Realty Limited\n",
      "Marico Limited\n",
      "Marksans Pharma Limited\n",
      "Maruti Suzuki India Limited\n",
      "MAS Financial Services Limited\n",
      "Mask Investments Limited\n",
      "Mastek Limited\n",
      "Matrimony.Com Limited\n",
      "Mawana Sugars Limited\n",
      "Max India Limited\n",
      "Max Ventures and Industries Limited\n",
      "Mayur Uniquoters Ltd\n",
      "Mazda Limited\n",
      "Madhya Bharat Agro Products Limited\n",
      "Mcnally Bharat Engineering Company Limited\n",
      "MBL Infrastructures Limited\n",
      "McDowell Holdings Limited\n",
      "United Spirits Limited\n",
      "Mcleod Russel India Limited\n",
      "Multi Commodity Exchange of India Limited\n",
      "Megasoft Limited\n",
      "Meghmani Organics Limited\n",
      "Melstar Information Technologies Limited\n",
      "Menon Bearings Limited\n",
      "MEP Infrastructure Developers Limited\n",
      "Mercator Limited\n",
      "Metalyst Forgings Limited\n",
      "Metkore Alloys & Industries Limited\n",
      "Metropolis Healthcare Limited\n",
      "Max Financial Services Limited\n",
      "Mahanagar Gas Limited\n",
      "Mahindra Holidays & Resorts India Limited\n",
      "MIC Electronics Limited\n",
      "Mishra Dhatu Nigam Limited\n",
      "Minda Corporation Limited\n",
      "Minda Industries Limited\n",
      "Mindteck (India) Limited\n",
      "MindTree Limited\n",
      "MIRC Electronics Limited\n",
      "Mirza International Limited\n",
      "MM Forgings Limited\n",
      "MMTC Limited\n",
      "Modi Rubber Limited\n",
      "Mohit Industries Limited\n",
      "Mohota Industries Limited\n",
      "MOIL Limited\n",
      "Mold-Tek Technologies Limited\n",
      "Mold-Tek Packaging Limited\n",
      "Monte Carlo Fashions Limited\n",
      "Morarjee Textiles Limited\n",
      "Morepen Laboratories Limited\n",
      "Motherson Sumi Systems Limited\n",
      "Motilal Oswal Financial Services Limited\n",
      "The Motor & General Finance Limited\n",
      "MphasiS Limited\n",
      "MPS Limited\n",
      "MRF Limited\n",
      "MRO-TEK Realty Limited\n",
      "Mangalore Refinery and Petrochemicals Limited\n",
      "MSP Steel & Power Limited\n",
      "Mstc Limited\n",
      "MT Educare Limited\n",
      "Mahanagar Telephone Nigam Limited\n",
      "Mukand Engineers Limited\n",
      "Mukand Limited\n",
      "Mukta Arts Limited\n",
      "Munjal Auto Industries Limited\n",
      "Munjal Showa Limited\n",
      "Murudeshwar Ceramics Limited\n",
      "Muthoot Capital Services Limited\n",
      "Muthoot Finance Limited\n",
      "MVL Limited\n",
      "NACL Industries Limited\n",
      "Nagarjuna Fertilizers and Chemicals Limited\n",
      "Nagarjuna Oil Refinery Limited\n",
      "Nagreeka Capital & Infrastructure Limited\n",
      "Nagreeka Exports Limited\n",
      "Nahar Capital and Financial Services Limited\n",
      "Nahar Industrial Enterprises Limited\n",
      "Nahar Poly Films Limited\n",
      "Nahar Spinning Mills Limited\n",
      "Natco Pharma Limited\n",
      "Nath Bio-Genes (India) Limited\n",
      "National Aluminium Company Limited\n",
      "National Steel And Agro Industries Limited\n",
      "Info Edge (India) Limited\n",
      "Navin Fluorine International Limited\n",
      "Navkar Corporation Limited\n",
      "Navneet Education Limited\n",
      "NBCC (India) Limited\n",
      "N. B. I. Industrial Finance Company Limited\n",
      "Nava Bharat Ventures Limited\n",
      "NCC Limited\n",
      "NCL Industries Limited\n",
      "Naga Dhunseri Group Limited\n",
      "Nandan Denim Limited\n",
      "New Delhi Television Limited\n",
      "North Eastern Carrying Corporation Limited\n",
      "Nectar Lifesciences Limited\n",
      "Nelcast Limited\n",
      "NELCO Limited\n",
      "Neogen Chemicals Limited\n",
      "Nesco Limited\n",
      "Nestle India Limited\n",
      "Network18 Media & Investments Limited\n",
      "Neuland Laboratories Limited\n",
      "Newgen Software Technologies Limited\n",
      "Next Mediaworks Limited\n",
      "National Fertilizers Limited\n",
      "Narayana Hrudayalaya Ltd.\n",
      "NHPC Limited\n",
      "The New India Assurance Company Limited\n",
      "NRB Industrial Bearings Limited\n",
      "NIIT Limited\n",
      "NIIT Technologies Limited\n",
      "Nila Infrastructures Limited\n",
      "Nila Spaces Limited\n",
      "Nilkamal Limited\n",
      "Indo-National Limited\n",
      "Niraj Ispat Industries Limited\n",
      "Nitco Limited\n",
      "Nitin Fire Protection Industries Limited\n",
      "Nitin Spinners Limited\n",
      "NK Industries Limited\n",
      "NLC India Limited\n",
      "NMDC Limited\n",
      "NOCIL Limited\n",
      "Noida Toll Bridge Company Limited\n",
      "Norben Tea & Exports Limited\n",
      "N R Agarwal Industries Limited\n",
      "NRB Bearing Limited\n",
      "Nalwa Sons Investments Limited\n",
      "Neueon Towers Limited\n",
      "NTPC Limited\n",
      "Nucleus Software Exports Limited\n",
      "NXTDIGITAL LIMITED\n",
      "Oriental Aromatics Limited\n",
      "Oberoi Realty Limited\n",
      "Oriental Carbon & Chemicals Limited\n",
      "Oracle Financial Services Software Limited\n",
      "Oil India Limited\n",
      "Oil Country Tubular Limited\n",
      "OCL Iron and Steel Limited\n",
      "Olectra Greentech Limited\n",
      "Omax Autos Limited\n",
      "Omaxe Limited\n",
      "Omkar Speciality Chemicals Limited\n",
      "OM Metals Infraprojects Limited\n",
      "Onelife Capital Advisors Limited\n",
      "One Point One Solutions Limited\n",
      "Oil & Natural Gas Corporation Limited\n",
      "OnMobile Global Limited\n",
      "Onward Technologies Limited\n",
      "Optiemus Infracom Limited\n",
      "Opto Circuits (India) Limited\n",
      "Orbit Exports Limited\n",
      "Oricon Enterprises Limited\n",
      "Orient Abrasives Limited\n",
      "Oriental Trimex Limited\n",
      "Oriental Bank of Commerce\n",
      "Orient Bell Limited\n",
      "Orient Cement Limited\n",
      "Orient Electric Limited\n",
      "Oriental Hotels Limited\n",
      "Orient Press Limited\n",
      "Orient Paper & Industries Limited\n",
      "Orient Refractories Limited\n",
      "The Orissa Minerals Development Company Limited\n",
      "Ortel Communications Limited\n",
      "Ortin Laboratories Limited\n",
      "Oswal Agro Mills Limited\n",
      "PAE Limited\n",
      "Page Industries Limited\n",
      "Paisalo Digital Limited\n",
      "Palash Securities Limited\n",
      "Palred Technologies Limited\n",
      "Panacea Biotec Limited\n",
      "Panama Petrochem Limited\n",
      "Huhtamaki PPL Limited\n",
      "Parabolic Drugs Limited\n",
      "Paramount Communications Limited\n",
      "Parag Milk Foods Limited\n",
      "Parsvnath Developers Limited\n",
      "Patel Engineering Limited\n",
      "Patel Integrated Logistics Limited\n",
      "Patspin India Limited\n",
      "PC Jeweller Limited\n",
      "Pudumjee Paper Products Limited\n",
      "Parenteral Drugs (India) Limited\n",
      "PDS Multinational Fashions Limited\n",
      "Pearl Polymers Limited\n",
      "Piramal Enterprises Limited\n",
      "Pennar Industries Limited\n",
      "Peninsula Land Limited\n",
      "Persistent Systems Limited\n",
      "Petron Engineering Construction Limited\n",
      "Petronet LNG Limited\n",
      "Power Finance Corporation Limited\n",
      "Pfizer Limited\n",
      "Prime Focus Limited\n",
      "PTC India Financial Services Limited\n",
      "PG Electroplast Limited\n",
      "Procter & Gamble Hygiene and Health Care Limited\n",
      "Procter & Gamble Health Limited\n",
      "Pearl Global Industries Limited\n",
      "Phillips Carbon Black Limited\n",
      "The Phoenix Mills Limited\n",
      "Pidilite Industries Limited\n",
      "PI Industries Limited\n",
      "Pilani Investment and Industries Corporation Limited\n",
      "PIL ITALICA LIFESTYLE LIMITED\n",
      "Pioneer Distilleries Limited\n",
      "Pioneer Embroideries Limited\n",
      "Piramal Phytocare Limited\n",
      "Pitti Engineering Limited\n",
      "The Peria Karamalai Tea & Produce Company Limited\n",
      "Plastiblends India Limited\n",
      "Punjab National Bank\n",
      "PNB Gilts Limited\n",
      "PNB Housing Finance Limited\n",
      "Pritish Nandy Communications Limited\n",
      "PNC Infratech Limited\n",
      "Poddar Housing and Development Limited\n",
      "Poddar Pigments Limited\n",
      "Pokarna Limited\n",
      "Polycab India Limited\n",
      "Poly Medicure Limited\n",
      "Polyplex Corporation Limited\n",
      "Ponni Sugars (Erode) Limited\n",
      "Power Grid Corporation of India Limited\n",
      "Power Mech Projects Limited\n",
      "PPAP Automotive Limited\n",
      "Prakash Pipes Limited\n",
      "Prabhat Dairy Limited\n",
      "Pradip Overseas Limited\n",
      "Prajay Engineers Syndicate Limited\n",
      "Praj Industries Limited\n",
      "Prakash Industries Limited\n",
      "Prakash Steelage Limited\n",
      "Praxis Home Retail Limited\n",
      "Precision Camshafts Limited\n",
      "Precot Meridian Limited\n",
      "Precision Wires India Limited\n",
      "Premier Explosives Limited\n",
      "Premier Limited\n",
      "Premier Polyfilm Limited\n",
      "Pressman Advertising Limited\n",
      "Prestige Estates Projects Limited\n",
      "Pricol Limited\n",
      "Prime Securities Limited\n",
      "Proseed India Limited\n",
      "Provogue (India) Limited\n",
      "Prozone Intu Properties Limited\n",
      "Prism Johnson Limited\n",
      "Punjab & Sind Bank\n",
      "PSL Limited\n",
      "PSP Projects Limited\n",
      "PTC India Limited\n",
      "PTL Enterprises Limited\n",
      "Punjab Chemicals & Crop Protection Limited\n",
      "Punj Lloyd Limited\n",
      "Puravankara Limited\n",
      "PVR Limited\n",
      "Quess Corp Limited\n",
      "Quick Heal Technologies Limited\n",
      "Radaan Mediaworks India Limited\n",
      "Radico Khaitan Limited\n",
      "Music Broadcast Limited\n",
      "Rain Industries Limited\n",
      "Rajesh Exports Limited\n",
      "Raj Rayon Industries Limited\n",
      "Rajshree Sugars & Chemicals Limited\n",
      "Raj Television Network Limited\n",
      "Rajvir Industries Limited\n",
      "Rallis India Limited\n",
      "Shree Rama Newsprint Limited\n",
      "Rama Steel Tubes Limited\n",
      "The Ramco Cements Limited\n",
      "Ramco Industries Limited\n",
      "Ramco Systems Limited\n",
      "Ramky Infrastructure Limited\n",
      "Ramsarup Industries Limited\n",
      "Rana Sugars Limited\n",
      "Rane Engine Valve Limited\n",
      "Rane Holdings Limited\n",
      "Ratnamani Metals & Tubes Limited\n",
      "Raymond Limited\n",
      "Rane Brake Lining Limited\n",
      "RBL Bank Limited\n",
      "Rashtriya Chemicals and Fertilizers Limited\n",
      "Reliance Communications Limited\n",
      "REC Limited\n",
      "Redington (India) Limited\n",
      "Refex Industries Limited\n",
      "Regency Ceramics Limited\n",
      "Relaxo Footwears Limited\n",
      "Reliance Capital Limited\n",
      "Reliance Industries Limited\n",
      "Religare Enterprises Limited\n",
      "Reliance Infrastructure Limited\n",
      "Remsons Industries Limited\n",
      "Shree Renuka Sugars Limited\n",
      "Repco Home Finance Limited\n",
      "Repro India Limited\n",
      "Responsive Industries Limited\n",
      "Revathi Equipment Limited\n",
      "Renaissance Global Limited\n",
      "Reliance Home Finance Limited\n",
      "Rico Auto Industries Limited\n",
      "Reliance Industrial Infrastructure Limited\n",
      "RITES Limited\n",
      "Ravi Kumar Distilleries Limited\n",
      "Ramkrishna Forgings Limited\n",
      "Radha Madhav Corporation Limited\n",
      "Rane (Madras) Limited\n",
      "Reliance Nippon Life Asset Management Limited\n",
      "Reliance Naval and Engineering Limited\n",
      "Rohit Ferro-Tech Limited\n",
      "Royal Orchid Hotels Limited\n",
      "Rollatainers Limited\n",
      "Rolta India Limited\n",
      "Rossell India Limited\n",
      "RPG Life Sciences Limited\n",
      "Reliance Power Limited\n",
      "R.P.P. Infra Projects Limited\n",
      "R. S. Software (India) Limited\n",
      "RSWM Limited\n",
      "R Systems International Limited\n",
      "RattanIndia Infrastructure Limited\n",
      "RattanIndia Power Limited\n",
      "The Ruby Mills Limited\n",
      "Ruchi Infrastructure Limited\n",
      "Ruchira Papers Limited\n",
      "Ruchi Soya Industries Limited\n",
      "Rupa & Company Limited\n",
      "Rushil Decor Limited\n",
      "Rail Vikas Nigam Limited\n",
      "Sab Events & Governance Now Media Limited\n",
      "Sri Adhikari Brothers Television Network Limited\n",
      "Sadbhav Engineering Limited\n",
      "Sadbhav Infrastructure Project Limited\n",
      "Safari Industries (India) Limited\n",
      "Sagardeep Alloys Limited\n",
      "Sagar Cements Limited\n",
      "Steel Authority of India Limited\n",
      "Sakar Healthcare Limited\n",
      "Sakthi Sugars Limited\n",
      "Saksoft Limited\n",
      "Sakuma Exports Limited\n",
      "Salasar Techno Engineering Limited\n",
      "Salona Cotspin Limited\n",
      "S.A.L. Steel Limited\n",
      "Salzer Electronics Limited\n",
      "Sambhaav Media Limited\n",
      "Sanco Industries Limited\n",
      "The Sandesh Limited\n",
      "Sandhar Technologies Limited\n",
      "Sangam (India) Limited\n",
      "Sanghi Industries Limited\n",
      "Sanghvi Forging and Engineering Limited\n",
      "Sanghvi Movers Limited\n",
      "Sanginita Chemicals Limited\n",
      "Sanofi India Limited\n",
      "Sanwaria Consumer Limited\n",
      "Sarda Energy & Minerals Limited\n",
      "Saregama India Limited\n",
      "Sarla Performance Fibers Limited\n",
      "Sasken Technologies Limited\n",
      "Sastasundar Ventures Limited\n",
      "Sathavahana Ispat Limited\n",
      "Satia Industries Limited\n",
      "Satin Creditcare Network Limited\n",
      "SBI Life Insurance Company Limited\n",
      "State Bank of India\n",
      "Stampede Capital Limited\n",
      "Schaeffler India Limited\n",
      "S Chand And Company Limited\n",
      "Schneider Electric Infrastructure Limited\n",
      "Shipping Corporation Of India Limited\n",
      "Som Distilleries & Breweries Limited\n",
      "Seamec Limited\n",
      "Selan Exploration Technology Limited\n",
      "SEL Manufacturing Company Limited\n",
      "S.E. Power Limited\n",
      "Sequent Scientific Limited\n",
      "Seshasayee Paper and Boards Limited\n",
      "Setco Automotive Limited\n",
      "Setubandhan Infrastructure Limited\n",
      "Seya Industries Limited\n",
      "Sezal Glass Limited\n",
      "Sheela Foam Limited\n",
      "STL Global Limited\n",
      "Shah Alloys Limited\n",
      "Shakti Pumps (India) Limited\n",
      "Shalby Limited\n",
      "Shalimar Paints Limited\n",
      "Shankara Building Products Limited\n",
      "Shanthi Gears Limited\n",
      "Sharda Cropchem Limited\n",
      "Sharda Motor Industries Limited\n",
      "Shemaroo Entertainment Limited\n",
      "Shilpa Medicare Limited\n",
      "Shirpur Gold Refinery Limited\n",
      "Shivam Autotech Limited\n",
      "Shiva Mills Limited\n",
      "Shiva Texyarn Limited\n",
      "S H Kelkar and Company Limited\n",
      "Shoppers Stop Limited\n",
      "Shree Digvijay Cement Co.Ltd\n",
      "SHREE CEMENT LIMITED\n",
      "Shree Pushkar Chemicals & Fertilisers Limited\n",
      "Shree Rama Multi-Tech Limited\n",
      "Shrenik Limited\n",
      "Shreyans Industries Limited\n",
      "Shreyas Shipping & Logistics Limited\n",
      "Shriram Pistons & Rings Limited\n",
      "Shriram City Union Finance Limited\n",
      "Shriram EPC Limited\n",
      "Shyam Century Ferrous Limited\n",
      "Shyam Telecom Limited\n",
      "Sicagen India Limited\n",
      "Sical Logistics Limited\n",
      "Siemens Limited\n",
      "Signet Industries Limited\n",
      "Standard Industries Limited\n",
      "SIL Investments Limited\n",
      "Simbhaoli Sugars Limited\n",
      "Simplex Infrastructures Limited\n",
      "Sintex Industries Limited\n",
      "Sirca Paints India Limited\n",
      "Security and Intelligence Services (India) Limited\n",
      "Siti Networks Limited\n",
      "Siyaram Silk Mills Limited\n",
      "SJVN Limited\n",
      "SKF India Limited\n",
      "SKIL Infrastructure Limited\n",
      "Skipper Limited\n",
      "SKM Egg Products Export (India) Limited\n",
      "Smartlink Holdings Limited\n",
      "SML Isuzu Limited\n",
      "Splendid Metal Products Limited\n"
     ]
    },
    {
     "name": "stdout",
     "output_type": "stream",
     "text": [
      "SMS Lifesciences India Limited\n",
      "SMS Pharmaceuticals Limited\n",
      "Snowman Logistics Limited\n",
      "Sobha Limited\n",
      "Solara Active Pharma Sciences Limited\n",
      "Solar Industries India Limited\n",
      "Somany Ceramics Limited\n",
      "Soma Textiles & Industries Limited\n",
      "Somi Conveyor Beltings Limited\n",
      "Sonata Software Limited\n",
      "SORIL Infra Resources Limited\n",
      "Savita Oil Technologies Limited\n",
      "The South Indian Bank Limited\n",
      "South West Pinnacle Exploration Limited\n",
      "S. P. Apparels Limited\n",
      "Spandana Sphoorty Financial Limited\n",
      "Sun Pharma Advanced Research Company Limited\n",
      "Spacenet Enterprises India Limited\n",
      "Speciality Restaurants Limited\n",
      "Spencer’s Retail Limited\n",
      "Spentex Industries Limited\n",
      "Southern Petrochemicals Industries Corporation Limited\n",
      "SPICEJET LTD\n",
      "SPL Industries Limited\n",
      "SPML Infra Limited\n",
      "Sintex Plastics Technology Limited\n",
      "Shekhawati Poly-Yarn Limited\n",
      "Sreeleathers Limited\n",
      "SREI Infrastructure Finance Limited\n",
      "SRF Limited\n",
      "Sree Rayalaseema Hi-Strength Hypo Limited\n",
      "Srikalahasthi Pipes Limited\n",
      "Shriram Transport Finance Company Limited\n",
      "Steel Strips Wheels Limited\n",
      "Stampede Capital Limited\n",
      "Strides Pharma Science Limited\n",
      "Star Cement Limited\n",
      "Star Paper Mills Limited\n",
      "The State Trading Corporation of India Limited\n",
      "Steel City Securities Limited\n",
      "STEEL EXCHANGE INDIA LIMITED\n",
      "Stel Holdings Limited\n",
      "Sterling Tools Limited\n",
      "STI India Limited\n",
      "Sterlite Technologies Limited\n",
      "International Constructions Limited\n",
      "Subex Limited\n",
      "Subros Limited\n",
      "Sudarshan Chemical Industries Limited\n",
      "Sujana Universal Industries Limited\n",
      "Sumeet Industries Limited\n",
      "Sumit Woods Limited\n",
      "Summit Securities Limited\n",
      "Sundaram Clayton Limited\n",
      "Sundaram Multi Pap Limited\n",
      "Sundaram Finance Limited\n",
      "Sundaram Finance Holdings Limited\n",
      "Sundaram Brake Linings Limited\n",
      "Sundram Fasteners Limited\n",
      "Sunflag Iron And Steel Company Limited\n",
      "Sun Pharmaceutical Industries Limited\n",
      "Sunteck Realty Limited\n",
      "Sun TV Network Limited\n",
      "Superhouse Limited\n",
      "Super Spinning Mills Limited\n",
      "Supreme Petrochem Limited\n",
      "Suprajit Engineering Limited\n",
      "Supreme Industries Limited\n",
      "Supreme Infrastructure India Limited\n",
      "Surana Solar Limited\n",
      "Surana Telecom and Power Limited\n",
      "Suryalakshmi Cotton Mills Limited\n",
      "Surya Roshni Limited\n",
      "Sutlej Textiles and Industries Limited\n",
      "Suven Life Sciences Limited\n",
      "Suzlon Energy Limited\n",
      "Swan Energy Limited\n",
      "Swaraj Engines Limited\n",
      "Swelect Energy Systems Limited\n",
      "Sterling And Wilson Solar Limited\n",
      "Symphony Limited\n",
      "Syncom Healthcare Limited\n",
      "Syndicate Bank\n",
      "Syngene International Limited\n",
      "Tainwala Chemical and Plastic (I) Limited\n",
      "Taj GVK Hotels & Resorts Limited\n",
      "Take Solutions Limited\n",
      "Talbros Automotive Components Limited\n",
      "Talwalkars Better Value Fitness Limited\n",
      "Talwalkars Healthclubs Limited\n",
      "Tanla Solutions Limited\n",
      "Tantia Constructions Limited\n",
      "Tarapur Transformers Limited\n",
      "Tarmat Limited\n",
      "Tasty Bite Eatables Limited\n",
      "Tata Chemicals Limited\n",
      "Tata Coffee Limited\n",
      "Tata Communications Limited\n",
      "Tata Elxsi Limited\n",
      "Tata Global Beverages Limited\n",
      "Tata Investment Corporation Limited\n",
      "Tata Metaliks Limited\n",
      "Tata Motors Limited\n",
      "Tata Motors Limited\n",
      "Tata Power Company Limited\n",
      "Tata Steel Limited\n",
      "Tata Steel Bsl Limited\n",
      "Tata Steel Long Products Limited\n",
      "Tribhovandas Bhimji Zaveri Limited\n",
      "Transport Corporation of India Limited\n",
      "TCI Developers Limited\n",
      "TCI Express Limited\n",
      "TCI Finance Limited\n",
      "TCNS Clothing Co. Limited\n",
      "TCPL Packaging Limited\n",
      "Tata Consultancy Services Limited\n",
      "TD Power Systems Limited\n",
      "Teamlease Services Limited\n",
      "Techindia Nirman Limited\n",
      "Tech Mahindra Limited\n",
      "Techno Electric & Engineering Company Limited\n",
      "Technofab Engineering Limited\n",
      "Tejas Networks Limited\n",
      "Tera Software Limited\n",
      "Texmaco Infrastructure & Holdings Limited\n",
      "Texmo Pipes and Products Limited\n",
      "Texmaco Rail & Engineering Limited\n",
      "Texmaco Rail & Engineering Limited\n",
      "Tourism Finance Corporation of India Limited\n",
      "Transwarranty Finance Limited\n",
      "TGB Banquets And Hotels Limited\n",
      "TGB Banquets And Hotels Limited\n",
      "Thangamayil Jewellery Limited\n",
      "The Investment Trust Of India Limited\n",
      "Themis Medicare Limited\n",
      "Thermax Limited\n",
      "Thiru Arooran Sugars Limited\n",
      "Thomas Cook (India) Limited\n",
      "Thomas Scott (India) Limited\n",
      "Thyrocare Technologies Limited\n",
      "Tilaknagar Industries Limited\n",
      "Tide Water Oil Company (India) Limited\n",
      "Technocraft Industries (India) Limited\n",
      "Tube Investments of India Limited\n",
      "Tijaria Polypipes Limited\n",
      "TIL Limited\n",
      "Times Guaranty Limited\n",
      "Time Technoplast Limited\n",
      "Timken India Limited\n",
      "The Tinplate Company of India Limited\n",
      "TIPS Industries Limited\n",
      "Thirumalai Chemicals Limited\n",
      "Titan Company Limited\n",
      "The Mandhana Retail Ventures Limited\n",
      "Tamilnadu PetroProducts Limited\n",
      "Tamil Nadu Newsprint & Papers Limited\n",
      "Tamilnadu Telecommunication Limited\n",
      "Tokyo Plast International Limited\n",
      "Torrent Pharmaceuticals Limited\n",
      "Torrent Power Limited\n",
      "TPL Plastech Limited\n",
      "Tree House Education & Accessories Limited\n",
      "TREJHARA SOLUTIONS LIMITED\n",
      "Trent Limited\n",
      "TRF Limited\n",
      "Trident Limited\n",
      "Trigyn Technologies Limited\n",
      "Transformers And Rectifiers (India) Limited\n",
      "Triveni Turbine Limited\n",
      "Triveni Engineering & Industries Limited\n",
      "TTK Healthcare Limited\n",
      "TTK Prestige Limited\n",
      "T T Limited\n",
      "Tata Teleservices (Maharashtra) Limited\n",
      "TV18 Broadcast Limited\n",
      "TVS Electronics Limited\n",
      "TVS Motor Company Limited\n",
      "TVS Srichakra Limited\n",
      "TV Today Network Limited\n",
      "TV Vision Limited\n",
      "Titagarh Wagons Limited\n",
      "United Breweries Limited\n",
      "Ucal Fuel Systems Limited\n",
      "UCO Bank\n",
      "UFLEX Limited\n",
      "UFO Moviez India Limited\n",
      "The Ugar Sugar Works Limited\n",
      "Ujaas Energy Limited\n",
      "Ujjivan Financial Services Limited\n",
      "UltraTech Cement Limited\n",
      "Umang Dairies Limited\n",
      "Usha Martin Education & Solutions Limited\n",
      "Unichem Laboratories Limited\n",
      "Uniphos Enterprises Limited\n",
      "Union Bank of India\n",
      "Uniply Industries Limited\n",
      "Unitech Limited\n",
      "United Bank of India\n",
      "The United Nilgiri Tea Estates Company Limited\n",
      "Unity Infraprojects Limited\n",
      "Universal Cables Limited\n",
      "UPL Limited\n",
      "Urja Global Limited\n",
      "Usha Martin Limited\n",
      "Uttam Galva Steels Limited\n",
      "Uttam Sugar Mills Limited\n",
      "Uttam Value Steels Limited\n",
      "V2 Retail Limited\n",
      "Vadilal Industries Limited\n",
      "Vaibhav Global Limited\n",
      "Vakrangee Limited\n",
      "Vardhman Acrylics Limited\n",
      "Vardhman Polytex Limited\n",
      "Varroc Engineering Limited\n",
      "Vascon Engineers Limited\n",
      "Vaswani Industries Limited\n",
      "Varun Beverages Limited\n",
      "Vedanta Limited\n",
      "Venky’s (India) Limited\n",
      "Venus Remedies Limited\n",
      "Vesuvius India Limited\n",
      "Veto Switchgears And Cables Limited\n",
      "V-Guard Industries Limited\n",
      "Vardhman Holdings Limited\n",
      "Viceroy Hotels Limited\n",
      "Videocon Industries Limited\n",
      "Vidhi Specialty Food Ingredients Limited\n",
      "Viji Finance Limited\n",
      "Vikas EcoTech Limited\n",
      "Vikas Multicorp Limited\n",
      "Vikas Proppant & Granite Limited\n",
      "Vikas WSP Limited\n",
      "Vimal Oil & Foods Limited\n",
      "Vimta Labs Limited\n",
      "Vinati Organics Limited\n",
      "Vindhya Telelinks Limited\n",
      "Vinyl Chemicals (India) Limited\n",
      "VIP Clothing Limited\n",
      "VIP Industries Limited\n",
      "Vipul Limited\n",
      "Visaka Industries Limited\n",
      "Visa Steel Limited\n",
      "Visesh Infotecnics Limited\n",
      "Vishal Fabrics Limited\n",
      "Vishnu Chemicals Limited\n",
      "Vishwaraj Sugar Industries Limited\n",
      "Visagar Polytex Limited\n",
      "Vivimed Labs Limited\n",
      "VLS Finance Limited\n",
      "V-Mart Retail Limited\n",
      "Voltamp Transformers Limited\n",
      "Voltas Limited\n",
      "VRL Logistics Limited\n",
      "Vardhman Special Steels Limited\n",
      "VST Industries Limited\n",
      "V.S.T Tillers Tractors Limited\n",
      "Vardhman Textiles Limited\n",
      "VA Tech Wabag Limited\n",
      "WABCO India Limited\n",
      "Walchandnagar Industries Limited\n",
      "Wanbury Limited\n",
      "Waterbase Limited\n",
      "Websol Energy System Limited\n",
      "Weizmann Forex Limited\n",
      "Weizmann Limited\n",
      "Welspun Corp Limited\n",
      "Welspun Enterprises Limited\n",
      "Welspun Investments and Commercials Limited\n",
      "Welspun India Limited\n",
      "Wendt (India) Limited\n",
      "Westlife Development Ltd\n",
      "Wheels India Limited\n",
      "Whirlpool of India Limited\n",
      "Williamson Magor & Company Limited\n",
      "Windsor Machines Limited\n",
      "Winsome Yarns Limited\n",
      "The Western India Plywoods Limited\n",
      "Wipro Limited\n",
      "Wockhardt Limited\n",
      "Wonderla Holidays Limited\n",
      "W S Industries (I) Limited\n",
      "West Coast Paper Mills Limited\n",
      "Xchanging Solutions Limited\n",
      "Xelpmoc Design And Tech Limited\n",
      "XL Energy Limited\n",
      "Xpro India Limited\n",
      "Yes Bank Limited\n",
      "Zee Entertainment Enterprises Limited\n",
      "Zee Learn Limited\n",
      "Zee Media Corporation Limited\n",
      "Zenith Birla (India) Limited\n",
      "Zenith Exports Limited\n",
      "Zensar Technologies Limited\n",
      "Zen Technologies Limited\n",
      "Zicom Electronic Security Systems Limited\n",
      "Zodiac Clothing Company Limited\n",
      "Zodiac JRD- MKJ Limited\n",
      "Zota Health Care LImited\n",
      "Zuari Agro Chemicals Limited\n",
      "Zuari Global Limited\n",
      "Zydus Wellness Limited\n"
     ]
    }
   ],
   "source": [
    "com_sym[com_sym['Company Name']=='NAME OF COMPANY']\n",
    "com_sym.drop(com_sym[com_sym['Company Name']=='NAME OF COMPANY'].index,inplace=True)\n",
    "print('List of All the Company Names:-')\n",
    "for iv in com_sym['Company Name']:\n",
    "    print(iv)"
   ]
  },
  {
   "cell_type": "markdown",
   "metadata": {},
   "source": [
    "# Search your Stock directly by Name"
   ]
  },
  {
   "cell_type": "code",
   "execution_count": 106,
   "metadata": {},
   "outputs": [
    {
     "name": "stdout",
     "output_type": "stream",
     "text": [
      "Enter the company Name:ambuja\n"
     ]
    },
    {
     "data": {
      "text/html": [
       "<div>\n",
       "<style scoped>\n",
       "    .dataframe tbody tr th:only-of-type {\n",
       "        vertical-align: middle;\n",
       "    }\n",
       "\n",
       "    .dataframe tbody tr th {\n",
       "        vertical-align: top;\n",
       "    }\n",
       "\n",
       "    .dataframe thead th {\n",
       "        text-align: right;\n",
       "    }\n",
       "</style>\n",
       "<table border=\"1\" class=\"dataframe\">\n",
       "  <thead>\n",
       "    <tr style=\"text-align: right;\">\n",
       "      <th></th>\n",
       "      <th>Company Name</th>\n",
       "      <th>Symbol</th>\n",
       "    </tr>\n",
       "  </thead>\n",
       "  <tbody>\n",
       "    <tr>\n",
       "      <th>74</th>\n",
       "      <td>Ambuja Cements Limited</td>\n",
       "      <td>AMBUJACEM</td>\n",
       "    </tr>\n",
       "    <tr>\n",
       "      <th>458</th>\n",
       "      <td>Gujarat Ambuja Exports Limited</td>\n",
       "      <td>GAEL</td>\n",
       "    </tr>\n",
       "  </tbody>\n",
       "</table>\n",
       "</div>"
      ],
      "text/plain": [
       "                       Company Name     Symbol\n",
       "74           Ambuja Cements Limited  AMBUJACEM\n",
       "458  Gujarat Ambuja Exports Limited       GAEL"
      ]
     },
     "execution_count": 106,
     "metadata": {},
     "output_type": "execute_result"
    }
   ],
   "source": [
    "inp=input('Enter the company Name:').title()\n",
    "com_sym[com_sym['Company Name'].str.contains(inp)]"
   ]
  },
  {
   "cell_type": "code",
   "execution_count": 107,
   "metadata": {},
   "outputs": [
    {
     "name": "stdout",
     "output_type": "stream",
     "text": [
      "Enter the Stock Symbol Name for which Analysis needs to be done:AMBUJACEM\n"
     ]
    }
   ],
   "source": [
    "stock_name=input('Enter the Stock Symbol Name for which Analysis needs to be done:')"
   ]
  },
  {
   "cell_type": "code",
   "execution_count": 152,
   "metadata": {},
   "outputs": [
    {
     "data": {
      "text/html": [
       "<div>\n",
       "<style scoped>\n",
       "    .dataframe tbody tr th:only-of-type {\n",
       "        vertical-align: middle;\n",
       "    }\n",
       "\n",
       "    .dataframe tbody tr th {\n",
       "        vertical-align: top;\n",
       "    }\n",
       "\n",
       "    .dataframe thead th {\n",
       "        text-align: right;\n",
       "    }\n",
       "</style>\n",
       "<table border=\"1\" class=\"dataframe\">\n",
       "  <thead>\n",
       "    <tr style=\"text-align: right;\">\n",
       "      <th></th>\n",
       "      <th>Symbol</th>\n",
       "      <th>Series</th>\n",
       "      <th>Prev Close</th>\n",
       "      <th>Open</th>\n",
       "      <th>High</th>\n",
       "      <th>Low</th>\n",
       "      <th>Last</th>\n",
       "      <th>Close</th>\n",
       "      <th>VWAP</th>\n",
       "      <th>Volume</th>\n",
       "      <th>Turnover</th>\n",
       "      <th>Trades</th>\n",
       "      <th>Deliverable Volume</th>\n",
       "      <th>%Deliverble</th>\n",
       "    </tr>\n",
       "    <tr>\n",
       "      <th>Date</th>\n",
       "      <th></th>\n",
       "      <th></th>\n",
       "      <th></th>\n",
       "      <th></th>\n",
       "      <th></th>\n",
       "      <th></th>\n",
       "      <th></th>\n",
       "      <th></th>\n",
       "      <th></th>\n",
       "      <th></th>\n",
       "      <th></th>\n",
       "      <th></th>\n",
       "      <th></th>\n",
       "      <th></th>\n",
       "    </tr>\n",
       "  </thead>\n",
       "  <tbody>\n",
       "    <tr>\n",
       "      <th>2020-10-01</th>\n",
       "      <td>AMBUJACEM</td>\n",
       "      <td>EQ</td>\n",
       "      <td>217.00</td>\n",
       "      <td>218.50</td>\n",
       "      <td>221.95</td>\n",
       "      <td>217.55</td>\n",
       "      <td>221.45</td>\n",
       "      <td>221.20</td>\n",
       "      <td>220.32</td>\n",
       "      <td>3358699</td>\n",
       "      <td>7.400023e+13</td>\n",
       "      <td>31667</td>\n",
       "      <td>690277</td>\n",
       "      <td>0.2055</td>\n",
       "    </tr>\n",
       "    <tr>\n",
       "      <th>2020-10-05</th>\n",
       "      <td>AMBUJACEM</td>\n",
       "      <td>EQ</td>\n",
       "      <td>221.20</td>\n",
       "      <td>221.20</td>\n",
       "      <td>224.20</td>\n",
       "      <td>219.45</td>\n",
       "      <td>221.70</td>\n",
       "      <td>221.35</td>\n",
       "      <td>221.39</td>\n",
       "      <td>3259420</td>\n",
       "      <td>7.216041e+13</td>\n",
       "      <td>33828</td>\n",
       "      <td>705398</td>\n",
       "      <td>0.2164</td>\n",
       "    </tr>\n",
       "    <tr>\n",
       "      <th>2020-10-06</th>\n",
       "      <td>AMBUJACEM</td>\n",
       "      <td>EQ</td>\n",
       "      <td>221.35</td>\n",
       "      <td>222.95</td>\n",
       "      <td>227.75</td>\n",
       "      <td>220.10</td>\n",
       "      <td>227.70</td>\n",
       "      <td>225.30</td>\n",
       "      <td>223.04</td>\n",
       "      <td>4929361</td>\n",
       "      <td>1.099440e+14</td>\n",
       "      <td>66393</td>\n",
       "      <td>1963760</td>\n",
       "      <td>0.3984</td>\n",
       "    </tr>\n",
       "    <tr>\n",
       "      <th>2020-10-07</th>\n",
       "      <td>AMBUJACEM</td>\n",
       "      <td>EQ</td>\n",
       "      <td>225.30</td>\n",
       "      <td>226.00</td>\n",
       "      <td>237.75</td>\n",
       "      <td>225.00</td>\n",
       "      <td>235.00</td>\n",
       "      <td>234.80</td>\n",
       "      <td>233.77</td>\n",
       "      <td>16914960</td>\n",
       "      <td>3.954228e+14</td>\n",
       "      <td>126279</td>\n",
       "      <td>5185276</td>\n",
       "      <td>0.3065</td>\n",
       "    </tr>\n",
       "    <tr>\n",
       "      <th>2020-10-08</th>\n",
       "      <td>AMBUJACEM</td>\n",
       "      <td>EQ</td>\n",
       "      <td>234.80</td>\n",
       "      <td>234.80</td>\n",
       "      <td>239.95</td>\n",
       "      <td>231.40</td>\n",
       "      <td>237.60</td>\n",
       "      <td>238.15</td>\n",
       "      <td>235.51</td>\n",
       "      <td>8142299</td>\n",
       "      <td>1.917615e+14</td>\n",
       "      <td>60297</td>\n",
       "      <td>2309107</td>\n",
       "      <td>0.2836</td>\n",
       "    </tr>\n",
       "  </tbody>\n",
       "</table>\n",
       "</div>"
      ],
      "text/plain": [
       "               Symbol Series  Prev Close    Open    High     Low    Last  \\\n",
       "Date                                                                       \n",
       "2020-10-01  AMBUJACEM     EQ      217.00  218.50  221.95  217.55  221.45   \n",
       "2020-10-05  AMBUJACEM     EQ      221.20  221.20  224.20  219.45  221.70   \n",
       "2020-10-06  AMBUJACEM     EQ      221.35  222.95  227.75  220.10  227.70   \n",
       "2020-10-07  AMBUJACEM     EQ      225.30  226.00  237.75  225.00  235.00   \n",
       "2020-10-08  AMBUJACEM     EQ      234.80  234.80  239.95  231.40  237.60   \n",
       "\n",
       "             Close    VWAP    Volume      Turnover  Trades  \\\n",
       "Date                                                         \n",
       "2020-10-01  221.20  220.32   3358699  7.400023e+13   31667   \n",
       "2020-10-05  221.35  221.39   3259420  7.216041e+13   33828   \n",
       "2020-10-06  225.30  223.04   4929361  1.099440e+14   66393   \n",
       "2020-10-07  234.80  233.77  16914960  3.954228e+14  126279   \n",
       "2020-10-08  238.15  235.51   8142299  1.917615e+14   60297   \n",
       "\n",
       "            Deliverable Volume  %Deliverble  \n",
       "Date                                         \n",
       "2020-10-01              690277       0.2055  \n",
       "2020-10-05              705398       0.2164  \n",
       "2020-10-06             1963760       0.3984  \n",
       "2020-10-07             5185276       0.3065  \n",
       "2020-10-08             2309107       0.2836  "
      ]
     },
     "execution_count": 152,
     "metadata": {},
     "output_type": "execute_result"
    }
   ],
   "source": [
    "data=get_history(symbol=stock_name,start=date(2020,10,1), end=date(2020,10,30))\n",
    "df=pd.DataFrame(data)\n",
    "df.head(5)"
   ]
  },
  {
   "cell_type": "code",
   "execution_count": 153,
   "metadata": {},
   "outputs": [],
   "source": [
    "df=pd.DataFrame(data, columns=['Symbol','Prev Close','Open','High','Low','Close','VWAP','Volume','Trades'])"
   ]
  },
  {
   "cell_type": "code",
   "execution_count": 154,
   "metadata": {},
   "outputs": [],
   "source": [
    "df['Serial Number']=np.arange(len(df))"
   ]
  },
  {
   "cell_type": "code",
   "execution_count": 155,
   "metadata": {},
   "outputs": [],
   "source": [
    "df=df[['Serial Number','Symbol','Prev Close', 'Open', 'High', 'Low', 'Close','VWAP', 'Volume','Trades']]"
   ]
  },
  {
   "cell_type": "code",
   "execution_count": 156,
   "metadata": {
    "scrolled": true
   },
   "outputs": [],
   "source": [
    "df['Date']=df.index"
   ]
  },
  {
   "cell_type": "code",
   "execution_count": 157,
   "metadata": {},
   "outputs": [],
   "source": [
    "df.set_index('Serial Number', inplace=True)"
   ]
  },
  {
   "cell_type": "code",
   "execution_count": 158,
   "metadata": {},
   "outputs": [],
   "source": [
    "df['Month'] = pd.DatetimeIndex(df['Date']).month"
   ]
  },
  {
   "cell_type": "code",
   "execution_count": 159,
   "metadata": {},
   "outputs": [
    {
     "data": {
      "text/html": [
       "<div>\n",
       "<style scoped>\n",
       "    .dataframe tbody tr th:only-of-type {\n",
       "        vertical-align: middle;\n",
       "    }\n",
       "\n",
       "    .dataframe tbody tr th {\n",
       "        vertical-align: top;\n",
       "    }\n",
       "\n",
       "    .dataframe thead th {\n",
       "        text-align: right;\n",
       "    }\n",
       "</style>\n",
       "<table border=\"1\" class=\"dataframe\">\n",
       "  <thead>\n",
       "    <tr style=\"text-align: right;\">\n",
       "      <th></th>\n",
       "      <th>Symbol</th>\n",
       "      <th>Prev Close</th>\n",
       "      <th>Open</th>\n",
       "      <th>High</th>\n",
       "      <th>Low</th>\n",
       "      <th>Close</th>\n",
       "      <th>VWAP</th>\n",
       "      <th>Volume</th>\n",
       "      <th>Trades</th>\n",
       "      <th>Date</th>\n",
       "      <th>Month</th>\n",
       "    </tr>\n",
       "    <tr>\n",
       "      <th>Serial Number</th>\n",
       "      <th></th>\n",
       "      <th></th>\n",
       "      <th></th>\n",
       "      <th></th>\n",
       "      <th></th>\n",
       "      <th></th>\n",
       "      <th></th>\n",
       "      <th></th>\n",
       "      <th></th>\n",
       "      <th></th>\n",
       "      <th></th>\n",
       "    </tr>\n",
       "  </thead>\n",
       "  <tbody>\n",
       "    <tr>\n",
       "      <th>0</th>\n",
       "      <td>AMBUJACEM</td>\n",
       "      <td>217.00</td>\n",
       "      <td>218.50</td>\n",
       "      <td>221.95</td>\n",
       "      <td>217.55</td>\n",
       "      <td>221.20</td>\n",
       "      <td>220.32</td>\n",
       "      <td>3358699</td>\n",
       "      <td>31667</td>\n",
       "      <td>2020-10-01</td>\n",
       "      <td>10</td>\n",
       "    </tr>\n",
       "    <tr>\n",
       "      <th>1</th>\n",
       "      <td>AMBUJACEM</td>\n",
       "      <td>221.20</td>\n",
       "      <td>221.20</td>\n",
       "      <td>224.20</td>\n",
       "      <td>219.45</td>\n",
       "      <td>221.35</td>\n",
       "      <td>221.39</td>\n",
       "      <td>3259420</td>\n",
       "      <td>33828</td>\n",
       "      <td>2020-10-05</td>\n",
       "      <td>10</td>\n",
       "    </tr>\n",
       "    <tr>\n",
       "      <th>2</th>\n",
       "      <td>AMBUJACEM</td>\n",
       "      <td>221.35</td>\n",
       "      <td>222.95</td>\n",
       "      <td>227.75</td>\n",
       "      <td>220.10</td>\n",
       "      <td>225.30</td>\n",
       "      <td>223.04</td>\n",
       "      <td>4929361</td>\n",
       "      <td>66393</td>\n",
       "      <td>2020-10-06</td>\n",
       "      <td>10</td>\n",
       "    </tr>\n",
       "    <tr>\n",
       "      <th>3</th>\n",
       "      <td>AMBUJACEM</td>\n",
       "      <td>225.30</td>\n",
       "      <td>226.00</td>\n",
       "      <td>237.75</td>\n",
       "      <td>225.00</td>\n",
       "      <td>234.80</td>\n",
       "      <td>233.77</td>\n",
       "      <td>16914960</td>\n",
       "      <td>126279</td>\n",
       "      <td>2020-10-07</td>\n",
       "      <td>10</td>\n",
       "    </tr>\n",
       "    <tr>\n",
       "      <th>4</th>\n",
       "      <td>AMBUJACEM</td>\n",
       "      <td>234.80</td>\n",
       "      <td>234.80</td>\n",
       "      <td>239.95</td>\n",
       "      <td>231.40</td>\n",
       "      <td>238.15</td>\n",
       "      <td>235.51</td>\n",
       "      <td>8142299</td>\n",
       "      <td>60297</td>\n",
       "      <td>2020-10-08</td>\n",
       "      <td>10</td>\n",
       "    </tr>\n",
       "    <tr>\n",
       "      <th>5</th>\n",
       "      <td>AMBUJACEM</td>\n",
       "      <td>238.15</td>\n",
       "      <td>236.55</td>\n",
       "      <td>240.55</td>\n",
       "      <td>235.00</td>\n",
       "      <td>239.35</td>\n",
       "      <td>237.51</td>\n",
       "      <td>6602985</td>\n",
       "      <td>47148</td>\n",
       "      <td>2020-10-09</td>\n",
       "      <td>10</td>\n",
       "    </tr>\n",
       "    <tr>\n",
       "      <th>6</th>\n",
       "      <td>AMBUJACEM</td>\n",
       "      <td>239.35</td>\n",
       "      <td>238.00</td>\n",
       "      <td>242.35</td>\n",
       "      <td>233.20</td>\n",
       "      <td>238.40</td>\n",
       "      <td>238.20</td>\n",
       "      <td>6441943</td>\n",
       "      <td>44894</td>\n",
       "      <td>2020-10-12</td>\n",
       "      <td>10</td>\n",
       "    </tr>\n",
       "    <tr>\n",
       "      <th>7</th>\n",
       "      <td>AMBUJACEM</td>\n",
       "      <td>238.40</td>\n",
       "      <td>237.00</td>\n",
       "      <td>249.35</td>\n",
       "      <td>236.80</td>\n",
       "      <td>241.75</td>\n",
       "      <td>244.63</td>\n",
       "      <td>16150051</td>\n",
       "      <td>103182</td>\n",
       "      <td>2020-10-13</td>\n",
       "      <td>10</td>\n",
       "    </tr>\n",
       "    <tr>\n",
       "      <th>8</th>\n",
       "      <td>AMBUJACEM</td>\n",
       "      <td>241.75</td>\n",
       "      <td>241.95</td>\n",
       "      <td>248.00</td>\n",
       "      <td>240.15</td>\n",
       "      <td>246.60</td>\n",
       "      <td>244.45</td>\n",
       "      <td>10384793</td>\n",
       "      <td>57060</td>\n",
       "      <td>2020-10-14</td>\n",
       "      <td>10</td>\n",
       "    </tr>\n",
       "    <tr>\n",
       "      <th>9</th>\n",
       "      <td>AMBUJACEM</td>\n",
       "      <td>246.60</td>\n",
       "      <td>248.00</td>\n",
       "      <td>250.00</td>\n",
       "      <td>240.80</td>\n",
       "      <td>243.35</td>\n",
       "      <td>245.52</td>\n",
       "      <td>8031726</td>\n",
       "      <td>68185</td>\n",
       "      <td>2020-10-15</td>\n",
       "      <td>10</td>\n",
       "    </tr>\n",
       "    <tr>\n",
       "      <th>10</th>\n",
       "      <td>AMBUJACEM</td>\n",
       "      <td>243.35</td>\n",
       "      <td>243.30</td>\n",
       "      <td>249.00</td>\n",
       "      <td>240.15</td>\n",
       "      <td>248.00</td>\n",
       "      <td>245.32</td>\n",
       "      <td>12591434</td>\n",
       "      <td>67208</td>\n",
       "      <td>2020-10-16</td>\n",
       "      <td>10</td>\n",
       "    </tr>\n",
       "    <tr>\n",
       "      <th>11</th>\n",
       "      <td>AMBUJACEM</td>\n",
       "      <td>248.00</td>\n",
       "      <td>249.20</td>\n",
       "      <td>249.70</td>\n",
       "      <td>243.40</td>\n",
       "      <td>247.60</td>\n",
       "      <td>245.76</td>\n",
       "      <td>10969208</td>\n",
       "      <td>48494</td>\n",
       "      <td>2020-10-19</td>\n",
       "      <td>10</td>\n",
       "    </tr>\n",
       "    <tr>\n",
       "      <th>12</th>\n",
       "      <td>AMBUJACEM</td>\n",
       "      <td>247.60</td>\n",
       "      <td>249.90</td>\n",
       "      <td>254.90</td>\n",
       "      <td>247.05</td>\n",
       "      <td>251.45</td>\n",
       "      <td>251.27</td>\n",
       "      <td>20195023</td>\n",
       "      <td>139573</td>\n",
       "      <td>2020-10-20</td>\n",
       "      <td>10</td>\n",
       "    </tr>\n",
       "    <tr>\n",
       "      <th>13</th>\n",
       "      <td>AMBUJACEM</td>\n",
       "      <td>251.45</td>\n",
       "      <td>251.90</td>\n",
       "      <td>254.30</td>\n",
       "      <td>245.95</td>\n",
       "      <td>253.35</td>\n",
       "      <td>251.12</td>\n",
       "      <td>9478126</td>\n",
       "      <td>56247</td>\n",
       "      <td>2020-10-21</td>\n",
       "      <td>10</td>\n",
       "    </tr>\n",
       "    <tr>\n",
       "      <th>14</th>\n",
       "      <td>AMBUJACEM</td>\n",
       "      <td>253.35</td>\n",
       "      <td>253.00</td>\n",
       "      <td>255.60</td>\n",
       "      <td>249.50</td>\n",
       "      <td>253.60</td>\n",
       "      <td>252.76</td>\n",
       "      <td>11569824</td>\n",
       "      <td>74815</td>\n",
       "      <td>2020-10-22</td>\n",
       "      <td>10</td>\n",
       "    </tr>\n",
       "    <tr>\n",
       "      <th>15</th>\n",
       "      <td>AMBUJACEM</td>\n",
       "      <td>253.60</td>\n",
       "      <td>255.50</td>\n",
       "      <td>256.00</td>\n",
       "      <td>245.00</td>\n",
       "      <td>247.40</td>\n",
       "      <td>250.14</td>\n",
       "      <td>15337715</td>\n",
       "      <td>104670</td>\n",
       "      <td>2020-10-23</td>\n",
       "      <td>10</td>\n",
       "    </tr>\n",
       "    <tr>\n",
       "      <th>16</th>\n",
       "      <td>AMBUJACEM</td>\n",
       "      <td>247.40</td>\n",
       "      <td>248.70</td>\n",
       "      <td>249.00</td>\n",
       "      <td>242.45</td>\n",
       "      <td>245.05</td>\n",
       "      <td>244.76</td>\n",
       "      <td>8116758</td>\n",
       "      <td>55350</td>\n",
       "      <td>2020-10-26</td>\n",
       "      <td>10</td>\n",
       "    </tr>\n",
       "    <tr>\n",
       "      <th>17</th>\n",
       "      <td>AMBUJACEM</td>\n",
       "      <td>245.05</td>\n",
       "      <td>245.05</td>\n",
       "      <td>257.00</td>\n",
       "      <td>243.65</td>\n",
       "      <td>255.85</td>\n",
       "      <td>252.15</td>\n",
       "      <td>13207219</td>\n",
       "      <td>75595</td>\n",
       "      <td>2020-10-27</td>\n",
       "      <td>10</td>\n",
       "    </tr>\n",
       "    <tr>\n",
       "      <th>18</th>\n",
       "      <td>AMBUJACEM</td>\n",
       "      <td>255.85</td>\n",
       "      <td>253.85</td>\n",
       "      <td>254.70</td>\n",
       "      <td>250.35</td>\n",
       "      <td>251.80</td>\n",
       "      <td>252.41</td>\n",
       "      <td>4873537</td>\n",
       "      <td>45960</td>\n",
       "      <td>2020-10-28</td>\n",
       "      <td>10</td>\n",
       "    </tr>\n",
       "    <tr>\n",
       "      <th>19</th>\n",
       "      <td>AMBUJACEM</td>\n",
       "      <td>251.80</td>\n",
       "      <td>250.50</td>\n",
       "      <td>255.00</td>\n",
       "      <td>248.70</td>\n",
       "      <td>254.00</td>\n",
       "      <td>251.88</td>\n",
       "      <td>4794371</td>\n",
       "      <td>42491</td>\n",
       "      <td>2020-10-29</td>\n",
       "      <td>10</td>\n",
       "    </tr>\n",
       "    <tr>\n",
       "      <th>20</th>\n",
       "      <td>AMBUJACEM</td>\n",
       "      <td>254.00</td>\n",
       "      <td>254.85</td>\n",
       "      <td>265.80</td>\n",
       "      <td>252.40</td>\n",
       "      <td>259.70</td>\n",
       "      <td>260.05</td>\n",
       "      <td>18101783</td>\n",
       "      <td>96213</td>\n",
       "      <td>2020-10-30</td>\n",
       "      <td>10</td>\n",
       "    </tr>\n",
       "  </tbody>\n",
       "</table>\n",
       "</div>"
      ],
      "text/plain": [
       "                  Symbol  Prev Close    Open    High     Low   Close    VWAP  \\\n",
       "Serial Number                                                                  \n",
       "0              AMBUJACEM      217.00  218.50  221.95  217.55  221.20  220.32   \n",
       "1              AMBUJACEM      221.20  221.20  224.20  219.45  221.35  221.39   \n",
       "2              AMBUJACEM      221.35  222.95  227.75  220.10  225.30  223.04   \n",
       "3              AMBUJACEM      225.30  226.00  237.75  225.00  234.80  233.77   \n",
       "4              AMBUJACEM      234.80  234.80  239.95  231.40  238.15  235.51   \n",
       "5              AMBUJACEM      238.15  236.55  240.55  235.00  239.35  237.51   \n",
       "6              AMBUJACEM      239.35  238.00  242.35  233.20  238.40  238.20   \n",
       "7              AMBUJACEM      238.40  237.00  249.35  236.80  241.75  244.63   \n",
       "8              AMBUJACEM      241.75  241.95  248.00  240.15  246.60  244.45   \n",
       "9              AMBUJACEM      246.60  248.00  250.00  240.80  243.35  245.52   \n",
       "10             AMBUJACEM      243.35  243.30  249.00  240.15  248.00  245.32   \n",
       "11             AMBUJACEM      248.00  249.20  249.70  243.40  247.60  245.76   \n",
       "12             AMBUJACEM      247.60  249.90  254.90  247.05  251.45  251.27   \n",
       "13             AMBUJACEM      251.45  251.90  254.30  245.95  253.35  251.12   \n",
       "14             AMBUJACEM      253.35  253.00  255.60  249.50  253.60  252.76   \n",
       "15             AMBUJACEM      253.60  255.50  256.00  245.00  247.40  250.14   \n",
       "16             AMBUJACEM      247.40  248.70  249.00  242.45  245.05  244.76   \n",
       "17             AMBUJACEM      245.05  245.05  257.00  243.65  255.85  252.15   \n",
       "18             AMBUJACEM      255.85  253.85  254.70  250.35  251.80  252.41   \n",
       "19             AMBUJACEM      251.80  250.50  255.00  248.70  254.00  251.88   \n",
       "20             AMBUJACEM      254.00  254.85  265.80  252.40  259.70  260.05   \n",
       "\n",
       "                 Volume  Trades        Date  Month  \n",
       "Serial Number                                       \n",
       "0               3358699   31667  2020-10-01     10  \n",
       "1               3259420   33828  2020-10-05     10  \n",
       "2               4929361   66393  2020-10-06     10  \n",
       "3              16914960  126279  2020-10-07     10  \n",
       "4               8142299   60297  2020-10-08     10  \n",
       "5               6602985   47148  2020-10-09     10  \n",
       "6               6441943   44894  2020-10-12     10  \n",
       "7              16150051  103182  2020-10-13     10  \n",
       "8              10384793   57060  2020-10-14     10  \n",
       "9               8031726   68185  2020-10-15     10  \n",
       "10             12591434   67208  2020-10-16     10  \n",
       "11             10969208   48494  2020-10-19     10  \n",
       "12             20195023  139573  2020-10-20     10  \n",
       "13              9478126   56247  2020-10-21     10  \n",
       "14             11569824   74815  2020-10-22     10  \n",
       "15             15337715  104670  2020-10-23     10  \n",
       "16              8116758   55350  2020-10-26     10  \n",
       "17             13207219   75595  2020-10-27     10  \n",
       "18              4873537   45960  2020-10-28     10  \n",
       "19              4794371   42491  2020-10-29     10  \n",
       "20             18101783   96213  2020-10-30     10  "
      ]
     },
     "execution_count": 159,
     "metadata": {},
     "output_type": "execute_result"
    }
   ],
   "source": [
    "df"
   ]
  },
  {
   "cell_type": "code",
   "execution_count": 160,
   "metadata": {},
   "outputs": [],
   "source": [
    "df['Year'] = pd.DatetimeIndex(df['Date']).year\n",
    "df['Day_Number_of_Month'] = pd.DatetimeIndex(df['Date']).day"
   ]
  },
  {
   "cell_type": "code",
   "execution_count": 161,
   "metadata": {},
   "outputs": [
    {
     "data": {
      "text/html": [
       "<div>\n",
       "<style scoped>\n",
       "    .dataframe tbody tr th:only-of-type {\n",
       "        vertical-align: middle;\n",
       "    }\n",
       "\n",
       "    .dataframe tbody tr th {\n",
       "        vertical-align: top;\n",
       "    }\n",
       "\n",
       "    .dataframe thead th {\n",
       "        text-align: right;\n",
       "    }\n",
       "</style>\n",
       "<table border=\"1\" class=\"dataframe\">\n",
       "  <thead>\n",
       "    <tr style=\"text-align: right;\">\n",
       "      <th></th>\n",
       "      <th>Symbol</th>\n",
       "      <th>Prev Close</th>\n",
       "      <th>Open</th>\n",
       "      <th>High</th>\n",
       "      <th>Low</th>\n",
       "      <th>Close</th>\n",
       "      <th>VWAP</th>\n",
       "      <th>Volume</th>\n",
       "      <th>Trades</th>\n",
       "      <th>Date</th>\n",
       "      <th>Month</th>\n",
       "      <th>Year</th>\n",
       "      <th>Day_Number_of_Month</th>\n",
       "    </tr>\n",
       "    <tr>\n",
       "      <th>Serial Number</th>\n",
       "      <th></th>\n",
       "      <th></th>\n",
       "      <th></th>\n",
       "      <th></th>\n",
       "      <th></th>\n",
       "      <th></th>\n",
       "      <th></th>\n",
       "      <th></th>\n",
       "      <th></th>\n",
       "      <th></th>\n",
       "      <th></th>\n",
       "      <th></th>\n",
       "      <th></th>\n",
       "    </tr>\n",
       "  </thead>\n",
       "  <tbody>\n",
       "    <tr>\n",
       "      <th>0</th>\n",
       "      <td>AMBUJACEM</td>\n",
       "      <td>217.00</td>\n",
       "      <td>218.50</td>\n",
       "      <td>221.95</td>\n",
       "      <td>217.55</td>\n",
       "      <td>221.20</td>\n",
       "      <td>220.32</td>\n",
       "      <td>3358699</td>\n",
       "      <td>31667</td>\n",
       "      <td>2020-10-01</td>\n",
       "      <td>10</td>\n",
       "      <td>2020</td>\n",
       "      <td>1</td>\n",
       "    </tr>\n",
       "    <tr>\n",
       "      <th>1</th>\n",
       "      <td>AMBUJACEM</td>\n",
       "      <td>221.20</td>\n",
       "      <td>221.20</td>\n",
       "      <td>224.20</td>\n",
       "      <td>219.45</td>\n",
       "      <td>221.35</td>\n",
       "      <td>221.39</td>\n",
       "      <td>3259420</td>\n",
       "      <td>33828</td>\n",
       "      <td>2020-10-05</td>\n",
       "      <td>10</td>\n",
       "      <td>2020</td>\n",
       "      <td>5</td>\n",
       "    </tr>\n",
       "    <tr>\n",
       "      <th>2</th>\n",
       "      <td>AMBUJACEM</td>\n",
       "      <td>221.35</td>\n",
       "      <td>222.95</td>\n",
       "      <td>227.75</td>\n",
       "      <td>220.10</td>\n",
       "      <td>225.30</td>\n",
       "      <td>223.04</td>\n",
       "      <td>4929361</td>\n",
       "      <td>66393</td>\n",
       "      <td>2020-10-06</td>\n",
       "      <td>10</td>\n",
       "      <td>2020</td>\n",
       "      <td>6</td>\n",
       "    </tr>\n",
       "    <tr>\n",
       "      <th>3</th>\n",
       "      <td>AMBUJACEM</td>\n",
       "      <td>225.30</td>\n",
       "      <td>226.00</td>\n",
       "      <td>237.75</td>\n",
       "      <td>225.00</td>\n",
       "      <td>234.80</td>\n",
       "      <td>233.77</td>\n",
       "      <td>16914960</td>\n",
       "      <td>126279</td>\n",
       "      <td>2020-10-07</td>\n",
       "      <td>10</td>\n",
       "      <td>2020</td>\n",
       "      <td>7</td>\n",
       "    </tr>\n",
       "    <tr>\n",
       "      <th>4</th>\n",
       "      <td>AMBUJACEM</td>\n",
       "      <td>234.80</td>\n",
       "      <td>234.80</td>\n",
       "      <td>239.95</td>\n",
       "      <td>231.40</td>\n",
       "      <td>238.15</td>\n",
       "      <td>235.51</td>\n",
       "      <td>8142299</td>\n",
       "      <td>60297</td>\n",
       "      <td>2020-10-08</td>\n",
       "      <td>10</td>\n",
       "      <td>2020</td>\n",
       "      <td>8</td>\n",
       "    </tr>\n",
       "    <tr>\n",
       "      <th>5</th>\n",
       "      <td>AMBUJACEM</td>\n",
       "      <td>238.15</td>\n",
       "      <td>236.55</td>\n",
       "      <td>240.55</td>\n",
       "      <td>235.00</td>\n",
       "      <td>239.35</td>\n",
       "      <td>237.51</td>\n",
       "      <td>6602985</td>\n",
       "      <td>47148</td>\n",
       "      <td>2020-10-09</td>\n",
       "      <td>10</td>\n",
       "      <td>2020</td>\n",
       "      <td>9</td>\n",
       "    </tr>\n",
       "    <tr>\n",
       "      <th>6</th>\n",
       "      <td>AMBUJACEM</td>\n",
       "      <td>239.35</td>\n",
       "      <td>238.00</td>\n",
       "      <td>242.35</td>\n",
       "      <td>233.20</td>\n",
       "      <td>238.40</td>\n",
       "      <td>238.20</td>\n",
       "      <td>6441943</td>\n",
       "      <td>44894</td>\n",
       "      <td>2020-10-12</td>\n",
       "      <td>10</td>\n",
       "      <td>2020</td>\n",
       "      <td>12</td>\n",
       "    </tr>\n",
       "    <tr>\n",
       "      <th>7</th>\n",
       "      <td>AMBUJACEM</td>\n",
       "      <td>238.40</td>\n",
       "      <td>237.00</td>\n",
       "      <td>249.35</td>\n",
       "      <td>236.80</td>\n",
       "      <td>241.75</td>\n",
       "      <td>244.63</td>\n",
       "      <td>16150051</td>\n",
       "      <td>103182</td>\n",
       "      <td>2020-10-13</td>\n",
       "      <td>10</td>\n",
       "      <td>2020</td>\n",
       "      <td>13</td>\n",
       "    </tr>\n",
       "    <tr>\n",
       "      <th>8</th>\n",
       "      <td>AMBUJACEM</td>\n",
       "      <td>241.75</td>\n",
       "      <td>241.95</td>\n",
       "      <td>248.00</td>\n",
       "      <td>240.15</td>\n",
       "      <td>246.60</td>\n",
       "      <td>244.45</td>\n",
       "      <td>10384793</td>\n",
       "      <td>57060</td>\n",
       "      <td>2020-10-14</td>\n",
       "      <td>10</td>\n",
       "      <td>2020</td>\n",
       "      <td>14</td>\n",
       "    </tr>\n",
       "    <tr>\n",
       "      <th>9</th>\n",
       "      <td>AMBUJACEM</td>\n",
       "      <td>246.60</td>\n",
       "      <td>248.00</td>\n",
       "      <td>250.00</td>\n",
       "      <td>240.80</td>\n",
       "      <td>243.35</td>\n",
       "      <td>245.52</td>\n",
       "      <td>8031726</td>\n",
       "      <td>68185</td>\n",
       "      <td>2020-10-15</td>\n",
       "      <td>10</td>\n",
       "      <td>2020</td>\n",
       "      <td>15</td>\n",
       "    </tr>\n",
       "    <tr>\n",
       "      <th>10</th>\n",
       "      <td>AMBUJACEM</td>\n",
       "      <td>243.35</td>\n",
       "      <td>243.30</td>\n",
       "      <td>249.00</td>\n",
       "      <td>240.15</td>\n",
       "      <td>248.00</td>\n",
       "      <td>245.32</td>\n",
       "      <td>12591434</td>\n",
       "      <td>67208</td>\n",
       "      <td>2020-10-16</td>\n",
       "      <td>10</td>\n",
       "      <td>2020</td>\n",
       "      <td>16</td>\n",
       "    </tr>\n",
       "    <tr>\n",
       "      <th>11</th>\n",
       "      <td>AMBUJACEM</td>\n",
       "      <td>248.00</td>\n",
       "      <td>249.20</td>\n",
       "      <td>249.70</td>\n",
       "      <td>243.40</td>\n",
       "      <td>247.60</td>\n",
       "      <td>245.76</td>\n",
       "      <td>10969208</td>\n",
       "      <td>48494</td>\n",
       "      <td>2020-10-19</td>\n",
       "      <td>10</td>\n",
       "      <td>2020</td>\n",
       "      <td>19</td>\n",
       "    </tr>\n",
       "    <tr>\n",
       "      <th>12</th>\n",
       "      <td>AMBUJACEM</td>\n",
       "      <td>247.60</td>\n",
       "      <td>249.90</td>\n",
       "      <td>254.90</td>\n",
       "      <td>247.05</td>\n",
       "      <td>251.45</td>\n",
       "      <td>251.27</td>\n",
       "      <td>20195023</td>\n",
       "      <td>139573</td>\n",
       "      <td>2020-10-20</td>\n",
       "      <td>10</td>\n",
       "      <td>2020</td>\n",
       "      <td>20</td>\n",
       "    </tr>\n",
       "    <tr>\n",
       "      <th>13</th>\n",
       "      <td>AMBUJACEM</td>\n",
       "      <td>251.45</td>\n",
       "      <td>251.90</td>\n",
       "      <td>254.30</td>\n",
       "      <td>245.95</td>\n",
       "      <td>253.35</td>\n",
       "      <td>251.12</td>\n",
       "      <td>9478126</td>\n",
       "      <td>56247</td>\n",
       "      <td>2020-10-21</td>\n",
       "      <td>10</td>\n",
       "      <td>2020</td>\n",
       "      <td>21</td>\n",
       "    </tr>\n",
       "    <tr>\n",
       "      <th>14</th>\n",
       "      <td>AMBUJACEM</td>\n",
       "      <td>253.35</td>\n",
       "      <td>253.00</td>\n",
       "      <td>255.60</td>\n",
       "      <td>249.50</td>\n",
       "      <td>253.60</td>\n",
       "      <td>252.76</td>\n",
       "      <td>11569824</td>\n",
       "      <td>74815</td>\n",
       "      <td>2020-10-22</td>\n",
       "      <td>10</td>\n",
       "      <td>2020</td>\n",
       "      <td>22</td>\n",
       "    </tr>\n",
       "    <tr>\n",
       "      <th>15</th>\n",
       "      <td>AMBUJACEM</td>\n",
       "      <td>253.60</td>\n",
       "      <td>255.50</td>\n",
       "      <td>256.00</td>\n",
       "      <td>245.00</td>\n",
       "      <td>247.40</td>\n",
       "      <td>250.14</td>\n",
       "      <td>15337715</td>\n",
       "      <td>104670</td>\n",
       "      <td>2020-10-23</td>\n",
       "      <td>10</td>\n",
       "      <td>2020</td>\n",
       "      <td>23</td>\n",
       "    </tr>\n",
       "    <tr>\n",
       "      <th>16</th>\n",
       "      <td>AMBUJACEM</td>\n",
       "      <td>247.40</td>\n",
       "      <td>248.70</td>\n",
       "      <td>249.00</td>\n",
       "      <td>242.45</td>\n",
       "      <td>245.05</td>\n",
       "      <td>244.76</td>\n",
       "      <td>8116758</td>\n",
       "      <td>55350</td>\n",
       "      <td>2020-10-26</td>\n",
       "      <td>10</td>\n",
       "      <td>2020</td>\n",
       "      <td>26</td>\n",
       "    </tr>\n",
       "    <tr>\n",
       "      <th>17</th>\n",
       "      <td>AMBUJACEM</td>\n",
       "      <td>245.05</td>\n",
       "      <td>245.05</td>\n",
       "      <td>257.00</td>\n",
       "      <td>243.65</td>\n",
       "      <td>255.85</td>\n",
       "      <td>252.15</td>\n",
       "      <td>13207219</td>\n",
       "      <td>75595</td>\n",
       "      <td>2020-10-27</td>\n",
       "      <td>10</td>\n",
       "      <td>2020</td>\n",
       "      <td>27</td>\n",
       "    </tr>\n",
       "    <tr>\n",
       "      <th>18</th>\n",
       "      <td>AMBUJACEM</td>\n",
       "      <td>255.85</td>\n",
       "      <td>253.85</td>\n",
       "      <td>254.70</td>\n",
       "      <td>250.35</td>\n",
       "      <td>251.80</td>\n",
       "      <td>252.41</td>\n",
       "      <td>4873537</td>\n",
       "      <td>45960</td>\n",
       "      <td>2020-10-28</td>\n",
       "      <td>10</td>\n",
       "      <td>2020</td>\n",
       "      <td>28</td>\n",
       "    </tr>\n",
       "    <tr>\n",
       "      <th>19</th>\n",
       "      <td>AMBUJACEM</td>\n",
       "      <td>251.80</td>\n",
       "      <td>250.50</td>\n",
       "      <td>255.00</td>\n",
       "      <td>248.70</td>\n",
       "      <td>254.00</td>\n",
       "      <td>251.88</td>\n",
       "      <td>4794371</td>\n",
       "      <td>42491</td>\n",
       "      <td>2020-10-29</td>\n",
       "      <td>10</td>\n",
       "      <td>2020</td>\n",
       "      <td>29</td>\n",
       "    </tr>\n",
       "    <tr>\n",
       "      <th>20</th>\n",
       "      <td>AMBUJACEM</td>\n",
       "      <td>254.00</td>\n",
       "      <td>254.85</td>\n",
       "      <td>265.80</td>\n",
       "      <td>252.40</td>\n",
       "      <td>259.70</td>\n",
       "      <td>260.05</td>\n",
       "      <td>18101783</td>\n",
       "      <td>96213</td>\n",
       "      <td>2020-10-30</td>\n",
       "      <td>10</td>\n",
       "      <td>2020</td>\n",
       "      <td>30</td>\n",
       "    </tr>\n",
       "  </tbody>\n",
       "</table>\n",
       "</div>"
      ],
      "text/plain": [
       "                  Symbol  Prev Close    Open    High     Low   Close    VWAP  \\\n",
       "Serial Number                                                                  \n",
       "0              AMBUJACEM      217.00  218.50  221.95  217.55  221.20  220.32   \n",
       "1              AMBUJACEM      221.20  221.20  224.20  219.45  221.35  221.39   \n",
       "2              AMBUJACEM      221.35  222.95  227.75  220.10  225.30  223.04   \n",
       "3              AMBUJACEM      225.30  226.00  237.75  225.00  234.80  233.77   \n",
       "4              AMBUJACEM      234.80  234.80  239.95  231.40  238.15  235.51   \n",
       "5              AMBUJACEM      238.15  236.55  240.55  235.00  239.35  237.51   \n",
       "6              AMBUJACEM      239.35  238.00  242.35  233.20  238.40  238.20   \n",
       "7              AMBUJACEM      238.40  237.00  249.35  236.80  241.75  244.63   \n",
       "8              AMBUJACEM      241.75  241.95  248.00  240.15  246.60  244.45   \n",
       "9              AMBUJACEM      246.60  248.00  250.00  240.80  243.35  245.52   \n",
       "10             AMBUJACEM      243.35  243.30  249.00  240.15  248.00  245.32   \n",
       "11             AMBUJACEM      248.00  249.20  249.70  243.40  247.60  245.76   \n",
       "12             AMBUJACEM      247.60  249.90  254.90  247.05  251.45  251.27   \n",
       "13             AMBUJACEM      251.45  251.90  254.30  245.95  253.35  251.12   \n",
       "14             AMBUJACEM      253.35  253.00  255.60  249.50  253.60  252.76   \n",
       "15             AMBUJACEM      253.60  255.50  256.00  245.00  247.40  250.14   \n",
       "16             AMBUJACEM      247.40  248.70  249.00  242.45  245.05  244.76   \n",
       "17             AMBUJACEM      245.05  245.05  257.00  243.65  255.85  252.15   \n",
       "18             AMBUJACEM      255.85  253.85  254.70  250.35  251.80  252.41   \n",
       "19             AMBUJACEM      251.80  250.50  255.00  248.70  254.00  251.88   \n",
       "20             AMBUJACEM      254.00  254.85  265.80  252.40  259.70  260.05   \n",
       "\n",
       "                 Volume  Trades        Date  Month  Year  Day_Number_of_Month  \n",
       "Serial Number                                                                  \n",
       "0               3358699   31667  2020-10-01     10  2020                    1  \n",
       "1               3259420   33828  2020-10-05     10  2020                    5  \n",
       "2               4929361   66393  2020-10-06     10  2020                    6  \n",
       "3              16914960  126279  2020-10-07     10  2020                    7  \n",
       "4               8142299   60297  2020-10-08     10  2020                    8  \n",
       "5               6602985   47148  2020-10-09     10  2020                    9  \n",
       "6               6441943   44894  2020-10-12     10  2020                   12  \n",
       "7              16150051  103182  2020-10-13     10  2020                   13  \n",
       "8              10384793   57060  2020-10-14     10  2020                   14  \n",
       "9               8031726   68185  2020-10-15     10  2020                   15  \n",
       "10             12591434   67208  2020-10-16     10  2020                   16  \n",
       "11             10969208   48494  2020-10-19     10  2020                   19  \n",
       "12             20195023  139573  2020-10-20     10  2020                   20  \n",
       "13              9478126   56247  2020-10-21     10  2020                   21  \n",
       "14             11569824   74815  2020-10-22     10  2020                   22  \n",
       "15             15337715  104670  2020-10-23     10  2020                   23  \n",
       "16              8116758   55350  2020-10-26     10  2020                   26  \n",
       "17             13207219   75595  2020-10-27     10  2020                   27  \n",
       "18              4873537   45960  2020-10-28     10  2020                   28  \n",
       "19              4794371   42491  2020-10-29     10  2020                   29  \n",
       "20             18101783   96213  2020-10-30     10  2020                   30  "
      ]
     },
     "execution_count": 161,
     "metadata": {},
     "output_type": "execute_result"
    }
   ],
   "source": [
    "df"
   ]
  },
  {
   "cell_type": "code",
   "execution_count": 162,
   "metadata": {},
   "outputs": [],
   "source": [
    "df['Month_Name'] = df['Month'].apply(lambda x: calendar.month_abbr[x])"
   ]
  },
  {
   "cell_type": "code",
   "execution_count": 163,
   "metadata": {},
   "outputs": [
    {
     "data": {
      "text/html": [
       "<div>\n",
       "<style scoped>\n",
       "    .dataframe tbody tr th:only-of-type {\n",
       "        vertical-align: middle;\n",
       "    }\n",
       "\n",
       "    .dataframe tbody tr th {\n",
       "        vertical-align: top;\n",
       "    }\n",
       "\n",
       "    .dataframe thead th {\n",
       "        text-align: right;\n",
       "    }\n",
       "</style>\n",
       "<table border=\"1\" class=\"dataframe\">\n",
       "  <thead>\n",
       "    <tr style=\"text-align: right;\">\n",
       "      <th></th>\n",
       "      <th>Symbol</th>\n",
       "      <th>Prev Close</th>\n",
       "      <th>Open</th>\n",
       "      <th>High</th>\n",
       "      <th>Low</th>\n",
       "      <th>Close</th>\n",
       "      <th>VWAP</th>\n",
       "      <th>Volume</th>\n",
       "      <th>Trades</th>\n",
       "      <th>Date</th>\n",
       "      <th>Month</th>\n",
       "      <th>Year</th>\n",
       "      <th>Day_Number_of_Month</th>\n",
       "      <th>Month_Name</th>\n",
       "    </tr>\n",
       "    <tr>\n",
       "      <th>Serial Number</th>\n",
       "      <th></th>\n",
       "      <th></th>\n",
       "      <th></th>\n",
       "      <th></th>\n",
       "      <th></th>\n",
       "      <th></th>\n",
       "      <th></th>\n",
       "      <th></th>\n",
       "      <th></th>\n",
       "      <th></th>\n",
       "      <th></th>\n",
       "      <th></th>\n",
       "      <th></th>\n",
       "      <th></th>\n",
       "    </tr>\n",
       "  </thead>\n",
       "  <tbody>\n",
       "    <tr>\n",
       "      <th>0</th>\n",
       "      <td>AMBUJACEM</td>\n",
       "      <td>217.00</td>\n",
       "      <td>218.50</td>\n",
       "      <td>221.95</td>\n",
       "      <td>217.55</td>\n",
       "      <td>221.20</td>\n",
       "      <td>220.32</td>\n",
       "      <td>3358699</td>\n",
       "      <td>31667</td>\n",
       "      <td>2020-10-01</td>\n",
       "      <td>10</td>\n",
       "      <td>2020</td>\n",
       "      <td>1</td>\n",
       "      <td>Oct</td>\n",
       "    </tr>\n",
       "    <tr>\n",
       "      <th>1</th>\n",
       "      <td>AMBUJACEM</td>\n",
       "      <td>221.20</td>\n",
       "      <td>221.20</td>\n",
       "      <td>224.20</td>\n",
       "      <td>219.45</td>\n",
       "      <td>221.35</td>\n",
       "      <td>221.39</td>\n",
       "      <td>3259420</td>\n",
       "      <td>33828</td>\n",
       "      <td>2020-10-05</td>\n",
       "      <td>10</td>\n",
       "      <td>2020</td>\n",
       "      <td>5</td>\n",
       "      <td>Oct</td>\n",
       "    </tr>\n",
       "    <tr>\n",
       "      <th>2</th>\n",
       "      <td>AMBUJACEM</td>\n",
       "      <td>221.35</td>\n",
       "      <td>222.95</td>\n",
       "      <td>227.75</td>\n",
       "      <td>220.10</td>\n",
       "      <td>225.30</td>\n",
       "      <td>223.04</td>\n",
       "      <td>4929361</td>\n",
       "      <td>66393</td>\n",
       "      <td>2020-10-06</td>\n",
       "      <td>10</td>\n",
       "      <td>2020</td>\n",
       "      <td>6</td>\n",
       "      <td>Oct</td>\n",
       "    </tr>\n",
       "    <tr>\n",
       "      <th>3</th>\n",
       "      <td>AMBUJACEM</td>\n",
       "      <td>225.30</td>\n",
       "      <td>226.00</td>\n",
       "      <td>237.75</td>\n",
       "      <td>225.00</td>\n",
       "      <td>234.80</td>\n",
       "      <td>233.77</td>\n",
       "      <td>16914960</td>\n",
       "      <td>126279</td>\n",
       "      <td>2020-10-07</td>\n",
       "      <td>10</td>\n",
       "      <td>2020</td>\n",
       "      <td>7</td>\n",
       "      <td>Oct</td>\n",
       "    </tr>\n",
       "    <tr>\n",
       "      <th>4</th>\n",
       "      <td>AMBUJACEM</td>\n",
       "      <td>234.80</td>\n",
       "      <td>234.80</td>\n",
       "      <td>239.95</td>\n",
       "      <td>231.40</td>\n",
       "      <td>238.15</td>\n",
       "      <td>235.51</td>\n",
       "      <td>8142299</td>\n",
       "      <td>60297</td>\n",
       "      <td>2020-10-08</td>\n",
       "      <td>10</td>\n",
       "      <td>2020</td>\n",
       "      <td>8</td>\n",
       "      <td>Oct</td>\n",
       "    </tr>\n",
       "    <tr>\n",
       "      <th>5</th>\n",
       "      <td>AMBUJACEM</td>\n",
       "      <td>238.15</td>\n",
       "      <td>236.55</td>\n",
       "      <td>240.55</td>\n",
       "      <td>235.00</td>\n",
       "      <td>239.35</td>\n",
       "      <td>237.51</td>\n",
       "      <td>6602985</td>\n",
       "      <td>47148</td>\n",
       "      <td>2020-10-09</td>\n",
       "      <td>10</td>\n",
       "      <td>2020</td>\n",
       "      <td>9</td>\n",
       "      <td>Oct</td>\n",
       "    </tr>\n",
       "    <tr>\n",
       "      <th>6</th>\n",
       "      <td>AMBUJACEM</td>\n",
       "      <td>239.35</td>\n",
       "      <td>238.00</td>\n",
       "      <td>242.35</td>\n",
       "      <td>233.20</td>\n",
       "      <td>238.40</td>\n",
       "      <td>238.20</td>\n",
       "      <td>6441943</td>\n",
       "      <td>44894</td>\n",
       "      <td>2020-10-12</td>\n",
       "      <td>10</td>\n",
       "      <td>2020</td>\n",
       "      <td>12</td>\n",
       "      <td>Oct</td>\n",
       "    </tr>\n",
       "    <tr>\n",
       "      <th>7</th>\n",
       "      <td>AMBUJACEM</td>\n",
       "      <td>238.40</td>\n",
       "      <td>237.00</td>\n",
       "      <td>249.35</td>\n",
       "      <td>236.80</td>\n",
       "      <td>241.75</td>\n",
       "      <td>244.63</td>\n",
       "      <td>16150051</td>\n",
       "      <td>103182</td>\n",
       "      <td>2020-10-13</td>\n",
       "      <td>10</td>\n",
       "      <td>2020</td>\n",
       "      <td>13</td>\n",
       "      <td>Oct</td>\n",
       "    </tr>\n",
       "    <tr>\n",
       "      <th>8</th>\n",
       "      <td>AMBUJACEM</td>\n",
       "      <td>241.75</td>\n",
       "      <td>241.95</td>\n",
       "      <td>248.00</td>\n",
       "      <td>240.15</td>\n",
       "      <td>246.60</td>\n",
       "      <td>244.45</td>\n",
       "      <td>10384793</td>\n",
       "      <td>57060</td>\n",
       "      <td>2020-10-14</td>\n",
       "      <td>10</td>\n",
       "      <td>2020</td>\n",
       "      <td>14</td>\n",
       "      <td>Oct</td>\n",
       "    </tr>\n",
       "    <tr>\n",
       "      <th>9</th>\n",
       "      <td>AMBUJACEM</td>\n",
       "      <td>246.60</td>\n",
       "      <td>248.00</td>\n",
       "      <td>250.00</td>\n",
       "      <td>240.80</td>\n",
       "      <td>243.35</td>\n",
       "      <td>245.52</td>\n",
       "      <td>8031726</td>\n",
       "      <td>68185</td>\n",
       "      <td>2020-10-15</td>\n",
       "      <td>10</td>\n",
       "      <td>2020</td>\n",
       "      <td>15</td>\n",
       "      <td>Oct</td>\n",
       "    </tr>\n",
       "    <tr>\n",
       "      <th>10</th>\n",
       "      <td>AMBUJACEM</td>\n",
       "      <td>243.35</td>\n",
       "      <td>243.30</td>\n",
       "      <td>249.00</td>\n",
       "      <td>240.15</td>\n",
       "      <td>248.00</td>\n",
       "      <td>245.32</td>\n",
       "      <td>12591434</td>\n",
       "      <td>67208</td>\n",
       "      <td>2020-10-16</td>\n",
       "      <td>10</td>\n",
       "      <td>2020</td>\n",
       "      <td>16</td>\n",
       "      <td>Oct</td>\n",
       "    </tr>\n",
       "    <tr>\n",
       "      <th>11</th>\n",
       "      <td>AMBUJACEM</td>\n",
       "      <td>248.00</td>\n",
       "      <td>249.20</td>\n",
       "      <td>249.70</td>\n",
       "      <td>243.40</td>\n",
       "      <td>247.60</td>\n",
       "      <td>245.76</td>\n",
       "      <td>10969208</td>\n",
       "      <td>48494</td>\n",
       "      <td>2020-10-19</td>\n",
       "      <td>10</td>\n",
       "      <td>2020</td>\n",
       "      <td>19</td>\n",
       "      <td>Oct</td>\n",
       "    </tr>\n",
       "    <tr>\n",
       "      <th>12</th>\n",
       "      <td>AMBUJACEM</td>\n",
       "      <td>247.60</td>\n",
       "      <td>249.90</td>\n",
       "      <td>254.90</td>\n",
       "      <td>247.05</td>\n",
       "      <td>251.45</td>\n",
       "      <td>251.27</td>\n",
       "      <td>20195023</td>\n",
       "      <td>139573</td>\n",
       "      <td>2020-10-20</td>\n",
       "      <td>10</td>\n",
       "      <td>2020</td>\n",
       "      <td>20</td>\n",
       "      <td>Oct</td>\n",
       "    </tr>\n",
       "    <tr>\n",
       "      <th>13</th>\n",
       "      <td>AMBUJACEM</td>\n",
       "      <td>251.45</td>\n",
       "      <td>251.90</td>\n",
       "      <td>254.30</td>\n",
       "      <td>245.95</td>\n",
       "      <td>253.35</td>\n",
       "      <td>251.12</td>\n",
       "      <td>9478126</td>\n",
       "      <td>56247</td>\n",
       "      <td>2020-10-21</td>\n",
       "      <td>10</td>\n",
       "      <td>2020</td>\n",
       "      <td>21</td>\n",
       "      <td>Oct</td>\n",
       "    </tr>\n",
       "    <tr>\n",
       "      <th>14</th>\n",
       "      <td>AMBUJACEM</td>\n",
       "      <td>253.35</td>\n",
       "      <td>253.00</td>\n",
       "      <td>255.60</td>\n",
       "      <td>249.50</td>\n",
       "      <td>253.60</td>\n",
       "      <td>252.76</td>\n",
       "      <td>11569824</td>\n",
       "      <td>74815</td>\n",
       "      <td>2020-10-22</td>\n",
       "      <td>10</td>\n",
       "      <td>2020</td>\n",
       "      <td>22</td>\n",
       "      <td>Oct</td>\n",
       "    </tr>\n",
       "    <tr>\n",
       "      <th>15</th>\n",
       "      <td>AMBUJACEM</td>\n",
       "      <td>253.60</td>\n",
       "      <td>255.50</td>\n",
       "      <td>256.00</td>\n",
       "      <td>245.00</td>\n",
       "      <td>247.40</td>\n",
       "      <td>250.14</td>\n",
       "      <td>15337715</td>\n",
       "      <td>104670</td>\n",
       "      <td>2020-10-23</td>\n",
       "      <td>10</td>\n",
       "      <td>2020</td>\n",
       "      <td>23</td>\n",
       "      <td>Oct</td>\n",
       "    </tr>\n",
       "    <tr>\n",
       "      <th>16</th>\n",
       "      <td>AMBUJACEM</td>\n",
       "      <td>247.40</td>\n",
       "      <td>248.70</td>\n",
       "      <td>249.00</td>\n",
       "      <td>242.45</td>\n",
       "      <td>245.05</td>\n",
       "      <td>244.76</td>\n",
       "      <td>8116758</td>\n",
       "      <td>55350</td>\n",
       "      <td>2020-10-26</td>\n",
       "      <td>10</td>\n",
       "      <td>2020</td>\n",
       "      <td>26</td>\n",
       "      <td>Oct</td>\n",
       "    </tr>\n",
       "    <tr>\n",
       "      <th>17</th>\n",
       "      <td>AMBUJACEM</td>\n",
       "      <td>245.05</td>\n",
       "      <td>245.05</td>\n",
       "      <td>257.00</td>\n",
       "      <td>243.65</td>\n",
       "      <td>255.85</td>\n",
       "      <td>252.15</td>\n",
       "      <td>13207219</td>\n",
       "      <td>75595</td>\n",
       "      <td>2020-10-27</td>\n",
       "      <td>10</td>\n",
       "      <td>2020</td>\n",
       "      <td>27</td>\n",
       "      <td>Oct</td>\n",
       "    </tr>\n",
       "    <tr>\n",
       "      <th>18</th>\n",
       "      <td>AMBUJACEM</td>\n",
       "      <td>255.85</td>\n",
       "      <td>253.85</td>\n",
       "      <td>254.70</td>\n",
       "      <td>250.35</td>\n",
       "      <td>251.80</td>\n",
       "      <td>252.41</td>\n",
       "      <td>4873537</td>\n",
       "      <td>45960</td>\n",
       "      <td>2020-10-28</td>\n",
       "      <td>10</td>\n",
       "      <td>2020</td>\n",
       "      <td>28</td>\n",
       "      <td>Oct</td>\n",
       "    </tr>\n",
       "    <tr>\n",
       "      <th>19</th>\n",
       "      <td>AMBUJACEM</td>\n",
       "      <td>251.80</td>\n",
       "      <td>250.50</td>\n",
       "      <td>255.00</td>\n",
       "      <td>248.70</td>\n",
       "      <td>254.00</td>\n",
       "      <td>251.88</td>\n",
       "      <td>4794371</td>\n",
       "      <td>42491</td>\n",
       "      <td>2020-10-29</td>\n",
       "      <td>10</td>\n",
       "      <td>2020</td>\n",
       "      <td>29</td>\n",
       "      <td>Oct</td>\n",
       "    </tr>\n",
       "    <tr>\n",
       "      <th>20</th>\n",
       "      <td>AMBUJACEM</td>\n",
       "      <td>254.00</td>\n",
       "      <td>254.85</td>\n",
       "      <td>265.80</td>\n",
       "      <td>252.40</td>\n",
       "      <td>259.70</td>\n",
       "      <td>260.05</td>\n",
       "      <td>18101783</td>\n",
       "      <td>96213</td>\n",
       "      <td>2020-10-30</td>\n",
       "      <td>10</td>\n",
       "      <td>2020</td>\n",
       "      <td>30</td>\n",
       "      <td>Oct</td>\n",
       "    </tr>\n",
       "  </tbody>\n",
       "</table>\n",
       "</div>"
      ],
      "text/plain": [
       "                  Symbol  Prev Close    Open    High     Low   Close    VWAP  \\\n",
       "Serial Number                                                                  \n",
       "0              AMBUJACEM      217.00  218.50  221.95  217.55  221.20  220.32   \n",
       "1              AMBUJACEM      221.20  221.20  224.20  219.45  221.35  221.39   \n",
       "2              AMBUJACEM      221.35  222.95  227.75  220.10  225.30  223.04   \n",
       "3              AMBUJACEM      225.30  226.00  237.75  225.00  234.80  233.77   \n",
       "4              AMBUJACEM      234.80  234.80  239.95  231.40  238.15  235.51   \n",
       "5              AMBUJACEM      238.15  236.55  240.55  235.00  239.35  237.51   \n",
       "6              AMBUJACEM      239.35  238.00  242.35  233.20  238.40  238.20   \n",
       "7              AMBUJACEM      238.40  237.00  249.35  236.80  241.75  244.63   \n",
       "8              AMBUJACEM      241.75  241.95  248.00  240.15  246.60  244.45   \n",
       "9              AMBUJACEM      246.60  248.00  250.00  240.80  243.35  245.52   \n",
       "10             AMBUJACEM      243.35  243.30  249.00  240.15  248.00  245.32   \n",
       "11             AMBUJACEM      248.00  249.20  249.70  243.40  247.60  245.76   \n",
       "12             AMBUJACEM      247.60  249.90  254.90  247.05  251.45  251.27   \n",
       "13             AMBUJACEM      251.45  251.90  254.30  245.95  253.35  251.12   \n",
       "14             AMBUJACEM      253.35  253.00  255.60  249.50  253.60  252.76   \n",
       "15             AMBUJACEM      253.60  255.50  256.00  245.00  247.40  250.14   \n",
       "16             AMBUJACEM      247.40  248.70  249.00  242.45  245.05  244.76   \n",
       "17             AMBUJACEM      245.05  245.05  257.00  243.65  255.85  252.15   \n",
       "18             AMBUJACEM      255.85  253.85  254.70  250.35  251.80  252.41   \n",
       "19             AMBUJACEM      251.80  250.50  255.00  248.70  254.00  251.88   \n",
       "20             AMBUJACEM      254.00  254.85  265.80  252.40  259.70  260.05   \n",
       "\n",
       "                 Volume  Trades        Date  Month  Year  Day_Number_of_Month  \\\n",
       "Serial Number                                                                   \n",
       "0               3358699   31667  2020-10-01     10  2020                    1   \n",
       "1               3259420   33828  2020-10-05     10  2020                    5   \n",
       "2               4929361   66393  2020-10-06     10  2020                    6   \n",
       "3              16914960  126279  2020-10-07     10  2020                    7   \n",
       "4               8142299   60297  2020-10-08     10  2020                    8   \n",
       "5               6602985   47148  2020-10-09     10  2020                    9   \n",
       "6               6441943   44894  2020-10-12     10  2020                   12   \n",
       "7              16150051  103182  2020-10-13     10  2020                   13   \n",
       "8              10384793   57060  2020-10-14     10  2020                   14   \n",
       "9               8031726   68185  2020-10-15     10  2020                   15   \n",
       "10             12591434   67208  2020-10-16     10  2020                   16   \n",
       "11             10969208   48494  2020-10-19     10  2020                   19   \n",
       "12             20195023  139573  2020-10-20     10  2020                   20   \n",
       "13              9478126   56247  2020-10-21     10  2020                   21   \n",
       "14             11569824   74815  2020-10-22     10  2020                   22   \n",
       "15             15337715  104670  2020-10-23     10  2020                   23   \n",
       "16              8116758   55350  2020-10-26     10  2020                   26   \n",
       "17             13207219   75595  2020-10-27     10  2020                   27   \n",
       "18              4873537   45960  2020-10-28     10  2020                   28   \n",
       "19              4794371   42491  2020-10-29     10  2020                   29   \n",
       "20             18101783   96213  2020-10-30     10  2020                   30   \n",
       "\n",
       "              Month_Name  \n",
       "Serial Number             \n",
       "0                    Oct  \n",
       "1                    Oct  \n",
       "2                    Oct  \n",
       "3                    Oct  \n",
       "4                    Oct  \n",
       "5                    Oct  \n",
       "6                    Oct  \n",
       "7                    Oct  \n",
       "8                    Oct  \n",
       "9                    Oct  \n",
       "10                   Oct  \n",
       "11                   Oct  \n",
       "12                   Oct  \n",
       "13                   Oct  \n",
       "14                   Oct  \n",
       "15                   Oct  \n",
       "16                   Oct  \n",
       "17                   Oct  \n",
       "18                   Oct  \n",
       "19                   Oct  \n",
       "20                   Oct  "
      ]
     },
     "execution_count": 163,
     "metadata": {},
     "output_type": "execute_result"
    }
   ],
   "source": [
    "df"
   ]
  },
  {
   "cell_type": "code",
   "execution_count": 164,
   "metadata": {},
   "outputs": [],
   "source": [
    "df=df[['Symbol', 'Prev Close', 'Open', 'High', 'Low', 'Close','VWAP', 'Volume',\n",
    "       'Trades', 'Date','Day_Number_of_Month','Month_Name', 'Month', 'Year' ]]"
   ]
  },
  {
   "cell_type": "code",
   "execution_count": 165,
   "metadata": {},
   "outputs": [
    {
     "data": {
      "text/html": [
       "<div>\n",
       "<style scoped>\n",
       "    .dataframe tbody tr th:only-of-type {\n",
       "        vertical-align: middle;\n",
       "    }\n",
       "\n",
       "    .dataframe tbody tr th {\n",
       "        vertical-align: top;\n",
       "    }\n",
       "\n",
       "    .dataframe thead th {\n",
       "        text-align: right;\n",
       "    }\n",
       "</style>\n",
       "<table border=\"1\" class=\"dataframe\">\n",
       "  <thead>\n",
       "    <tr style=\"text-align: right;\">\n",
       "      <th></th>\n",
       "      <th>Symbol</th>\n",
       "      <th>Prev Close</th>\n",
       "      <th>Open</th>\n",
       "      <th>High</th>\n",
       "      <th>Low</th>\n",
       "      <th>Close</th>\n",
       "      <th>VWAP</th>\n",
       "      <th>Volume</th>\n",
       "      <th>Trades</th>\n",
       "      <th>Date</th>\n",
       "      <th>Day_Number_of_Month</th>\n",
       "      <th>Month_Name</th>\n",
       "      <th>Month</th>\n",
       "      <th>Year</th>\n",
       "    </tr>\n",
       "    <tr>\n",
       "      <th>Serial Number</th>\n",
       "      <th></th>\n",
       "      <th></th>\n",
       "      <th></th>\n",
       "      <th></th>\n",
       "      <th></th>\n",
       "      <th></th>\n",
       "      <th></th>\n",
       "      <th></th>\n",
       "      <th></th>\n",
       "      <th></th>\n",
       "      <th></th>\n",
       "      <th></th>\n",
       "      <th></th>\n",
       "      <th></th>\n",
       "    </tr>\n",
       "  </thead>\n",
       "  <tbody>\n",
       "    <tr>\n",
       "      <th>0</th>\n",
       "      <td>AMBUJACEM</td>\n",
       "      <td>217.00</td>\n",
       "      <td>218.50</td>\n",
       "      <td>221.95</td>\n",
       "      <td>217.55</td>\n",
       "      <td>221.20</td>\n",
       "      <td>220.32</td>\n",
       "      <td>3358699</td>\n",
       "      <td>31667</td>\n",
       "      <td>2020-10-01</td>\n",
       "      <td>1</td>\n",
       "      <td>Oct</td>\n",
       "      <td>10</td>\n",
       "      <td>2020</td>\n",
       "    </tr>\n",
       "    <tr>\n",
       "      <th>1</th>\n",
       "      <td>AMBUJACEM</td>\n",
       "      <td>221.20</td>\n",
       "      <td>221.20</td>\n",
       "      <td>224.20</td>\n",
       "      <td>219.45</td>\n",
       "      <td>221.35</td>\n",
       "      <td>221.39</td>\n",
       "      <td>3259420</td>\n",
       "      <td>33828</td>\n",
       "      <td>2020-10-05</td>\n",
       "      <td>5</td>\n",
       "      <td>Oct</td>\n",
       "      <td>10</td>\n",
       "      <td>2020</td>\n",
       "    </tr>\n",
       "    <tr>\n",
       "      <th>2</th>\n",
       "      <td>AMBUJACEM</td>\n",
       "      <td>221.35</td>\n",
       "      <td>222.95</td>\n",
       "      <td>227.75</td>\n",
       "      <td>220.10</td>\n",
       "      <td>225.30</td>\n",
       "      <td>223.04</td>\n",
       "      <td>4929361</td>\n",
       "      <td>66393</td>\n",
       "      <td>2020-10-06</td>\n",
       "      <td>6</td>\n",
       "      <td>Oct</td>\n",
       "      <td>10</td>\n",
       "      <td>2020</td>\n",
       "    </tr>\n",
       "    <tr>\n",
       "      <th>3</th>\n",
       "      <td>AMBUJACEM</td>\n",
       "      <td>225.30</td>\n",
       "      <td>226.00</td>\n",
       "      <td>237.75</td>\n",
       "      <td>225.00</td>\n",
       "      <td>234.80</td>\n",
       "      <td>233.77</td>\n",
       "      <td>16914960</td>\n",
       "      <td>126279</td>\n",
       "      <td>2020-10-07</td>\n",
       "      <td>7</td>\n",
       "      <td>Oct</td>\n",
       "      <td>10</td>\n",
       "      <td>2020</td>\n",
       "    </tr>\n",
       "    <tr>\n",
       "      <th>4</th>\n",
       "      <td>AMBUJACEM</td>\n",
       "      <td>234.80</td>\n",
       "      <td>234.80</td>\n",
       "      <td>239.95</td>\n",
       "      <td>231.40</td>\n",
       "      <td>238.15</td>\n",
       "      <td>235.51</td>\n",
       "      <td>8142299</td>\n",
       "      <td>60297</td>\n",
       "      <td>2020-10-08</td>\n",
       "      <td>8</td>\n",
       "      <td>Oct</td>\n",
       "      <td>10</td>\n",
       "      <td>2020</td>\n",
       "    </tr>\n",
       "    <tr>\n",
       "      <th>5</th>\n",
       "      <td>AMBUJACEM</td>\n",
       "      <td>238.15</td>\n",
       "      <td>236.55</td>\n",
       "      <td>240.55</td>\n",
       "      <td>235.00</td>\n",
       "      <td>239.35</td>\n",
       "      <td>237.51</td>\n",
       "      <td>6602985</td>\n",
       "      <td>47148</td>\n",
       "      <td>2020-10-09</td>\n",
       "      <td>9</td>\n",
       "      <td>Oct</td>\n",
       "      <td>10</td>\n",
       "      <td>2020</td>\n",
       "    </tr>\n",
       "    <tr>\n",
       "      <th>6</th>\n",
       "      <td>AMBUJACEM</td>\n",
       "      <td>239.35</td>\n",
       "      <td>238.00</td>\n",
       "      <td>242.35</td>\n",
       "      <td>233.20</td>\n",
       "      <td>238.40</td>\n",
       "      <td>238.20</td>\n",
       "      <td>6441943</td>\n",
       "      <td>44894</td>\n",
       "      <td>2020-10-12</td>\n",
       "      <td>12</td>\n",
       "      <td>Oct</td>\n",
       "      <td>10</td>\n",
       "      <td>2020</td>\n",
       "    </tr>\n",
       "    <tr>\n",
       "      <th>7</th>\n",
       "      <td>AMBUJACEM</td>\n",
       "      <td>238.40</td>\n",
       "      <td>237.00</td>\n",
       "      <td>249.35</td>\n",
       "      <td>236.80</td>\n",
       "      <td>241.75</td>\n",
       "      <td>244.63</td>\n",
       "      <td>16150051</td>\n",
       "      <td>103182</td>\n",
       "      <td>2020-10-13</td>\n",
       "      <td>13</td>\n",
       "      <td>Oct</td>\n",
       "      <td>10</td>\n",
       "      <td>2020</td>\n",
       "    </tr>\n",
       "    <tr>\n",
       "      <th>8</th>\n",
       "      <td>AMBUJACEM</td>\n",
       "      <td>241.75</td>\n",
       "      <td>241.95</td>\n",
       "      <td>248.00</td>\n",
       "      <td>240.15</td>\n",
       "      <td>246.60</td>\n",
       "      <td>244.45</td>\n",
       "      <td>10384793</td>\n",
       "      <td>57060</td>\n",
       "      <td>2020-10-14</td>\n",
       "      <td>14</td>\n",
       "      <td>Oct</td>\n",
       "      <td>10</td>\n",
       "      <td>2020</td>\n",
       "    </tr>\n",
       "    <tr>\n",
       "      <th>9</th>\n",
       "      <td>AMBUJACEM</td>\n",
       "      <td>246.60</td>\n",
       "      <td>248.00</td>\n",
       "      <td>250.00</td>\n",
       "      <td>240.80</td>\n",
       "      <td>243.35</td>\n",
       "      <td>245.52</td>\n",
       "      <td>8031726</td>\n",
       "      <td>68185</td>\n",
       "      <td>2020-10-15</td>\n",
       "      <td>15</td>\n",
       "      <td>Oct</td>\n",
       "      <td>10</td>\n",
       "      <td>2020</td>\n",
       "    </tr>\n",
       "    <tr>\n",
       "      <th>10</th>\n",
       "      <td>AMBUJACEM</td>\n",
       "      <td>243.35</td>\n",
       "      <td>243.30</td>\n",
       "      <td>249.00</td>\n",
       "      <td>240.15</td>\n",
       "      <td>248.00</td>\n",
       "      <td>245.32</td>\n",
       "      <td>12591434</td>\n",
       "      <td>67208</td>\n",
       "      <td>2020-10-16</td>\n",
       "      <td>16</td>\n",
       "      <td>Oct</td>\n",
       "      <td>10</td>\n",
       "      <td>2020</td>\n",
       "    </tr>\n",
       "    <tr>\n",
       "      <th>11</th>\n",
       "      <td>AMBUJACEM</td>\n",
       "      <td>248.00</td>\n",
       "      <td>249.20</td>\n",
       "      <td>249.70</td>\n",
       "      <td>243.40</td>\n",
       "      <td>247.60</td>\n",
       "      <td>245.76</td>\n",
       "      <td>10969208</td>\n",
       "      <td>48494</td>\n",
       "      <td>2020-10-19</td>\n",
       "      <td>19</td>\n",
       "      <td>Oct</td>\n",
       "      <td>10</td>\n",
       "      <td>2020</td>\n",
       "    </tr>\n",
       "    <tr>\n",
       "      <th>12</th>\n",
       "      <td>AMBUJACEM</td>\n",
       "      <td>247.60</td>\n",
       "      <td>249.90</td>\n",
       "      <td>254.90</td>\n",
       "      <td>247.05</td>\n",
       "      <td>251.45</td>\n",
       "      <td>251.27</td>\n",
       "      <td>20195023</td>\n",
       "      <td>139573</td>\n",
       "      <td>2020-10-20</td>\n",
       "      <td>20</td>\n",
       "      <td>Oct</td>\n",
       "      <td>10</td>\n",
       "      <td>2020</td>\n",
       "    </tr>\n",
       "    <tr>\n",
       "      <th>13</th>\n",
       "      <td>AMBUJACEM</td>\n",
       "      <td>251.45</td>\n",
       "      <td>251.90</td>\n",
       "      <td>254.30</td>\n",
       "      <td>245.95</td>\n",
       "      <td>253.35</td>\n",
       "      <td>251.12</td>\n",
       "      <td>9478126</td>\n",
       "      <td>56247</td>\n",
       "      <td>2020-10-21</td>\n",
       "      <td>21</td>\n",
       "      <td>Oct</td>\n",
       "      <td>10</td>\n",
       "      <td>2020</td>\n",
       "    </tr>\n",
       "    <tr>\n",
       "      <th>14</th>\n",
       "      <td>AMBUJACEM</td>\n",
       "      <td>253.35</td>\n",
       "      <td>253.00</td>\n",
       "      <td>255.60</td>\n",
       "      <td>249.50</td>\n",
       "      <td>253.60</td>\n",
       "      <td>252.76</td>\n",
       "      <td>11569824</td>\n",
       "      <td>74815</td>\n",
       "      <td>2020-10-22</td>\n",
       "      <td>22</td>\n",
       "      <td>Oct</td>\n",
       "      <td>10</td>\n",
       "      <td>2020</td>\n",
       "    </tr>\n",
       "    <tr>\n",
       "      <th>15</th>\n",
       "      <td>AMBUJACEM</td>\n",
       "      <td>253.60</td>\n",
       "      <td>255.50</td>\n",
       "      <td>256.00</td>\n",
       "      <td>245.00</td>\n",
       "      <td>247.40</td>\n",
       "      <td>250.14</td>\n",
       "      <td>15337715</td>\n",
       "      <td>104670</td>\n",
       "      <td>2020-10-23</td>\n",
       "      <td>23</td>\n",
       "      <td>Oct</td>\n",
       "      <td>10</td>\n",
       "      <td>2020</td>\n",
       "    </tr>\n",
       "    <tr>\n",
       "      <th>16</th>\n",
       "      <td>AMBUJACEM</td>\n",
       "      <td>247.40</td>\n",
       "      <td>248.70</td>\n",
       "      <td>249.00</td>\n",
       "      <td>242.45</td>\n",
       "      <td>245.05</td>\n",
       "      <td>244.76</td>\n",
       "      <td>8116758</td>\n",
       "      <td>55350</td>\n",
       "      <td>2020-10-26</td>\n",
       "      <td>26</td>\n",
       "      <td>Oct</td>\n",
       "      <td>10</td>\n",
       "      <td>2020</td>\n",
       "    </tr>\n",
       "    <tr>\n",
       "      <th>17</th>\n",
       "      <td>AMBUJACEM</td>\n",
       "      <td>245.05</td>\n",
       "      <td>245.05</td>\n",
       "      <td>257.00</td>\n",
       "      <td>243.65</td>\n",
       "      <td>255.85</td>\n",
       "      <td>252.15</td>\n",
       "      <td>13207219</td>\n",
       "      <td>75595</td>\n",
       "      <td>2020-10-27</td>\n",
       "      <td>27</td>\n",
       "      <td>Oct</td>\n",
       "      <td>10</td>\n",
       "      <td>2020</td>\n",
       "    </tr>\n",
       "    <tr>\n",
       "      <th>18</th>\n",
       "      <td>AMBUJACEM</td>\n",
       "      <td>255.85</td>\n",
       "      <td>253.85</td>\n",
       "      <td>254.70</td>\n",
       "      <td>250.35</td>\n",
       "      <td>251.80</td>\n",
       "      <td>252.41</td>\n",
       "      <td>4873537</td>\n",
       "      <td>45960</td>\n",
       "      <td>2020-10-28</td>\n",
       "      <td>28</td>\n",
       "      <td>Oct</td>\n",
       "      <td>10</td>\n",
       "      <td>2020</td>\n",
       "    </tr>\n",
       "    <tr>\n",
       "      <th>19</th>\n",
       "      <td>AMBUJACEM</td>\n",
       "      <td>251.80</td>\n",
       "      <td>250.50</td>\n",
       "      <td>255.00</td>\n",
       "      <td>248.70</td>\n",
       "      <td>254.00</td>\n",
       "      <td>251.88</td>\n",
       "      <td>4794371</td>\n",
       "      <td>42491</td>\n",
       "      <td>2020-10-29</td>\n",
       "      <td>29</td>\n",
       "      <td>Oct</td>\n",
       "      <td>10</td>\n",
       "      <td>2020</td>\n",
       "    </tr>\n",
       "    <tr>\n",
       "      <th>20</th>\n",
       "      <td>AMBUJACEM</td>\n",
       "      <td>254.00</td>\n",
       "      <td>254.85</td>\n",
       "      <td>265.80</td>\n",
       "      <td>252.40</td>\n",
       "      <td>259.70</td>\n",
       "      <td>260.05</td>\n",
       "      <td>18101783</td>\n",
       "      <td>96213</td>\n",
       "      <td>2020-10-30</td>\n",
       "      <td>30</td>\n",
       "      <td>Oct</td>\n",
       "      <td>10</td>\n",
       "      <td>2020</td>\n",
       "    </tr>\n",
       "  </tbody>\n",
       "</table>\n",
       "</div>"
      ],
      "text/plain": [
       "                  Symbol  Prev Close    Open    High     Low   Close    VWAP  \\\n",
       "Serial Number                                                                  \n",
       "0              AMBUJACEM      217.00  218.50  221.95  217.55  221.20  220.32   \n",
       "1              AMBUJACEM      221.20  221.20  224.20  219.45  221.35  221.39   \n",
       "2              AMBUJACEM      221.35  222.95  227.75  220.10  225.30  223.04   \n",
       "3              AMBUJACEM      225.30  226.00  237.75  225.00  234.80  233.77   \n",
       "4              AMBUJACEM      234.80  234.80  239.95  231.40  238.15  235.51   \n",
       "5              AMBUJACEM      238.15  236.55  240.55  235.00  239.35  237.51   \n",
       "6              AMBUJACEM      239.35  238.00  242.35  233.20  238.40  238.20   \n",
       "7              AMBUJACEM      238.40  237.00  249.35  236.80  241.75  244.63   \n",
       "8              AMBUJACEM      241.75  241.95  248.00  240.15  246.60  244.45   \n",
       "9              AMBUJACEM      246.60  248.00  250.00  240.80  243.35  245.52   \n",
       "10             AMBUJACEM      243.35  243.30  249.00  240.15  248.00  245.32   \n",
       "11             AMBUJACEM      248.00  249.20  249.70  243.40  247.60  245.76   \n",
       "12             AMBUJACEM      247.60  249.90  254.90  247.05  251.45  251.27   \n",
       "13             AMBUJACEM      251.45  251.90  254.30  245.95  253.35  251.12   \n",
       "14             AMBUJACEM      253.35  253.00  255.60  249.50  253.60  252.76   \n",
       "15             AMBUJACEM      253.60  255.50  256.00  245.00  247.40  250.14   \n",
       "16             AMBUJACEM      247.40  248.70  249.00  242.45  245.05  244.76   \n",
       "17             AMBUJACEM      245.05  245.05  257.00  243.65  255.85  252.15   \n",
       "18             AMBUJACEM      255.85  253.85  254.70  250.35  251.80  252.41   \n",
       "19             AMBUJACEM      251.80  250.50  255.00  248.70  254.00  251.88   \n",
       "20             AMBUJACEM      254.00  254.85  265.80  252.40  259.70  260.05   \n",
       "\n",
       "                 Volume  Trades        Date  Day_Number_of_Month Month_Name  \\\n",
       "Serial Number                                                                 \n",
       "0               3358699   31667  2020-10-01                    1        Oct   \n",
       "1               3259420   33828  2020-10-05                    5        Oct   \n",
       "2               4929361   66393  2020-10-06                    6        Oct   \n",
       "3              16914960  126279  2020-10-07                    7        Oct   \n",
       "4               8142299   60297  2020-10-08                    8        Oct   \n",
       "5               6602985   47148  2020-10-09                    9        Oct   \n",
       "6               6441943   44894  2020-10-12                   12        Oct   \n",
       "7              16150051  103182  2020-10-13                   13        Oct   \n",
       "8              10384793   57060  2020-10-14                   14        Oct   \n",
       "9               8031726   68185  2020-10-15                   15        Oct   \n",
       "10             12591434   67208  2020-10-16                   16        Oct   \n",
       "11             10969208   48494  2020-10-19                   19        Oct   \n",
       "12             20195023  139573  2020-10-20                   20        Oct   \n",
       "13              9478126   56247  2020-10-21                   21        Oct   \n",
       "14             11569824   74815  2020-10-22                   22        Oct   \n",
       "15             15337715  104670  2020-10-23                   23        Oct   \n",
       "16              8116758   55350  2020-10-26                   26        Oct   \n",
       "17             13207219   75595  2020-10-27                   27        Oct   \n",
       "18              4873537   45960  2020-10-28                   28        Oct   \n",
       "19              4794371   42491  2020-10-29                   29        Oct   \n",
       "20             18101783   96213  2020-10-30                   30        Oct   \n",
       "\n",
       "               Month  Year  \n",
       "Serial Number               \n",
       "0                 10  2020  \n",
       "1                 10  2020  \n",
       "2                 10  2020  \n",
       "3                 10  2020  \n",
       "4                 10  2020  \n",
       "5                 10  2020  \n",
       "6                 10  2020  \n",
       "7                 10  2020  \n",
       "8                 10  2020  \n",
       "9                 10  2020  \n",
       "10                10  2020  \n",
       "11                10  2020  \n",
       "12                10  2020  \n",
       "13                10  2020  \n",
       "14                10  2020  \n",
       "15                10  2020  \n",
       "16                10  2020  \n",
       "17                10  2020  \n",
       "18                10  2020  \n",
       "19                10  2020  \n",
       "20                10  2020  "
      ]
     },
     "execution_count": 165,
     "metadata": {},
     "output_type": "execute_result"
    }
   ],
   "source": [
    "#df.groupby('Month_Name').sum()\n",
    "df"
   ]
  },
  {
   "cell_type": "code",
   "execution_count": 166,
   "metadata": {},
   "outputs": [
    {
     "data": {
      "text/plain": [
       "Month_Name\n",
       "Oct    213451235\n",
       "Name: Volume, dtype: int64"
      ]
     },
     "execution_count": 166,
     "metadata": {},
     "output_type": "execute_result"
    }
   ],
   "source": [
    "Vol=(df.groupby('Month_Name').sum())['Volume']\n",
    "Vol"
   ]
  },
  {
   "cell_type": "code",
   "execution_count": 167,
   "metadata": {},
   "outputs": [
    {
     "data": {
      "text/plain": [
       "Month_Name\n",
       "Oct    1445549\n",
       "Name: Trades, dtype: int64"
      ]
     },
     "execution_count": 167,
     "metadata": {},
     "output_type": "execute_result"
    }
   ],
   "source": [
    "Trades=(df.groupby('Month_Name').sum())['Trades']\n",
    "Trades"
   ]
  },
  {
   "cell_type": "code",
   "execution_count": 168,
   "metadata": {},
   "outputs": [
    {
     "data": {
      "text/html": [
       "<div>\n",
       "<style scoped>\n",
       "    .dataframe tbody tr th:only-of-type {\n",
       "        vertical-align: middle;\n",
       "    }\n",
       "\n",
       "    .dataframe tbody tr th {\n",
       "        vertical-align: top;\n",
       "    }\n",
       "\n",
       "    .dataframe thead th {\n",
       "        text-align: right;\n",
       "    }\n",
       "</style>\n",
       "<table border=\"1\" class=\"dataframe\">\n",
       "  <thead>\n",
       "    <tr style=\"text-align: right;\">\n",
       "      <th></th>\n",
       "      <th>Symbol</th>\n",
       "      <th>Prev Close</th>\n",
       "      <th>Open</th>\n",
       "      <th>High</th>\n",
       "      <th>Low</th>\n",
       "      <th>Close</th>\n",
       "      <th>VWAP</th>\n",
       "      <th>Volume</th>\n",
       "      <th>Trades</th>\n",
       "      <th>Date</th>\n",
       "      <th>Day_Number_of_Month</th>\n",
       "      <th>Month_Name</th>\n",
       "      <th>Month</th>\n",
       "      <th>Year</th>\n",
       "    </tr>\n",
       "    <tr>\n",
       "      <th>Serial Number</th>\n",
       "      <th></th>\n",
       "      <th></th>\n",
       "      <th></th>\n",
       "      <th></th>\n",
       "      <th></th>\n",
       "      <th></th>\n",
       "      <th></th>\n",
       "      <th></th>\n",
       "      <th></th>\n",
       "      <th></th>\n",
       "      <th></th>\n",
       "      <th></th>\n",
       "      <th></th>\n",
       "      <th></th>\n",
       "    </tr>\n",
       "  </thead>\n",
       "  <tbody>\n",
       "    <tr>\n",
       "      <th>0</th>\n",
       "      <td>AMBUJACEM</td>\n",
       "      <td>217.00</td>\n",
       "      <td>218.50</td>\n",
       "      <td>221.95</td>\n",
       "      <td>217.55</td>\n",
       "      <td>221.20</td>\n",
       "      <td>220.32</td>\n",
       "      <td>3358699</td>\n",
       "      <td>31667</td>\n",
       "      <td>2020-10-01</td>\n",
       "      <td>1</td>\n",
       "      <td>Oct</td>\n",
       "      <td>10</td>\n",
       "      <td>2020</td>\n",
       "    </tr>\n",
       "    <tr>\n",
       "      <th>1</th>\n",
       "      <td>AMBUJACEM</td>\n",
       "      <td>221.20</td>\n",
       "      <td>221.20</td>\n",
       "      <td>224.20</td>\n",
       "      <td>219.45</td>\n",
       "      <td>221.35</td>\n",
       "      <td>221.39</td>\n",
       "      <td>3259420</td>\n",
       "      <td>33828</td>\n",
       "      <td>2020-10-05</td>\n",
       "      <td>5</td>\n",
       "      <td>Oct</td>\n",
       "      <td>10</td>\n",
       "      <td>2020</td>\n",
       "    </tr>\n",
       "    <tr>\n",
       "      <th>2</th>\n",
       "      <td>AMBUJACEM</td>\n",
       "      <td>221.35</td>\n",
       "      <td>222.95</td>\n",
       "      <td>227.75</td>\n",
       "      <td>220.10</td>\n",
       "      <td>225.30</td>\n",
       "      <td>223.04</td>\n",
       "      <td>4929361</td>\n",
       "      <td>66393</td>\n",
       "      <td>2020-10-06</td>\n",
       "      <td>6</td>\n",
       "      <td>Oct</td>\n",
       "      <td>10</td>\n",
       "      <td>2020</td>\n",
       "    </tr>\n",
       "    <tr>\n",
       "      <th>3</th>\n",
       "      <td>AMBUJACEM</td>\n",
       "      <td>225.30</td>\n",
       "      <td>226.00</td>\n",
       "      <td>237.75</td>\n",
       "      <td>225.00</td>\n",
       "      <td>234.80</td>\n",
       "      <td>233.77</td>\n",
       "      <td>16914960</td>\n",
       "      <td>126279</td>\n",
       "      <td>2020-10-07</td>\n",
       "      <td>7</td>\n",
       "      <td>Oct</td>\n",
       "      <td>10</td>\n",
       "      <td>2020</td>\n",
       "    </tr>\n",
       "    <tr>\n",
       "      <th>4</th>\n",
       "      <td>AMBUJACEM</td>\n",
       "      <td>234.80</td>\n",
       "      <td>234.80</td>\n",
       "      <td>239.95</td>\n",
       "      <td>231.40</td>\n",
       "      <td>238.15</td>\n",
       "      <td>235.51</td>\n",
       "      <td>8142299</td>\n",
       "      <td>60297</td>\n",
       "      <td>2020-10-08</td>\n",
       "      <td>8</td>\n",
       "      <td>Oct</td>\n",
       "      <td>10</td>\n",
       "      <td>2020</td>\n",
       "    </tr>\n",
       "  </tbody>\n",
       "</table>\n",
       "</div>"
      ],
      "text/plain": [
       "                  Symbol  Prev Close    Open    High     Low   Close    VWAP  \\\n",
       "Serial Number                                                                  \n",
       "0              AMBUJACEM      217.00  218.50  221.95  217.55  221.20  220.32   \n",
       "1              AMBUJACEM      221.20  221.20  224.20  219.45  221.35  221.39   \n",
       "2              AMBUJACEM      221.35  222.95  227.75  220.10  225.30  223.04   \n",
       "3              AMBUJACEM      225.30  226.00  237.75  225.00  234.80  233.77   \n",
       "4              AMBUJACEM      234.80  234.80  239.95  231.40  238.15  235.51   \n",
       "\n",
       "                 Volume  Trades        Date  Day_Number_of_Month Month_Name  \\\n",
       "Serial Number                                                                 \n",
       "0               3358699   31667  2020-10-01                    1        Oct   \n",
       "1               3259420   33828  2020-10-05                    5        Oct   \n",
       "2               4929361   66393  2020-10-06                    6        Oct   \n",
       "3              16914960  126279  2020-10-07                    7        Oct   \n",
       "4               8142299   60297  2020-10-08                    8        Oct   \n",
       "\n",
       "               Month  Year  \n",
       "Serial Number               \n",
       "0                 10  2020  \n",
       "1                 10  2020  \n",
       "2                 10  2020  \n",
       "3                 10  2020  \n",
       "4                 10  2020  "
      ]
     },
     "execution_count": 168,
     "metadata": {},
     "output_type": "execute_result"
    }
   ],
   "source": [
    "df.head()"
   ]
  },
  {
   "cell_type": "code",
   "execution_count": 169,
   "metadata": {},
   "outputs": [],
   "source": [
    "df1=((((df.groupby('Month_Name').mean()).round(0)).astype(int)).drop(['Day_Number_of_Month'],axis=1)).sort_values(['Month'], axis=0, ascending=True)"
   ]
  },
  {
   "cell_type": "code",
   "execution_count": 170,
   "metadata": {},
   "outputs": [
    {
     "data": {
      "text/html": [
       "<div>\n",
       "<style scoped>\n",
       "    .dataframe tbody tr th:only-of-type {\n",
       "        vertical-align: middle;\n",
       "    }\n",
       "\n",
       "    .dataframe tbody tr th {\n",
       "        vertical-align: top;\n",
       "    }\n",
       "\n",
       "    .dataframe thead th {\n",
       "        text-align: right;\n",
       "    }\n",
       "</style>\n",
       "<table border=\"1\" class=\"dataframe\">\n",
       "  <thead>\n",
       "    <tr style=\"text-align: right;\">\n",
       "      <th></th>\n",
       "      <th>Prev Close</th>\n",
       "      <th>Open</th>\n",
       "      <th>High</th>\n",
       "      <th>Low</th>\n",
       "      <th>Close</th>\n",
       "      <th>VWAP</th>\n",
       "      <th>Volume</th>\n",
       "      <th>Trades</th>\n",
       "      <th>Month</th>\n",
       "      <th>Year</th>\n",
       "    </tr>\n",
       "    <tr>\n",
       "      <th>Month_Name</th>\n",
       "      <th></th>\n",
       "      <th></th>\n",
       "      <th></th>\n",
       "      <th></th>\n",
       "      <th></th>\n",
       "      <th></th>\n",
       "      <th></th>\n",
       "      <th></th>\n",
       "      <th></th>\n",
       "      <th></th>\n",
       "    </tr>\n",
       "  </thead>\n",
       "  <tbody>\n",
       "    <tr>\n",
       "      <th>Oct</th>\n",
       "      <td>242</td>\n",
       "      <td>242</td>\n",
       "      <td>247</td>\n",
       "      <td>238</td>\n",
       "      <td>244</td>\n",
       "      <td>243</td>\n",
       "      <td>10164345</td>\n",
       "      <td>68836</td>\n",
       "      <td>10</td>\n",
       "      <td>2020</td>\n",
       "    </tr>\n",
       "  </tbody>\n",
       "</table>\n",
       "</div>"
      ],
      "text/plain": [
       "            Prev Close  Open  High  Low  Close  VWAP    Volume  Trades  Month  \\\n",
       "Month_Name                                                                      \n",
       "Oct                242   242   247  238    244   243  10164345   68836     10   \n",
       "\n",
       "            Year  \n",
       "Month_Name        \n",
       "Oct         2020  "
      ]
     },
     "execution_count": 170,
     "metadata": {},
     "output_type": "execute_result"
    }
   ],
   "source": [
    "df1.head()"
   ]
  },
  {
   "cell_type": "code",
   "execution_count": 171,
   "metadata": {},
   "outputs": [],
   "source": [
    "share=df.Symbol.unique()"
   ]
  },
  {
   "cell_type": "code",
   "execution_count": 172,
   "metadata": {},
   "outputs": [
    {
     "data": {
      "text/plain": [
       "Month_Name\n",
       "Oct    266\n",
       "Name: High, dtype: int64"
      ]
     },
     "execution_count": 172,
     "metadata": {},
     "output_type": "execute_result"
    }
   ],
   "source": [
    "Max_month=((((df.groupby('Month_Name').max())['High']).round(0)).astype(int))\n",
    "Max_month"
   ]
  },
  {
   "cell_type": "code",
   "execution_count": 173,
   "metadata": {},
   "outputs": [],
   "source": [
    "df1['High']=Max_month"
   ]
  },
  {
   "cell_type": "code",
   "execution_count": 174,
   "metadata": {},
   "outputs": [
    {
     "data": {
      "text/html": [
       "<div>\n",
       "<style scoped>\n",
       "    .dataframe tbody tr th:only-of-type {\n",
       "        vertical-align: middle;\n",
       "    }\n",
       "\n",
       "    .dataframe tbody tr th {\n",
       "        vertical-align: top;\n",
       "    }\n",
       "\n",
       "    .dataframe thead th {\n",
       "        text-align: right;\n",
       "    }\n",
       "</style>\n",
       "<table border=\"1\" class=\"dataframe\">\n",
       "  <thead>\n",
       "    <tr style=\"text-align: right;\">\n",
       "      <th></th>\n",
       "      <th>Prev Close</th>\n",
       "      <th>Open</th>\n",
       "      <th>High</th>\n",
       "      <th>Low</th>\n",
       "      <th>Close</th>\n",
       "      <th>VWAP</th>\n",
       "      <th>Volume</th>\n",
       "      <th>Trades</th>\n",
       "      <th>Month</th>\n",
       "      <th>Year</th>\n",
       "    </tr>\n",
       "    <tr>\n",
       "      <th>Month_Name</th>\n",
       "      <th></th>\n",
       "      <th></th>\n",
       "      <th></th>\n",
       "      <th></th>\n",
       "      <th></th>\n",
       "      <th></th>\n",
       "      <th></th>\n",
       "      <th></th>\n",
       "      <th></th>\n",
       "      <th></th>\n",
       "    </tr>\n",
       "  </thead>\n",
       "  <tbody>\n",
       "    <tr>\n",
       "      <th>Oct</th>\n",
       "      <td>242</td>\n",
       "      <td>242</td>\n",
       "      <td>266</td>\n",
       "      <td>238</td>\n",
       "      <td>244</td>\n",
       "      <td>243</td>\n",
       "      <td>10164345</td>\n",
       "      <td>68836</td>\n",
       "      <td>10</td>\n",
       "      <td>2020</td>\n",
       "    </tr>\n",
       "  </tbody>\n",
       "</table>\n",
       "</div>"
      ],
      "text/plain": [
       "            Prev Close  Open  High  Low  Close  VWAP    Volume  Trades  Month  \\\n",
       "Month_Name                                                                      \n",
       "Oct                242   242   266  238    244   243  10164345   68836     10   \n",
       "\n",
       "            Year  \n",
       "Month_Name        \n",
       "Oct         2020  "
      ]
     },
     "execution_count": 174,
     "metadata": {},
     "output_type": "execute_result"
    }
   ],
   "source": [
    "df1"
   ]
  },
  {
   "cell_type": "code",
   "execution_count": 175,
   "metadata": {},
   "outputs": [],
   "source": [
    "Min_month=((((df.groupby('Month_Name').min())['Low']).round(0)).astype(int))"
   ]
  },
  {
   "cell_type": "code",
   "execution_count": 176,
   "metadata": {},
   "outputs": [],
   "source": [
    "df1['Low']=Min_month"
   ]
  },
  {
   "cell_type": "code",
   "execution_count": 177,
   "metadata": {},
   "outputs": [
    {
     "data": {
      "text/html": [
       "<div>\n",
       "<style scoped>\n",
       "    .dataframe tbody tr th:only-of-type {\n",
       "        vertical-align: middle;\n",
       "    }\n",
       "\n",
       "    .dataframe tbody tr th {\n",
       "        vertical-align: top;\n",
       "    }\n",
       "\n",
       "    .dataframe thead th {\n",
       "        text-align: right;\n",
       "    }\n",
       "</style>\n",
       "<table border=\"1\" class=\"dataframe\">\n",
       "  <thead>\n",
       "    <tr style=\"text-align: right;\">\n",
       "      <th></th>\n",
       "      <th>Prev Close</th>\n",
       "      <th>Open</th>\n",
       "      <th>High</th>\n",
       "      <th>Low</th>\n",
       "      <th>Close</th>\n",
       "      <th>VWAP</th>\n",
       "      <th>Volume</th>\n",
       "      <th>Trades</th>\n",
       "      <th>Month</th>\n",
       "      <th>Year</th>\n",
       "    </tr>\n",
       "    <tr>\n",
       "      <th>Month_Name</th>\n",
       "      <th></th>\n",
       "      <th></th>\n",
       "      <th></th>\n",
       "      <th></th>\n",
       "      <th></th>\n",
       "      <th></th>\n",
       "      <th></th>\n",
       "      <th></th>\n",
       "      <th></th>\n",
       "      <th></th>\n",
       "    </tr>\n",
       "  </thead>\n",
       "  <tbody>\n",
       "    <tr>\n",
       "      <th>Oct</th>\n",
       "      <td>242</td>\n",
       "      <td>242</td>\n",
       "      <td>266</td>\n",
       "      <td>218</td>\n",
       "      <td>244</td>\n",
       "      <td>243</td>\n",
       "      <td>10164345</td>\n",
       "      <td>68836</td>\n",
       "      <td>10</td>\n",
       "      <td>2020</td>\n",
       "    </tr>\n",
       "  </tbody>\n",
       "</table>\n",
       "</div>"
      ],
      "text/plain": [
       "            Prev Close  Open  High  Low  Close  VWAP    Volume  Trades  Month  \\\n",
       "Month_Name                                                                      \n",
       "Oct                242   242   266  218    244   243  10164345   68836     10   \n",
       "\n",
       "            Year  \n",
       "Month_Name        \n",
       "Oct         2020  "
      ]
     },
     "execution_count": 177,
     "metadata": {},
     "output_type": "execute_result"
    }
   ],
   "source": [
    "df1"
   ]
  },
  {
   "cell_type": "code",
   "execution_count": 178,
   "metadata": {},
   "outputs": [],
   "source": [
    "df1['Volume']=Vol\n",
    "df1['Trades']=Trades"
   ]
  },
  {
   "cell_type": "code",
   "execution_count": 179,
   "metadata": {},
   "outputs": [
    {
     "data": {
      "text/html": [
       "<div>\n",
       "<style scoped>\n",
       "    .dataframe tbody tr th:only-of-type {\n",
       "        vertical-align: middle;\n",
       "    }\n",
       "\n",
       "    .dataframe tbody tr th {\n",
       "        vertical-align: top;\n",
       "    }\n",
       "\n",
       "    .dataframe thead th {\n",
       "        text-align: right;\n",
       "    }\n",
       "</style>\n",
       "<table border=\"1\" class=\"dataframe\">\n",
       "  <thead>\n",
       "    <tr style=\"text-align: right;\">\n",
       "      <th></th>\n",
       "      <th>Prev Close</th>\n",
       "      <th>Open</th>\n",
       "      <th>High</th>\n",
       "      <th>Low</th>\n",
       "      <th>Close</th>\n",
       "      <th>VWAP</th>\n",
       "      <th>Volume</th>\n",
       "      <th>Trades</th>\n",
       "      <th>Month</th>\n",
       "      <th>Year</th>\n",
       "    </tr>\n",
       "    <tr>\n",
       "      <th>Month_Name</th>\n",
       "      <th></th>\n",
       "      <th></th>\n",
       "      <th></th>\n",
       "      <th></th>\n",
       "      <th></th>\n",
       "      <th></th>\n",
       "      <th></th>\n",
       "      <th></th>\n",
       "      <th></th>\n",
       "      <th></th>\n",
       "    </tr>\n",
       "  </thead>\n",
       "  <tbody>\n",
       "    <tr>\n",
       "      <th>Oct</th>\n",
       "      <td>242</td>\n",
       "      <td>242</td>\n",
       "      <td>266</td>\n",
       "      <td>218</td>\n",
       "      <td>244</td>\n",
       "      <td>243</td>\n",
       "      <td>213451235</td>\n",
       "      <td>1445549</td>\n",
       "      <td>10</td>\n",
       "      <td>2020</td>\n",
       "    </tr>\n",
       "  </tbody>\n",
       "</table>\n",
       "</div>"
      ],
      "text/plain": [
       "            Prev Close  Open  High  Low  Close  VWAP     Volume   Trades  \\\n",
       "Month_Name                                                                 \n",
       "Oct                242   242   266  218    244   243  213451235  1445549   \n",
       "\n",
       "            Month  Year  \n",
       "Month_Name               \n",
       "Oct            10  2020  "
      ]
     },
     "execution_count": 179,
     "metadata": {},
     "output_type": "execute_result"
    }
   ],
   "source": [
    "df1"
   ]
  },
  {
   "cell_type": "code",
   "execution_count": 180,
   "metadata": {},
   "outputs": [
    {
     "data": {
      "text/html": [
       "<div>\n",
       "<style scoped>\n",
       "    .dataframe tbody tr th:only-of-type {\n",
       "        vertical-align: middle;\n",
       "    }\n",
       "\n",
       "    .dataframe tbody tr th {\n",
       "        vertical-align: top;\n",
       "    }\n",
       "\n",
       "    .dataframe thead th {\n",
       "        text-align: right;\n",
       "    }\n",
       "</style>\n",
       "<table border=\"1\" class=\"dataframe\">\n",
       "  <thead>\n",
       "    <tr style=\"text-align: right;\">\n",
       "      <th></th>\n",
       "      <th>Prev Close</th>\n",
       "      <th>Open</th>\n",
       "      <th>High</th>\n",
       "      <th>Low</th>\n",
       "      <th>Close</th>\n",
       "      <th>VWAP</th>\n",
       "      <th>Volume</th>\n",
       "      <th>Trades</th>\n",
       "      <th>Month</th>\n",
       "      <th>Year</th>\n",
       "    </tr>\n",
       "    <tr>\n",
       "      <th>Month_Name</th>\n",
       "      <th></th>\n",
       "      <th></th>\n",
       "      <th></th>\n",
       "      <th></th>\n",
       "      <th></th>\n",
       "      <th></th>\n",
       "      <th></th>\n",
       "      <th></th>\n",
       "      <th></th>\n",
       "      <th></th>\n",
       "    </tr>\n",
       "  </thead>\n",
       "  <tbody>\n",
       "    <tr>\n",
       "      <th>Oct</th>\n",
       "      <td>242</td>\n",
       "      <td>242</td>\n",
       "      <td>266</td>\n",
       "      <td>218</td>\n",
       "      <td>244</td>\n",
       "      <td>243</td>\n",
       "      <td>213451235</td>\n",
       "      <td>1445549</td>\n",
       "      <td>10</td>\n",
       "      <td>2020</td>\n",
       "    </tr>\n",
       "  </tbody>\n",
       "</table>\n",
       "</div>"
      ],
      "text/plain": [
       "            Prev Close  Open  High  Low  Close  VWAP     Volume   Trades  \\\n",
       "Month_Name                                                                 \n",
       "Oct                242   242   266  218    244   243  213451235  1445549   \n",
       "\n",
       "            Month  Year  \n",
       "Month_Name               \n",
       "Oct            10  2020  "
      ]
     },
     "execution_count": 180,
     "metadata": {},
     "output_type": "execute_result"
    }
   ],
   "source": [
    "df1.head()"
   ]
  },
  {
   "cell_type": "code",
   "execution_count": null,
   "metadata": {},
   "outputs": [],
   "source": []
  },
  {
   "cell_type": "code",
   "execution_count": 181,
   "metadata": {},
   "outputs": [
    {
     "data": {
      "image/png": "[encoded data removed]",
      "text/plain": [
       "<Figure size 1080x720 with 1 Axes>"
      ]
     },
     "metadata": {
      "needs_background": "light"
     },
     "output_type": "display_data"
    }
   ],
   "source": [
    "v=df1['Open']\n",
    "w=df1['Low']\n",
    "x=df1.index\n",
    "y=df1['VWAP']\n",
    "z=df1['High']\n",
    "\n",
    "plt.figure(figsize=(15, 10))\n",
    "plt.grid(axis='both')\n",
    "plt.title('Analysis of Stock (Prices)')\n",
    "\n",
    "plt.bar(x,v, color='g', label='Opening Price', linewidth=5)#Avg opening value of stock during month (in green)\n",
    "plt.plot(x,w ,color='r',label='Lowest Value during month')#Lowest value during month (in red)\n",
    "plt.plot(x,y, '-X',color='cyan',label='Avg value during Month' )#Average value of stock in month (in cyan)\n",
    "plt.plot(x,z ,color='navy',label='Highest Value in Month');#Highest value during month (in navy blue)\n",
    "plt.legend()\n",
    "\n",
    "plt.xlabel('Months', fontsize=15);\n",
    "plt.ylabel('Price of Stock', fontsize=15);\n",
    "\n",
    "plt.rcParams.update({'font.size': 15})\n",
    "\n"
   ]
  },
  {
   "cell_type": "code",
   "execution_count": 182,
   "metadata": {},
   "outputs": [
    {
     "data": {
      "application/vnd.plotly.v1+json": {
       "config": {
        "plotlyServerURL": "https://plot.ly"
       },
       "data": [
        {
         "hovertemplate": "variable=Open<br>Month_Name=%{x}<br>value=%{y}<extra></extra>",
         "legendgroup": "Open",
         "line": {
          "color": "#636efa",
          "dash": "solid"
         },
         "mode": "lines",
         "name": "Open",
         "orientation": "v",
         "showlegend": true,
         "type": "scatter",
         "x": [
          "Oct"
         ],
         "xaxis": "x",
         "y": [
          242
         ],
         "yaxis": "y"
        },
        {
         "hovertemplate": "variable=Low<br>Month_Name=%{x}<br>value=%{y}<extra></extra>",
         "legendgroup": "Low",
         "line": {
          "color": "#EF553B",
          "dash": "solid"
         },
         "mode": "lines",
         "name": "Low",
         "orientation": "v",
         "showlegend": true,
         "type": "scatter",
         "x": [
          "Oct"
         ],
         "xaxis": "x",
         "y": [
          218
         ],
         "yaxis": "y"
        },
        {
         "hovertemplate": "variable=VWAP<br>Month_Name=%{x}<br>value=%{y}<extra></extra>",
         "legendgroup": "VWAP",
         "line": {
          "color": "#00cc96",
          "dash": "solid"
         },
         "mode": "lines",
         "name": "VWAP",
         "orientation": "v",
         "showlegend": true,
         "type": "scatter",
         "x": [
          "Oct"
         ],
         "xaxis": "x",
         "y": [
          243
         ],
         "yaxis": "y"
        },
        {
         "hovertemplate": "variable=High<br>Month_Name=%{x}<br>value=%{y}<extra></extra>",
         "legendgroup": "High",
         "line": {
          "color": "#ab63fa",
          "dash": "solid"
         },
         "mode": "lines",
         "name": "High",
         "orientation": "v",
         "showlegend": true,
         "type": "scatter",
         "x": [
          "Oct"
         ],
         "xaxis": "x",
         "y": [
          266
         ],
         "yaxis": "y"
        }
       ],
       "layout": {
        "hoverdistance": 100,
        "legend": {
         "title": {
          "text": "variable"
         },
         "tracegroupgap": 0
        },
        "spikedistance": 500,
        "template": {
         "data": {
          "bar": [
           {
            "error_x": {
             "color": "#2a3f5f"
            },
            "error_y": {
             "color": "#2a3f5f"
            },
            "marker": {
             "line": {
              "color": "#E5ECF6",
              "width": 0.5
             }
            },
            "type": "bar"
           }
          ],
          "barpolar": [
           {
            "marker": {
             "line": {
              "color": "#E5ECF6",
              "width": 0.5
             }
            },
            "type": "barpolar"
           }
          ],
          "carpet": [
           {
            "aaxis": {
             "endlinecolor": "#2a3f5f",
             "gridcolor": "white",
             "linecolor": "white",
             "minorgridcolor": "white",
             "startlinecolor": "#2a3f5f"
            },
            "baxis": {
             "endlinecolor": "#2a3f5f",
             "gridcolor": "white",
             "linecolor": "white",
             "minorgridcolor": "white",
             "startlinecolor": "#2a3f5f"
            },
            "type": "carpet"
           }
          ],
          "choropleth": [
           {
            "colorbar": {
             "outlinewidth": 0,
             "ticks": ""
            },
            "type": "choropleth"
           }
          ],
          "contour": [
           {
            "colorbar": {
             "outlinewidth": 0,
             "ticks": ""
            },
            "colorscale": [
             [
              0,
              "#0d0887"
             ],
             [
              0.1111111111111111,
              "#46039f"
             ],
             [
              0.2222222222222222,
              "#7201a8"
             ],
             [
              0.3333333333333333,
              "#9c179e"
             ],
             [
              0.4444444444444444,
              "#bd3786"
             ],
             [
              0.5555555555555556,
              "#d8576b"
             ],
             [
              0.6666666666666666,
              "#ed7953"
             ],
             [
              0.7777777777777778,
              "#fb9f3a"
             ],
             [
              0.8888888888888888,
              "#fdca26"
             ],
             [
              1,
              "#f0f921"
             ]
            ],
            "type": "contour"
           }
          ],
          "contourcarpet": [
           {
            "colorbar": {
             "outlinewidth": 0,
             "ticks": ""
            },
            "type": "contourcarpet"
           }
          ],
          "heatmap": [
           {
            "colorbar": {
             "outlinewidth": 0,
             "ticks": ""
            },
            "colorscale": [
             [
              0,
              "#0d0887"
             ],
             [
              0.1111111111111111,
              "#46039f"
             ],
             [
              0.2222222222222222,
              "#7201a8"
             ],
             [
              0.3333333333333333,
              "#9c179e"
             ],
             [
              0.4444444444444444,
              "#bd3786"
             ],
             [
              0.5555555555555556,
              "#d8576b"
             ],
             [
              0.6666666666666666,
              "#ed7953"
             ],
             [
              0.7777777777777778,
              "#fb9f3a"
             ],
             [
              0.8888888888888888,
              "#fdca26"
             ],
             [
              1,
              "#f0f921"
             ]
            ],
            "type": "heatmap"
           }
          ],
          "heatmapgl": [
           {
            "colorbar": {
             "outlinewidth": 0,
             "ticks": ""
            },
            "colorscale": [
             [
              0,
              "#0d0887"
             ],
             [
              0.1111111111111111,
              "#46039f"
             ],
             [
              0.2222222222222222,
              "#7201a8"
             ],
             [
              0.3333333333333333,
              "#9c179e"
             ],
             [
              0.4444444444444444,
              "#bd3786"
             ],
             [
              0.5555555555555556,
              "#d8576b"
             ],
             [
              0.6666666666666666,
              "#ed7953"
             ],
             [
              0.7777777777777778,
              "#fb9f3a"
             ],
             [
              0.8888888888888888,
              "#fdca26"
             ],
             [
              1,
              "#f0f921"
             ]
            ],
            "type": "heatmapgl"
           }
          ],
          "histogram": [
           {
            "marker": {
             "colorbar": {
              "outlinewidth": 0,
              "ticks": ""
             }
            },
            "type": "histogram"
           }
          ],
          "histogram2d": [
           {
            "colorbar": {
             "outlinewidth": 0,
             "ticks": ""
            },
            "colorscale": [
             [
              0,
              "#0d0887"
             ],
             [
              0.1111111111111111,
              "#46039f"
             ],
             [
              0.2222222222222222,
              "#7201a8"
             ],
             [
              0.3333333333333333,
              "#9c179e"
             ],
             [
              0.4444444444444444,
              "#bd3786"
             ],
             [
              0.5555555555555556,
              "#d8576b"
             ],
             [
              0.6666666666666666,
              "#ed7953"
             ],
             [
              0.7777777777777778,
              "#fb9f3a"
             ],
             [
              0.8888888888888888,
              "#fdca26"
             ],
             [
              1,
              "#f0f921"
             ]
            ],
            "type": "histogram2d"
           }
          ],
          "histogram2dcontour": [
           {
            "colorbar": {
             "outlinewidth": 0,
             "ticks": ""
            },
            "colorscale": [
             [
              0,
              "#0d0887"
             ],
             [
              0.1111111111111111,
              "#46039f"
             ],
             [
              0.2222222222222222,
              "#7201a8"
             ],
             [
              0.3333333333333333,
              "#9c179e"
             ],
             [
              0.4444444444444444,
              "#bd3786"
             ],
             [
              0.5555555555555556,
              "#d8576b"
             ],
             [
              0.6666666666666666,
              "#ed7953"
             ],
             [
              0.7777777777777778,
              "#fb9f3a"
             ],
             [
              0.8888888888888888,
              "#fdca26"
             ],
             [
              1,
              "#f0f921"
             ]
            ],
            "type": "histogram2dcontour"
           }
          ],
          "mesh3d": [
           {
            "colorbar": {
             "outlinewidth": 0,
             "ticks": ""
            },
            "type": "mesh3d"
           }
          ],
          "parcoords": [
           {
            "line": {
             "colorbar": {
              "outlinewidth": 0,
              "ticks": ""
             }
            },
            "type": "parcoords"
           }
          ],
          "pie": [
           {
            "automargin": true,
            "type": "pie"
           }
          ],
          "scatter": [
           {
            "marker": {
             "colorbar": {
              "outlinewidth": 0,
              "ticks": ""
             }
            },
            "type": "scatter"
           }
          ],
          "scatter3d": [
           {
            "line": {
             "colorbar": {
              "outlinewidth": 0,
              "ticks": ""
             }
            },
            "marker": {
             "colorbar": {
              "outlinewidth": 0,
              "ticks": ""
             }
            },
            "type": "scatter3d"
           }
          ],
          "scattercarpet": [
           {
            "marker": {
             "colorbar": {
              "outlinewidth": 0,
              "ticks": ""
             }
            },
            "type": "scattercarpet"
           }
          ],
          "scattergeo": [
           {
            "marker": {
             "colorbar": {
              "outlinewidth": 0,
              "ticks": ""
             }
            },
            "type": "scattergeo"
           }
          ],
          "scattergl": [
           {
            "marker": {
             "colorbar": {
              "outlinewidth": 0,
              "ticks": ""
             }
            },
            "type": "scattergl"
           }
          ],
          "scattermapbox": [
           {
            "marker": {
             "colorbar": {
              "outlinewidth": 0,
              "ticks": ""
             }
            },
            "type": "scattermapbox"
           }
          ],
          "scatterpolar": [
           {
            "marker": {
             "colorbar": {
              "outlinewidth": 0,
              "ticks": ""
             }
            },
            "type": "scatterpolar"
           }
          ],
          "scatterpolargl": [
           {
            "marker": {
             "colorbar": {
              "outlinewidth": 0,
              "ticks": ""
             }
            },
            "type": "scatterpolargl"
           }
          ],
          "scatterternary": [
           {
            "marker": {
             "colorbar": {
              "outlinewidth": 0,
              "ticks": ""
             }
            },
            "type": "scatterternary"
           }
          ],
          "surface": [
           {
            "colorbar": {
             "outlinewidth": 0,
             "ticks": ""
            },
            "colorscale": [
             [
              0,
              "#0d0887"
             ],
             [
              0.1111111111111111,
              "#46039f"
             ],
             [
              0.2222222222222222,
              "#7201a8"
             ],
             [
              0.3333333333333333,
              "#9c179e"
             ],
             [
              0.4444444444444444,
              "#bd3786"
             ],
             [
              0.5555555555555556,
              "#d8576b"
             ],
             [
              0.6666666666666666,
              "#ed7953"
             ],
             [
              0.7777777777777778,
              "#fb9f3a"
             ],
             [
              0.8888888888888888,
              "#fdca26"
             ],
             [
              1,
              "#f0f921"
             ]
            ],
            "type": "surface"
           }
          ],
          "table": [
           {
            "cells": {
             "fill": {
              "color": "#EBF0F8"
             },
             "line": {
              "color": "white"
             }
            },
            "header": {
             "fill": {
              "color": "#C8D4E3"
             },
             "line": {
              "color": "white"
             }
            },
            "type": "table"
           }
          ]
         },
         "layout": {
          "annotationdefaults": {
           "arrowcolor": "#2a3f5f",
           "arrowhead": 0,
           "arrowwidth": 1
          },
          "coloraxis": {
           "colorbar": {
            "outlinewidth": 0,
            "ticks": ""
           }
          },
          "colorscale": {
           "diverging": [
            [
             0,
             "#8e0152"
            ],
            [
             0.1,
             "#c51b7d"
            ],
            [
             0.2,
             "#de77ae"
            ],
            [
             0.3,
             "#f1b6da"
            ],
            [
             0.4,
             "#fde0ef"
            ],
            [
             0.5,
             "#f7f7f7"
            ],
            [
             0.6,
             "#e6f5d0"
            ],
            [
             0.7,
             "#b8e186"
            ],
            [
             0.8,
             "#7fbc41"
            ],
            [
             0.9,
             "#4d9221"
            ],
            [
             1,
             "#276419"
            ]
           ],
           "sequential": [
            [
             0,
             "#0d0887"
            ],
            [
             0.1111111111111111,
             "#46039f"
            ],
            [
             0.2222222222222222,
             "#7201a8"
            ],
            [
             0.3333333333333333,
             "#9c179e"
            ],
            [
             0.4444444444444444,
             "#bd3786"
            ],
            [
             0.5555555555555556,
             "#d8576b"
            ],
            [
             0.6666666666666666,
             "#ed7953"
            ],
            [
             0.7777777777777778,
             "#fb9f3a"
            ],
            [
             0.8888888888888888,
             "#fdca26"
            ],
            [
             1,
             "#f0f921"
            ]
           ],
           "sequentialminus": [
            [
             0,
             "#0d0887"
            ],
            [
             0.1111111111111111,
             "#46039f"
            ],
            [
             0.2222222222222222,
             "#7201a8"
            ],
            [
             0.3333333333333333,
             "#9c179e"
            ],
            [
             0.4444444444444444,
             "#bd3786"
            ],
            [
             0.5555555555555556,
             "#d8576b"
            ],
            [
             0.6666666666666666,
             "#ed7953"
            ],
            [
             0.7777777777777778,
             "#fb9f3a"
            ],
            [
             0.8888888888888888,
             "#fdca26"
            ],
            [
             1,
             "#f0f921"
            ]
           ]
          },
          "colorway": [
           "#636efa",
           "#EF553B",
           "#00cc96",
           "#ab63fa",
           "#FFA15A",
           "#19d3f3",
           "#FF6692",
           "#B6E880",
           "#FF97FF",
           "#FECB52"
          ],
          "font": {
           "color": "#2a3f5f"
          },
          "geo": {
           "bgcolor": "white",
           "lakecolor": "white",
           "landcolor": "#E5ECF6",
           "showlakes": true,
           "showland": true,
           "subunitcolor": "white"
          },
          "hoverlabel": {
           "align": "left"
          },
          "hovermode": "closest",
          "mapbox": {
           "style": "light"
          },
          "paper_bgcolor": "white",
          "plot_bgcolor": "#E5ECF6",
          "polar": {
           "angularaxis": {
            "gridcolor": "white",
            "linecolor": "white",
            "ticks": ""
           },
           "bgcolor": "#E5ECF6",
           "radialaxis": {
            "gridcolor": "white",
            "linecolor": "white",
            "ticks": ""
           }
          },
          "scene": {
           "xaxis": {
            "backgroundcolor": "#E5ECF6",
            "gridcolor": "white",
            "gridwidth": 2,
            "linecolor": "white",
            "showbackground": true,
            "ticks": "",
            "zerolinecolor": "white"
           },
           "yaxis": {
            "backgroundcolor": "#E5ECF6",
            "gridcolor": "white",
            "gridwidth": 2,
            "linecolor": "white",
            "showbackground": true,
            "ticks": "",
            "zerolinecolor": "white"
           },
           "zaxis": {
            "backgroundcolor": "#E5ECF6",
            "gridcolor": "white",
            "gridwidth": 2,
            "linecolor": "white",
            "showbackground": true,
            "ticks": "",
            "zerolinecolor": "white"
           }
          },
          "shapedefaults": {
           "line": {
            "color": "#2a3f5f"
           }
          },
          "ternary": {
           "aaxis": {
            "gridcolor": "white",
            "linecolor": "white",
            "ticks": ""
           },
           "baxis": {
            "gridcolor": "white",
            "linecolor": "white",
            "ticks": ""
           },
           "bgcolor": "#E5ECF6",
           "caxis": {
            "gridcolor": "white",
            "linecolor": "white",
            "ticks": ""
           }
          },
          "title": {
           "x": 0.05
          },
          "xaxis": {
           "automargin": true,
           "gridcolor": "white",
           "linecolor": "white",
           "ticks": "",
           "title": {
            "standoff": 15
           },
           "zerolinecolor": "white",
           "zerolinewidth": 2
          },
          "yaxis": {
           "automargin": true,
           "gridcolor": "white",
           "linecolor": "white",
           "ticks": "",
           "title": {
            "standoff": 15
           },
           "zerolinecolor": "white",
           "zerolinewidth": 2
          }
         }
        },
        "title": {
         "text": "Stocks Analysis"
        },
        "xaxis": {
         "anchor": "y",
         "domain": [
          0,
          1
         ],
         "showspikes": true,
         "spikecolor": "black",
         "spikemode": "across",
         "spikesnap": "cursor",
         "spikethickness": 1,
         "title": {
          "text": "Month_Name"
         }
        },
        "yaxis": {
         "anchor": "x",
         "domain": [
          0,
          1
         ],
         "showspikes": true,
         "spikecolor": "black",
         "spikethickness": 1,
         "title": {
          "text": "value"
         }
        }
       }
      },
      "text/html": [
       "<div>                            <div id=\"1eb5fa71-d70b-4ff1-a708-b9cd94fc688d\" class=\"plotly-graph-div\" style=\"height:525px; width:100%;\"></div>            <script type=\"text/javascript\">                require([\"plotly\"], function(Plotly) {                    window.PLOTLYENV=window.PLOTLYENV || {};                                    if (document.getElementById(\"1eb5fa71-d70b-4ff1-a708-b9cd94fc688d\")) {                    Plotly.newPlot(                        \"1eb5fa71-d70b-4ff1-a708-b9cd94fc688d\",                        [{\"hovertemplate\": \"variable=Open<br>Month_Name=%{x}<br>value=%{y}<extra></extra>\", \"legendgroup\": \"Open\", \"line\": {\"color\": \"#636efa\", \"dash\": \"solid\"}, \"mode\": \"lines\", \"name\": \"Open\", \"orientation\": \"v\", \"showlegend\": true, \"type\": \"scatter\", \"x\": [\"Oct\"], \"xaxis\": \"x\", \"y\": [242], \"yaxis\": \"y\"}, {\"hovertemplate\": \"variable=Low<br>Month_Name=%{x}<br>value=%{y}<extra></extra>\", \"legendgroup\": \"Low\", \"line\": {\"color\": \"#EF553B\", \"dash\": \"solid\"}, \"mode\": \"lines\", \"name\": \"Low\", \"orientation\": \"v\", \"showlegend\": true, \"type\": \"scatter\", \"x\": [\"Oct\"], \"xaxis\": \"x\", \"y\": [218], \"yaxis\": \"y\"}, {\"hovertemplate\": \"variable=VWAP<br>Month_Name=%{x}<br>value=%{y}<extra></extra>\", \"legendgroup\": \"VWAP\", \"line\": {\"color\": \"#00cc96\", \"dash\": \"solid\"}, \"mode\": \"lines\", \"name\": \"VWAP\", \"orientation\": \"v\", \"showlegend\": true, \"type\": \"scatter\", \"x\": [\"Oct\"], \"xaxis\": \"x\", \"y\": [243], \"yaxis\": \"y\"}, {\"hovertemplate\": \"variable=High<br>Month_Name=%{x}<br>value=%{y}<extra></extra>\", \"legendgroup\": \"High\", \"line\": {\"color\": \"#ab63fa\", \"dash\": \"solid\"}, \"mode\": \"lines\", \"name\": \"High\", \"orientation\": \"v\", \"showlegend\": true, \"type\": \"scatter\", \"x\": [\"Oct\"], \"xaxis\": \"x\", \"y\": [266], \"yaxis\": \"y\"}],                        {\"hoverdistance\": 100, \"legend\": {\"title\": {\"text\": \"variable\"}, \"tracegroupgap\": 0}, \"spikedistance\": 500, \"template\": {\"data\": {\"bar\": [{\"error_x\": {\"color\": \"#2a3f5f\"}, \"error_y\": {\"color\": \"#2a3f5f\"}, \"marker\": {\"line\": {\"color\": \"#E5ECF6\", \"width\": 0.5}}, \"type\": \"bar\"}], \"barpolar\": [{\"marker\": {\"line\": {\"color\": \"#E5ECF6\", \"width\": 0.5}}, \"type\": \"barpolar\"}], \"carpet\": [{\"aaxis\": {\"endlinecolor\": \"#2a3f5f\", \"gridcolor\": \"white\", \"linecolor\": \"white\", \"minorgridcolor\": \"white\", \"startlinecolor\": \"#2a3f5f\"}, \"baxis\": {\"endlinecolor\": \"#2a3f5f\", \"gridcolor\": \"white\", \"linecolor\": \"white\", \"minorgridcolor\": \"white\", \"startlinecolor\": \"#2a3f5f\"}, \"type\": \"carpet\"}], \"choropleth\": [{\"colorbar\": {\"outlinewidth\": 0, \"ticks\": \"\"}, \"type\": \"choropleth\"}], \"contour\": [{\"colorbar\": {\"outlinewidth\": 0, \"ticks\": \"\"}, \"colorscale\": [[0.0, \"#0d0887\"], [0.1111111111111111, \"#46039f\"], [0.2222222222222222, \"#7201a8\"], [0.3333333333333333, \"#9c179e\"], [0.4444444444444444, \"#bd3786\"], [0.5555555555555556, \"#d8576b\"], [0.6666666666666666, \"#ed7953\"], [0.7777777777777778, \"#fb9f3a\"], [0.8888888888888888, \"#fdca26\"], [1.0, \"#f0f921\"]], \"type\": \"contour\"}], \"contourcarpet\": [{\"colorbar\": {\"outlinewidth\": 0, \"ticks\": \"\"}, \"type\": \"contourcarpet\"}], \"heatmap\": [{\"colorbar\": {\"outlinewidth\": 0, \"ticks\": \"\"}, \"colorscale\": [[0.0, \"#0d0887\"], [0.1111111111111111, \"#46039f\"], [0.2222222222222222, \"#7201a8\"], [0.3333333333333333, \"#9c179e\"], [0.4444444444444444, \"#bd3786\"], [0.5555555555555556, \"#d8576b\"], [0.6666666666666666, \"#ed7953\"], [0.7777777777777778, \"#fb9f3a\"], [0.8888888888888888, \"#fdca26\"], [1.0, \"#f0f921\"]], \"type\": \"heatmap\"}], \"heatmapgl\": [{\"colorbar\": {\"outlinewidth\": 0, \"ticks\": \"\"}, \"colorscale\": [[0.0, \"#0d0887\"], [0.1111111111111111, \"#46039f\"], [0.2222222222222222, \"#7201a8\"], [0.3333333333333333, \"#9c179e\"], [0.4444444444444444, \"#bd3786\"], [0.5555555555555556, \"#d8576b\"], [0.6666666666666666, \"#ed7953\"], [0.7777777777777778, \"#fb9f3a\"], [0.8888888888888888, \"#fdca26\"], [1.0, \"#f0f921\"]], \"type\": \"heatmapgl\"}], \"histogram\": [{\"marker\": {\"colorbar\": {\"outlinewidth\": 0, \"ticks\": \"\"}}, \"type\": \"histogram\"}], \"histogram2d\": [{\"colorbar\": {\"outlinewidth\": 0, \"ticks\": \"\"}, \"colorscale\": [[0.0, \"#0d0887\"], [0.1111111111111111, \"#46039f\"], [0.2222222222222222, \"#7201a8\"], [0.3333333333333333, \"#9c179e\"], [0.4444444444444444, \"#bd3786\"], [0.5555555555555556, \"#d8576b\"], [0.6666666666666666, \"#ed7953\"], [0.7777777777777778, \"#fb9f3a\"], [0.8888888888888888, \"#fdca26\"], [1.0, \"#f0f921\"]], \"type\": \"histogram2d\"}], \"histogram2dcontour\": [{\"colorbar\": {\"outlinewidth\": 0, \"ticks\": \"\"}, \"colorscale\": [[0.0, \"#0d0887\"], [0.1111111111111111, \"#46039f\"], [0.2222222222222222, \"#7201a8\"], [0.3333333333333333, \"#9c179e\"], [0.4444444444444444, \"#bd3786\"], [0.5555555555555556, \"#d8576b\"], [0.6666666666666666, \"#ed7953\"], [0.7777777777777778, \"#fb9f3a\"], [0.8888888888888888, \"#fdca26\"], [1.0, \"#f0f921\"]], \"type\": \"histogram2dcontour\"}], \"mesh3d\": [{\"colorbar\": {\"outlinewidth\": 0, \"ticks\": \"\"}, \"type\": \"mesh3d\"}], \"parcoords\": [{\"line\": {\"colorbar\": {\"outlinewidth\": 0, \"ticks\": \"\"}}, \"type\": \"parcoords\"}], \"pie\": [{\"automargin\": true, \"type\": \"pie\"}], \"scatter\": [{\"marker\": {\"colorbar\": {\"outlinewidth\": 0, \"ticks\": \"\"}}, \"type\": \"scatter\"}], \"scatter3d\": [{\"line\": {\"colorbar\": {\"outlinewidth\": 0, \"ticks\": \"\"}}, \"marker\": {\"colorbar\": {\"outlinewidth\": 0, \"ticks\": \"\"}}, \"type\": \"scatter3d\"}], \"scattercarpet\": [{\"marker\": {\"colorbar\": {\"outlinewidth\": 0, \"ticks\": \"\"}}, \"type\": \"scattercarpet\"}], \"scattergeo\": [{\"marker\": {\"colorbar\": {\"outlinewidth\": 0, \"ticks\": \"\"}}, \"type\": \"scattergeo\"}], \"scattergl\": [{\"marker\": {\"colorbar\": {\"outlinewidth\": 0, \"ticks\": \"\"}}, \"type\": \"scattergl\"}], \"scattermapbox\": [{\"marker\": {\"colorbar\": {\"outlinewidth\": 0, \"ticks\": \"\"}}, \"type\": \"scattermapbox\"}], \"scatterpolar\": [{\"marker\": {\"colorbar\": {\"outlinewidth\": 0, \"ticks\": \"\"}}, \"type\": \"scatterpolar\"}], \"scatterpolargl\": [{\"marker\": {\"colorbar\": {\"outlinewidth\": 0, \"ticks\": \"\"}}, \"type\": \"scatterpolargl\"}], \"scatterternary\": [{\"marker\": {\"colorbar\": {\"outlinewidth\": 0, \"ticks\": \"\"}}, \"type\": \"scatterternary\"}], \"surface\": [{\"colorbar\": {\"outlinewidth\": 0, \"ticks\": \"\"}, \"colorscale\": [[0.0, \"#0d0887\"], [0.1111111111111111, \"#46039f\"], [0.2222222222222222, \"#7201a8\"], [0.3333333333333333, \"#9c179e\"], [0.4444444444444444, \"#bd3786\"], [0.5555555555555556, \"#d8576b\"], [0.6666666666666666, \"#ed7953\"], [0.7777777777777778, \"#fb9f3a\"], [0.8888888888888888, \"#fdca26\"], [1.0, \"#f0f921\"]], \"type\": \"surface\"}], \"table\": [{\"cells\": {\"fill\": {\"color\": \"#EBF0F8\"}, \"line\": {\"color\": \"white\"}}, \"header\": {\"fill\": {\"color\": \"#C8D4E3\"}, \"line\": {\"color\": \"white\"}}, \"type\": \"table\"}]}, \"layout\": {\"annotationdefaults\": {\"arrowcolor\": \"#2a3f5f\", \"arrowhead\": 0, \"arrowwidth\": 1}, \"coloraxis\": {\"colorbar\": {\"outlinewidth\": 0, \"ticks\": \"\"}}, \"colorscale\": {\"diverging\": [[0, \"#8e0152\"], [0.1, \"#c51b7d\"], [0.2, \"#de77ae\"], [0.3, \"#f1b6da\"], [0.4, \"#fde0ef\"], [0.5, \"#f7f7f7\"], [0.6, \"#e6f5d0\"], [0.7, \"#b8e186\"], [0.8, \"#7fbc41\"], [0.9, \"#4d9221\"], [1, \"#276419\"]], \"sequential\": [[0.0, \"#0d0887\"], [0.1111111111111111, \"#46039f\"], [0.2222222222222222, \"#7201a8\"], [0.3333333333333333, \"#9c179e\"], [0.4444444444444444, \"#bd3786\"], [0.5555555555555556, \"#d8576b\"], [0.6666666666666666, \"#ed7953\"], [0.7777777777777778, \"#fb9f3a\"], [0.8888888888888888, \"#fdca26\"], [1.0, \"#f0f921\"]], \"sequentialminus\": [[0.0, \"#0d0887\"], [0.1111111111111111, \"#46039f\"], [0.2222222222222222, \"#7201a8\"], [0.3333333333333333, \"#9c179e\"], [0.4444444444444444, \"#bd3786\"], [0.5555555555555556, \"#d8576b\"], [0.6666666666666666, \"#ed7953\"], [0.7777777777777778, \"#fb9f3a\"], [0.8888888888888888, \"#fdca26\"], [1.0, \"#f0f921\"]]}, \"colorway\": [\"#636efa\", \"#EF553B\", \"#00cc96\", \"#ab63fa\", \"#FFA15A\", \"#19d3f3\", \"#FF6692\", \"#B6E880\", \"#FF97FF\", \"#FECB52\"], \"font\": {\"color\": \"#2a3f5f\"}, \"geo\": {\"bgcolor\": \"white\", \"lakecolor\": \"white\", \"landcolor\": \"#E5ECF6\", \"showlakes\": true, \"showland\": true, \"subunitcolor\": \"white\"}, \"hoverlabel\": {\"align\": \"left\"}, \"hovermode\": \"closest\", \"mapbox\": {\"style\": \"light\"}, \"paper_bgcolor\": \"white\", \"plot_bgcolor\": \"#E5ECF6\", \"polar\": {\"angularaxis\": {\"gridcolor\": \"white\", \"linecolor\": \"white\", \"ticks\": \"\"}, \"bgcolor\": \"#E5ECF6\", \"radialaxis\": {\"gridcolor\": \"white\", \"linecolor\": \"white\", \"ticks\": \"\"}}, \"scene\": {\"xaxis\": {\"backgroundcolor\": \"#E5ECF6\", \"gridcolor\": \"white\", \"gridwidth\": 2, \"linecolor\": \"white\", \"showbackground\": true, \"ticks\": \"\", \"zerolinecolor\": \"white\"}, \"yaxis\": {\"backgroundcolor\": \"#E5ECF6\", \"gridcolor\": \"white\", \"gridwidth\": 2, \"linecolor\": \"white\", \"showbackground\": true, \"ticks\": \"\", \"zerolinecolor\": \"white\"}, \"zaxis\": {\"backgroundcolor\": \"#E5ECF6\", \"gridcolor\": \"white\", \"gridwidth\": 2, \"linecolor\": \"white\", \"showbackground\": true, \"ticks\": \"\", \"zerolinecolor\": \"white\"}}, \"shapedefaults\": {\"line\": {\"color\": \"#2a3f5f\"}}, \"ternary\": {\"aaxis\": {\"gridcolor\": \"white\", \"linecolor\": \"white\", \"ticks\": \"\"}, \"baxis\": {\"gridcolor\": \"white\", \"linecolor\": \"white\", \"ticks\": \"\"}, \"bgcolor\": \"#E5ECF6\", \"caxis\": {\"gridcolor\": \"white\", \"linecolor\": \"white\", \"ticks\": \"\"}}, \"title\": {\"x\": 0.05}, \"xaxis\": {\"automargin\": true, \"gridcolor\": \"white\", \"linecolor\": \"white\", \"ticks\": \"\", \"title\": {\"standoff\": 15}, \"zerolinecolor\": \"white\", \"zerolinewidth\": 2}, \"yaxis\": {\"automargin\": true, \"gridcolor\": \"white\", \"linecolor\": \"white\", \"ticks\": \"\", \"title\": {\"standoff\": 15}, \"zerolinecolor\": \"white\", \"zerolinewidth\": 2}}}, \"title\": {\"text\": \"Stocks Analysis\"}, \"xaxis\": {\"anchor\": \"y\", \"domain\": [0.0, 1.0], \"showspikes\": true, \"spikecolor\": \"black\", \"spikemode\": \"across\", \"spikesnap\": \"cursor\", \"spikethickness\": 1, \"title\": {\"text\": \"Month_Name\"}}, \"yaxis\": {\"anchor\": \"x\", \"domain\": [0.0, 1.0], \"showspikes\": true, \"spikecolor\": \"black\", \"spikethickness\": 1, \"title\": {\"text\": \"value\"}}},                        {\"responsive\": true}                    ).then(function(){\n",
       "                            \n",
       "var gd = document.getElementById('1eb5fa71-d70b-4ff1-a708-b9cd94fc688d');\n",
       "var x = new MutationObserver(function (mutations, observer) {{\n",
       "        var display = window.getComputedStyle(gd).display;\n",
       "        if (!display || display === 'none') {{\n",
       "            console.log([gd, 'removed!']);\n",
       "            Plotly.purge(gd);\n",
       "            observer.disconnect();\n",
       "        }}\n",
       "}});\n",
       "\n",
       "// Listen for the removal of the full notebook cells\n",
       "var notebookContainer = gd.closest('#notebook-container');\n",
       "if (notebookContainer) {{\n",
       "    x.observe(notebookContainer, {childList: true});\n",
       "}}\n",
       "\n",
       "// Listen for the clearing of the current output cell\n",
       "var outputEl = gd.closest('.output');\n",
       "if (outputEl) {{\n",
       "    x.observe(outputEl, {childList: true});\n",
       "}}\n",
       "\n",
       "                        })                };                });            </script>        </div>"
      ]
     },
     "metadata": {},
     "output_type": "display_data"
    }
   ],
   "source": [
    "fig = px.line(df1, x=df1.index, y=[v,w,y,z], title='Stocks Analysis')\n",
    "fig.update_xaxes(showspikes=True, spikecolor=\"black\", spikesnap=\"cursor\", spikemode=\"across\",spikethickness=1)\n",
    "fig.update_yaxes(showspikes=True, spikecolor='black', spikethickness=1)\n",
    "fig.update_layout(spikedistance=500, hoverdistance=100)\n",
    "fig.show()"
   ]
  },
  {
   "cell_type": "code",
   "execution_count": 183,
   "metadata": {},
   "outputs": [
    {
     "name": "stdout",
     "output_type": "stream",
     "text": [
      "Process Completed\n"
     ]
    }
   ],
   "source": [
    "print('Process Completed')"
   ]
  },
  {
   "cell_type": "code",
   "execution_count": null,
   "metadata": {},
   "outputs": [],
   "source": []
  },
  {
   "cell_type": "code",
   "execution_count": null,
   "metadata": {},
   "outputs": [],
   "source": []
  },
  {
   "cell_type": "markdown",
   "metadata": {},
   "source": [
    "# Section Wise Analysis"
   ]
  },
  {
   "cell_type": "code",
   "execution_count": 141,
   "metadata": {},
   "outputs": [],
   "source": [
    "url=pd.read_excel('Stock_Market_Sectionwise.xlsx')"
   ]
  },
  {
   "cell_type": "code",
   "execution_count": 142,
   "metadata": {},
   "outputs": [
    {
     "name": "stdout",
     "output_type": "stream",
     "text": [
      "Data saved to Excel\n"
     ]
    }
   ],
   "source": [
    "appended_data=[]\n",
    "for iv in url['Type of Stock']:\n",
    "    sec_df=pd.read_html(iv)    \n",
    "    sec_df[0]\n",
    "    appended_data.append(sec_df[0])\n",
    "appended_data = pd.concat(appended_data)\n",
    "appended_data['Open Price']=appended_data['Last Price']-appended_data['Change']\n",
    "appended_data=appended_data[['Company Name','Industry','Open Price','Last Price','Change','%Chg','Mkt Cap(Rs cr)']]\n",
    "appended_data.to_excel('All_Stocks_Data.xlsx', index=False)\n",
    "print('Data saved to Excel')"
   ]
  },
  {
   "cell_type": "code",
   "execution_count": 143,
   "metadata": {},
   "outputs": [
    {
     "data": {
      "text/html": [
       "<div>\n",
       "<style scoped>\n",
       "    .dataframe tbody tr th:only-of-type {\n",
       "        vertical-align: middle;\n",
       "    }\n",
       "\n",
       "    .dataframe tbody tr th {\n",
       "        vertical-align: top;\n",
       "    }\n",
       "\n",
       "    .dataframe thead th {\n",
       "        text-align: right;\n",
       "    }\n",
       "</style>\n",
       "<table border=\"1\" class=\"dataframe\">\n",
       "  <thead>\n",
       "    <tr style=\"text-align: right;\">\n",
       "      <th></th>\n",
       "      <th>Company Name</th>\n",
       "      <th>Industry</th>\n",
       "      <th>Open Price</th>\n",
       "      <th>Last Price</th>\n",
       "      <th>Change</th>\n",
       "      <th>%Chg</th>\n",
       "      <th>Mkt Cap(Rs cr)</th>\n",
       "    </tr>\n",
       "  </thead>\n",
       "  <tbody>\n",
       "    <tr>\n",
       "      <th>0</th>\n",
       "      <td>Castex Tech</td>\n",
       "      <td>Auto Ancillaries</td>\n",
       "      <td>0.40</td>\n",
       "      <td>0.45</td>\n",
       "      <td>0.05</td>\n",
       "      <td>12.50</td>\n",
       "      <td>17</td>\n",
       "    </tr>\n",
       "    <tr>\n",
       "      <th>1</th>\n",
       "      <td>Jullundur Motor</td>\n",
       "      <td>Auto Ancillaries</td>\n",
       "      <td>26.95</td>\n",
       "      <td>29.90</td>\n",
       "      <td>2.95</td>\n",
       "      <td>10.95</td>\n",
       "      <td>89</td>\n",
       "    </tr>\n",
       "    <tr>\n",
       "      <th>2</th>\n",
       "      <td>SML Isuzu</td>\n",
       "      <td>Auto - LCVs &amp; HCVs</td>\n",
       "      <td>389.30</td>\n",
       "      <td>429.80</td>\n",
       "      <td>40.50</td>\n",
       "      <td>10.40</td>\n",
       "      <td>622</td>\n",
       "    </tr>\n",
       "    <tr>\n",
       "      <th>3</th>\n",
       "      <td>Bharat Gears</td>\n",
       "      <td>Auto Ancillaries</td>\n",
       "      <td>48.20</td>\n",
       "      <td>52.05</td>\n",
       "      <td>3.85</td>\n",
       "      <td>7.99</td>\n",
       "      <td>48</td>\n",
       "    </tr>\n",
       "    <tr>\n",
       "      <th>4</th>\n",
       "      <td>Autolite India</td>\n",
       "      <td>Auto Ancillaries</td>\n",
       "      <td>17.05</td>\n",
       "      <td>18.20</td>\n",
       "      <td>1.15</td>\n",
       "      <td>6.74</td>\n",
       "      <td>20</td>\n",
       "    </tr>\n",
       "    <tr>\n",
       "      <th>...</th>\n",
       "      <td>...</td>\n",
       "      <td>...</td>\n",
       "      <td>...</td>\n",
       "      <td>...</td>\n",
       "      <td>...</td>\n",
       "      <td>...</td>\n",
       "      <td>...</td>\n",
       "    </tr>\n",
       "    <tr>\n",
       "      <th>20</th>\n",
       "      <td>GVK Power</td>\n",
       "      <td>Power - Generation &amp; Distribution</td>\n",
       "      <td>2.80</td>\n",
       "      <td>2.75</td>\n",
       "      <td>-0.05</td>\n",
       "      <td>-1.79</td>\n",
       "      <td>434</td>\n",
       "    </tr>\n",
       "    <tr>\n",
       "      <th>21</th>\n",
       "      <td>Indowind Energy</td>\n",
       "      <td>Power - Generation &amp; Distribution</td>\n",
       "      <td>2.65</td>\n",
       "      <td>2.60</td>\n",
       "      <td>-0.05</td>\n",
       "      <td>-1.89</td>\n",
       "      <td>23</td>\n",
       "    </tr>\n",
       "    <tr>\n",
       "      <th>22</th>\n",
       "      <td>S E Power</td>\n",
       "      <td>Power - Generation &amp; Distribution</td>\n",
       "      <td>2.55</td>\n",
       "      <td>2.45</td>\n",
       "      <td>-0.10</td>\n",
       "      <td>-3.92</td>\n",
       "      <td>10</td>\n",
       "    </tr>\n",
       "    <tr>\n",
       "      <th>23</th>\n",
       "      <td>Reliance Power</td>\n",
       "      <td>Power - Generation &amp; Distribution</td>\n",
       "      <td>3.20</td>\n",
       "      <td>3.05</td>\n",
       "      <td>-0.15</td>\n",
       "      <td>-4.69</td>\n",
       "      <td>856</td>\n",
       "    </tr>\n",
       "    <tr>\n",
       "      <th>24</th>\n",
       "      <td>KSK Energy Vent</td>\n",
       "      <td>Power - Generation &amp; Distribution</td>\n",
       "      <td>0.40</td>\n",
       "      <td>0.35</td>\n",
       "      <td>-0.05</td>\n",
       "      <td>-12.50</td>\n",
       "      <td>15</td>\n",
       "    </tr>\n",
       "  </tbody>\n",
       "</table>\n",
       "<p>1574 rows × 7 columns</p>\n",
       "</div>"
      ],
      "text/plain": [
       "       Company Name                           Industry  Open Price  \\\n",
       "0       Castex Tech                   Auto Ancillaries        0.40   \n",
       "1   Jullundur Motor                   Auto Ancillaries       26.95   \n",
       "2         SML Isuzu                 Auto - LCVs & HCVs      389.30   \n",
       "3      Bharat Gears                   Auto Ancillaries       48.20   \n",
       "4    Autolite India                   Auto Ancillaries       17.05   \n",
       "..              ...                                ...         ...   \n",
       "20        GVK Power  Power - Generation & Distribution        2.80   \n",
       "21  Indowind Energy  Power - Generation & Distribution        2.65   \n",
       "22        S E Power  Power - Generation & Distribution        2.55   \n",
       "23   Reliance Power  Power - Generation & Distribution        3.20   \n",
       "24  KSK Energy Vent  Power - Generation & Distribution        0.40   \n",
       "\n",
       "    Last Price  Change   %Chg  Mkt Cap(Rs cr)  \n",
       "0         0.45    0.05  12.50              17  \n",
       "1        29.90    2.95  10.95              89  \n",
       "2       429.80   40.50  10.40             622  \n",
       "3        52.05    3.85   7.99              48  \n",
       "4        18.20    1.15   6.74              20  \n",
       "..         ...     ...    ...             ...  \n",
       "20        2.75   -0.05  -1.79             434  \n",
       "21        2.60   -0.05  -1.89              23  \n",
       "22        2.45   -0.10  -3.92              10  \n",
       "23        3.05   -0.15  -4.69             856  \n",
       "24        0.35   -0.05 -12.50              15  \n",
       "\n",
       "[1574 rows x 7 columns]"
      ]
     },
     "execution_count": 143,
     "metadata": {},
     "output_type": "execute_result"
    }
   ],
   "source": [
    "appended_data"
   ]
  },
  {
   "cell_type": "code",
   "execution_count": 49,
   "metadata": {},
   "outputs": [
    {
     "name": "stdout",
     "output_type": "stream",
     "text": [
      "Types of Industries for Stocks:\n",
      "Auto - 2 & 3 Wheelers\n",
      "Auto Ancillaries\n",
      "Tyres\n",
      "Auto - Tractors\n",
      "Auto - LCVs & HCVs\n",
      "Auto - Cars & Jeeps\n",
      "nan\n",
      "Finance - General\n",
      "Finance - Leasing & Hire Purchase\n",
      "Finance - Investments\n",
      "Finance - Housing\n",
      "Banks - Private Sector\n",
      "Food Processing\n",
      "Finance - Term Lending Institutions\n",
      "Media & Entertainment\n",
      "Banks - Public Sector\n",
      "Construction & Contracting - Real Estate\n",
      "Textiles - Readymade Apparels\n",
      "Trading\n",
      "Miscellaneous\n",
      "Plastics\n",
      "Diamond Cutting & Jewellery & Precious Metals\n",
      "Construction & Contracting - Civil\n",
      "Cement - Products & Building Materials\n",
      "Ceramics & Granite\n",
      "Cement - Major\n",
      "Cement - Mini\n",
      "Fertilisers\n",
      "Petrochemicals\n",
      "Detergents\n",
      "Chemicals\n",
      "Speciality Chemicals\n",
      "Pesticides & Agro Chemicals\n",
      "Dyes & Pigments\n",
      "Edible Oils & Solvent Extraction\n",
      "Paints & Varnishes\n",
      "Lubricants\n",
      "Breweries & Distilleries\n",
      "Diversified\n",
      "Textiles - Processing\n",
      "Consumer Goods - White Goods\n",
      "Domestic Appliances\n",
      "Leather Products\n",
      "Consumer Goods - Electronic\n",
      "Personal Care\n",
      "Dry Cells\n",
      "Infrastructure - General\n",
      "Electric Equipment\n",
      "Abrasives\n",
      "Power - Transmission & Equipment\n",
      "Bearings\n",
      "Pumps\n",
      "Engineering\n",
      "Steel - Medium & Small\n",
      "Engineering - Heavy\n",
      "Engines\n",
      "Machine Tools\n",
      "Textiles - Machinery\n",
      "Cables - Power & Others\n",
      "Compressors\n",
      "Electrodes & Graphite\n",
      "Castings & Forgings\n",
      "Power - Generation & Distribution\n",
      "Sugar\n",
      "Plantations - Tea & Coffee\n",
      "Vanaspati & Oils\n",
      "Computers - Software Medium & Small\n",
      "Computers - Software\n",
      "Telecommunications - Service\n",
      "Computers - Software - Training\n",
      "Computers - Hardware\n",
      "Retail\n",
      "Telecommunications - Equipment\n",
      "Textiles - Manmade\n",
      "Textiles - Weaving\n",
      "Electricals\n",
      "Textiles - Spinning - Cotton Blended\n",
      "Packaging\n",
      "Textiles - Synthetic & Silk\n",
      "Textiles - General\n",
      "Paper\n",
      "Textiles - Hosiery & Knitwear\n",
      "Textiles - Denim\n",
      "Fasteners\n",
      "Glass & Glass Products\n",
      "Textiles - Woollen & Worsted\n",
      "Textiles - Composite Mills\n",
      "Textiles - Spinning - Synthetic Blended\n",
      "Iron & Steel\n",
      "Steel - Sponge Iron\n",
      "Steel - GP & GC Sheets\n",
      "Metals - Non Ferrous\n",
      "Mining & Minerals\n",
      "Steel - Large\n",
      "Steel - Tubes & Pipes\n",
      "Steel - CR & HR Strips\n",
      "Aluminium\n",
      "Steel - Rolling\n",
      "Steel - Pig Iron\n",
      "Printing & Stationery\n",
      "Rubber\n",
      "Transport & Logistics\n",
      "Hospitals & Medical Services\n",
      "Aquaculture\n",
      "Pharmaceuticals\n",
      "Refineries\n",
      "Oil Drilling And Exploration\n",
      "Construction & Contracting - Housing\n",
      "Construction - Real Estate\n",
      "Couriers\n",
      "Shipping\n",
      "Hotels\n",
      "Cables - Telephone\n",
      "Cigarettes\n"
     ]
    }
   ],
   "source": [
    "print('Types of Industries for Stocks:')\n",
    "for i in appended_data['Industry'].unique():\n",
    "    print(i)"
   ]
  },
  {
   "cell_type": "markdown",
   "metadata": {},
   "source": [
    "# Industry/Sector Wise Analysis"
   ]
  },
  {
   "cell_type": "code",
   "execution_count": 145,
   "metadata": {},
   "outputs": [
    {
     "name": "stdout",
     "output_type": "stream",
     "text": [
      "Please enter the industry on which you want to carry out Analysis: Cement - Major\n",
      "22 stocks are currently listed on NSE for sector Cement - Major\n"
     ]
    },
    {
     "data": {
      "text/html": [
       "<div>\n",
       "<style scoped>\n",
       "    .dataframe tbody tr th:only-of-type {\n",
       "        vertical-align: middle;\n",
       "    }\n",
       "\n",
       "    .dataframe tbody tr th {\n",
       "        vertical-align: top;\n",
       "    }\n",
       "\n",
       "    .dataframe thead th {\n",
       "        text-align: right;\n",
       "    }\n",
       "</style>\n",
       "<table border=\"1\" class=\"dataframe\">\n",
       "  <thead>\n",
       "    <tr style=\"text-align: right;\">\n",
       "      <th></th>\n",
       "      <th>Company Name</th>\n",
       "      <th>Industry</th>\n",
       "      <th>Open Price</th>\n",
       "      <th>Last Price</th>\n",
       "      <th>Change</th>\n",
       "      <th>%Chg</th>\n",
       "      <th>Mkt Cap(Rs cr)</th>\n",
       "    </tr>\n",
       "  </thead>\n",
       "  <tbody>\n",
       "    <tr>\n",
       "      <th>1</th>\n",
       "      <td>Mangalam Cement</td>\n",
       "      <td>Cement - Major</td>\n",
       "      <td>197.55</td>\n",
       "      <td>209.20</td>\n",
       "      <td>11.65</td>\n",
       "      <td>5.90</td>\n",
       "      <td>558</td>\n",
       "    </tr>\n",
       "    <tr>\n",
       "      <th>14</th>\n",
       "      <td>Orient Cement</td>\n",
       "      <td>Cement - Major</td>\n",
       "      <td>61.35</td>\n",
       "      <td>63.10</td>\n",
       "      <td>1.75</td>\n",
       "      <td>2.85</td>\n",
       "      <td>1293</td>\n",
       "    </tr>\n",
       "    <tr>\n",
       "      <th>20</th>\n",
       "      <td>India Cements</td>\n",
       "      <td>Cement - Major</td>\n",
       "      <td>118.90</td>\n",
       "      <td>121.50</td>\n",
       "      <td>2.60</td>\n",
       "      <td>2.19</td>\n",
       "      <td>3765</td>\n",
       "    </tr>\n",
       "    <tr>\n",
       "      <th>25</th>\n",
       "      <td>UltraTechCement</td>\n",
       "      <td>Cement - Major</td>\n",
       "      <td>4531.60</td>\n",
       "      <td>4617.90</td>\n",
       "      <td>86.30</td>\n",
       "      <td>1.90</td>\n",
       "      <td>133286</td>\n",
       "    </tr>\n",
       "    <tr>\n",
       "      <th>29</th>\n",
       "      <td>Shree Cements</td>\n",
       "      <td>Cement - Major</td>\n",
       "      <td>21910.35</td>\n",
       "      <td>22239.40</td>\n",
       "      <td>329.05</td>\n",
       "      <td>1.50</td>\n",
       "      <td>80241</td>\n",
       "    </tr>\n",
       "    <tr>\n",
       "      <th>31</th>\n",
       "      <td>ACC</td>\n",
       "      <td>Cement - Major</td>\n",
       "      <td>1676.35</td>\n",
       "      <td>1699.40</td>\n",
       "      <td>23.05</td>\n",
       "      <td>1.38</td>\n",
       "      <td>31913</td>\n",
       "    </tr>\n",
       "    <tr>\n",
       "      <th>39</th>\n",
       "      <td>Heidelberg Cem</td>\n",
       "      <td>Cement - Major</td>\n",
       "      <td>188.10</td>\n",
       "      <td>189.90</td>\n",
       "      <td>1.80</td>\n",
       "      <td>0.96</td>\n",
       "      <td>4303</td>\n",
       "    </tr>\n",
       "    <tr>\n",
       "      <th>40</th>\n",
       "      <td>KCP</td>\n",
       "      <td>Cement - Major</td>\n",
       "      <td>64.15</td>\n",
       "      <td>64.75</td>\n",
       "      <td>0.60</td>\n",
       "      <td>0.94</td>\n",
       "      <td>835</td>\n",
       "    </tr>\n",
       "    <tr>\n",
       "      <th>41</th>\n",
       "      <td>Guj Sidhee Cem</td>\n",
       "      <td>Cement - Major</td>\n",
       "      <td>32.15</td>\n",
       "      <td>32.45</td>\n",
       "      <td>0.30</td>\n",
       "      <td>0.93</td>\n",
       "      <td>286</td>\n",
       "    </tr>\n",
       "    <tr>\n",
       "      <th>44</th>\n",
       "      <td>JK Lakshmi Cem</td>\n",
       "      <td>Cement - Major</td>\n",
       "      <td>289.75</td>\n",
       "      <td>292.20</td>\n",
       "      <td>2.45</td>\n",
       "      <td>0.85</td>\n",
       "      <td>3438</td>\n",
       "    </tr>\n",
       "    <tr>\n",
       "      <th>45</th>\n",
       "      <td>Rain Industries</td>\n",
       "      <td>Cement - Major</td>\n",
       "      <td>100.95</td>\n",
       "      <td>101.80</td>\n",
       "      <td>0.85</td>\n",
       "      <td>0.84</td>\n",
       "      <td>3424</td>\n",
       "    </tr>\n",
       "    <tr>\n",
       "      <th>47</th>\n",
       "      <td>Shree Digvijay</td>\n",
       "      <td>Cement - Major</td>\n",
       "      <td>62.95</td>\n",
       "      <td>63.30</td>\n",
       "      <td>0.35</td>\n",
       "      <td>0.56</td>\n",
       "      <td>898</td>\n",
       "    </tr>\n",
       "    <tr>\n",
       "      <th>49</th>\n",
       "      <td>Birla Corp</td>\n",
       "      <td>Cement - Major</td>\n",
       "      <td>639.75</td>\n",
       "      <td>642.90</td>\n",
       "      <td>3.15</td>\n",
       "      <td>0.49</td>\n",
       "      <td>4951</td>\n",
       "    </tr>\n",
       "    <tr>\n",
       "      <th>50</th>\n",
       "      <td>Star Cement</td>\n",
       "      <td>Cement - Major</td>\n",
       "      <td>82.55</td>\n",
       "      <td>82.90</td>\n",
       "      <td>0.35</td>\n",
       "      <td>0.42</td>\n",
       "      <td>3419</td>\n",
       "    </tr>\n",
       "    <tr>\n",
       "      <th>51</th>\n",
       "      <td>Ramco Cements</td>\n",
       "      <td>Cement - Major</td>\n",
       "      <td>835.85</td>\n",
       "      <td>839.05</td>\n",
       "      <td>3.20</td>\n",
       "      <td>0.38</td>\n",
       "      <td>19790</td>\n",
       "    </tr>\n",
       "    <tr>\n",
       "      <th>53</th>\n",
       "      <td>Prism Cement</td>\n",
       "      <td>Cement - Major</td>\n",
       "      <td>75.00</td>\n",
       "      <td>75.10</td>\n",
       "      <td>0.10</td>\n",
       "      <td>0.13</td>\n",
       "      <td>3780</td>\n",
       "    </tr>\n",
       "    <tr>\n",
       "      <th>67</th>\n",
       "      <td>J. K. Cement</td>\n",
       "      <td>Cement - Major</td>\n",
       "      <td>1870.65</td>\n",
       "      <td>1863.30</td>\n",
       "      <td>-7.35</td>\n",
       "      <td>-0.39</td>\n",
       "      <td>14397</td>\n",
       "    </tr>\n",
       "    <tr>\n",
       "      <th>79</th>\n",
       "      <td>Barak Vally Cem</td>\n",
       "      <td>Cement - Major</td>\n",
       "      <td>13.75</td>\n",
       "      <td>13.40</td>\n",
       "      <td>-0.35</td>\n",
       "      <td>-2.55</td>\n",
       "      <td>30</td>\n",
       "    </tr>\n",
       "    <tr>\n",
       "      <th>80</th>\n",
       "      <td>Andhra Cement</td>\n",
       "      <td>Cement - Major</td>\n",
       "      <td>5.00</td>\n",
       "      <td>4.85</td>\n",
       "      <td>-0.15</td>\n",
       "      <td>-3.00</td>\n",
       "      <td>142</td>\n",
       "    </tr>\n",
       "    <tr>\n",
       "      <th>81</th>\n",
       "      <td>Burnpur Cement</td>\n",
       "      <td>Cement - Major</td>\n",
       "      <td>1.55</td>\n",
       "      <td>1.50</td>\n",
       "      <td>-0.05</td>\n",
       "      <td>-3.23</td>\n",
       "      <td>13</td>\n",
       "    </tr>\n",
       "    <tr>\n",
       "      <th>82</th>\n",
       "      <td>Ambuja Cements</td>\n",
       "      <td>Cement - Major</td>\n",
       "      <td>264.40</td>\n",
       "      <td>255.75</td>\n",
       "      <td>-8.65</td>\n",
       "      <td>-3.27</td>\n",
       "      <td>50783</td>\n",
       "    </tr>\n",
       "    <tr>\n",
       "      <th>8</th>\n",
       "      <td>Dalmia Bharat</td>\n",
       "      <td>Cement - Major</td>\n",
       "      <td>831.40</td>\n",
       "      <td>872.65</td>\n",
       "      <td>41.25</td>\n",
       "      <td>4.96</td>\n",
       "      <td>16300</td>\n",
       "    </tr>\n",
       "  </tbody>\n",
       "</table>\n",
       "</div>"
      ],
      "text/plain": [
       "       Company Name        Industry  Open Price  Last Price  Change  %Chg  \\\n",
       "1   Mangalam Cement  Cement - Major      197.55      209.20   11.65  5.90   \n",
       "14    Orient Cement  Cement - Major       61.35       63.10    1.75  2.85   \n",
       "20    India Cements  Cement - Major      118.90      121.50    2.60  2.19   \n",
       "25  UltraTechCement  Cement - Major     4531.60     4617.90   86.30  1.90   \n",
       "29    Shree Cements  Cement - Major    21910.35    22239.40  329.05  1.50   \n",
       "31              ACC  Cement - Major     1676.35     1699.40   23.05  1.38   \n",
       "39   Heidelberg Cem  Cement - Major      188.10      189.90    1.80  0.96   \n",
       "40              KCP  Cement - Major       64.15       64.75    0.60  0.94   \n",
       "41   Guj Sidhee Cem  Cement - Major       32.15       32.45    0.30  0.93   \n",
       "44   JK Lakshmi Cem  Cement - Major      289.75      292.20    2.45  0.85   \n",
       "45  Rain Industries  Cement - Major      100.95      101.80    0.85  0.84   \n",
       "47   Shree Digvijay  Cement - Major       62.95       63.30    0.35  0.56   \n",
       "49       Birla Corp  Cement - Major      639.75      642.90    3.15  0.49   \n",
       "50      Star Cement  Cement - Major       82.55       82.90    0.35  0.42   \n",
       "51    Ramco Cements  Cement - Major      835.85      839.05    3.20  0.38   \n",
       "53     Prism Cement  Cement - Major       75.00       75.10    0.10  0.13   \n",
       "67     J. K. Cement  Cement - Major     1870.65     1863.30   -7.35 -0.39   \n",
       "79  Barak Vally Cem  Cement - Major       13.75       13.40   -0.35 -2.55   \n",
       "80    Andhra Cement  Cement - Major        5.00        4.85   -0.15 -3.00   \n",
       "81   Burnpur Cement  Cement - Major        1.55        1.50   -0.05 -3.23   \n",
       "82   Ambuja Cements  Cement - Major      264.40      255.75   -8.65 -3.27   \n",
       "8     Dalmia Bharat  Cement - Major      831.40      872.65   41.25  4.96   \n",
       "\n",
       "    Mkt Cap(Rs cr)  \n",
       "1              558  \n",
       "14            1293  \n",
       "20            3765  \n",
       "25          133286  \n",
       "29           80241  \n",
       "31           31913  \n",
       "39            4303  \n",
       "40             835  \n",
       "41             286  \n",
       "44            3438  \n",
       "45            3424  \n",
       "47             898  \n",
       "49            4951  \n",
       "50            3419  \n",
       "51           19790  \n",
       "53            3780  \n",
       "67           14397  \n",
       "79              30  \n",
       "80             142  \n",
       "81              13  \n",
       "82           50783  \n",
       "8            16300  "
      ]
     },
     "execution_count": 145,
     "metadata": {},
     "output_type": "execute_result"
    }
   ],
   "source": [
    "ind=input('Please enter the industry on which you want to carry out Analysis: ')\n",
    "spec_data=appended_data[appended_data['Industry']==ind]\n",
    "print(spec_data.shape[0], 'stocks are currently listed on NSE for sector {}'.format(ind))\n",
    "spec_data"
   ]
  },
  {
   "cell_type": "code",
   "execution_count": 146,
   "metadata": {},
   "outputs": [
    {
     "name": "stdout",
     "output_type": "stream",
     "text": [
      "Potential chances to make profit in: Cement - Major\n"
     ]
    }
   ],
   "source": [
    "Indtry_spc_stocks=len(spec_data)\n",
    "pos_growth_stocks=len(spec_data[spec_data['%Chg']>0])\n",
    "if pos_growth_stocks>(0.5*Indtry_spc_stocks):\n",
    "    print('Potential chances to make profit in:',ind)\n",
    "else:\n",
    "    print('Not a good time to invest in:', ind )"
   ]
  },
  {
   "cell_type": "markdown",
   "metadata": {},
   "source": [
    "# Analysing the Stocks which have given loss for the day in the given Category (gone down by some %):"
   ]
  },
  {
   "cell_type": "code",
   "execution_count": 147,
   "metadata": {},
   "outputs": [
    {
     "name": "stdout",
     "output_type": "stream",
     "text": [
      "5\n"
     ]
    },
    {
     "data": {
      "text/html": [
       "<div>\n",
       "<style scoped>\n",
       "    .dataframe tbody tr th:only-of-type {\n",
       "        vertical-align: middle;\n",
       "    }\n",
       "\n",
       "    .dataframe tbody tr th {\n",
       "        vertical-align: top;\n",
       "    }\n",
       "\n",
       "    .dataframe thead th {\n",
       "        text-align: right;\n",
       "    }\n",
       "</style>\n",
       "<table border=\"1\" class=\"dataframe\">\n",
       "  <thead>\n",
       "    <tr style=\"text-align: right;\">\n",
       "      <th></th>\n",
       "      <th>Company Name</th>\n",
       "      <th>Industry</th>\n",
       "      <th>Open Price</th>\n",
       "      <th>Last Price</th>\n",
       "      <th>Change</th>\n",
       "      <th>%Chg</th>\n",
       "      <th>Mkt Cap(Rs cr)</th>\n",
       "    </tr>\n",
       "  </thead>\n",
       "  <tbody>\n",
       "    <tr>\n",
       "      <th>67</th>\n",
       "      <td>J. K. Cement</td>\n",
       "      <td>Cement - Major</td>\n",
       "      <td>1870.65</td>\n",
       "      <td>1863.30</td>\n",
       "      <td>-7.35</td>\n",
       "      <td>-0.39</td>\n",
       "      <td>14397</td>\n",
       "    </tr>\n",
       "    <tr>\n",
       "      <th>79</th>\n",
       "      <td>Barak Vally Cem</td>\n",
       "      <td>Cement - Major</td>\n",
       "      <td>13.75</td>\n",
       "      <td>13.40</td>\n",
       "      <td>-0.35</td>\n",
       "      <td>-2.55</td>\n",
       "      <td>30</td>\n",
       "    </tr>\n",
       "    <tr>\n",
       "      <th>80</th>\n",
       "      <td>Andhra Cement</td>\n",
       "      <td>Cement - Major</td>\n",
       "      <td>5.00</td>\n",
       "      <td>4.85</td>\n",
       "      <td>-0.15</td>\n",
       "      <td>-3.00</td>\n",
       "      <td>142</td>\n",
       "    </tr>\n",
       "    <tr>\n",
       "      <th>81</th>\n",
       "      <td>Burnpur Cement</td>\n",
       "      <td>Cement - Major</td>\n",
       "      <td>1.55</td>\n",
       "      <td>1.50</td>\n",
       "      <td>-0.05</td>\n",
       "      <td>-3.23</td>\n",
       "      <td>13</td>\n",
       "    </tr>\n",
       "    <tr>\n",
       "      <th>82</th>\n",
       "      <td>Ambuja Cements</td>\n",
       "      <td>Cement - Major</td>\n",
       "      <td>264.40</td>\n",
       "      <td>255.75</td>\n",
       "      <td>-8.65</td>\n",
       "      <td>-3.27</td>\n",
       "      <td>50783</td>\n",
       "    </tr>\n",
       "  </tbody>\n",
       "</table>\n",
       "</div>"
      ],
      "text/plain": [
       "       Company Name        Industry  Open Price  Last Price  Change  %Chg  \\\n",
       "67     J. K. Cement  Cement - Major     1870.65     1863.30   -7.35 -0.39   \n",
       "79  Barak Vally Cem  Cement - Major       13.75       13.40   -0.35 -2.55   \n",
       "80    Andhra Cement  Cement - Major        5.00        4.85   -0.15 -3.00   \n",
       "81   Burnpur Cement  Cement - Major        1.55        1.50   -0.05 -3.23   \n",
       "82   Ambuja Cements  Cement - Major      264.40      255.75   -8.65 -3.27   \n",
       "\n",
       "    Mkt Cap(Rs cr)  \n",
       "67           14397  \n",
       "79              30  \n",
       "80             142  \n",
       "81              13  \n",
       "82           50783  "
      ]
     },
     "execution_count": 147,
     "metadata": {},
     "output_type": "execute_result"
    }
   ],
   "source": [
    "print(spec_data[spec_data['%Chg']<0].shape[0])\n",
    "spec_data[spec_data['%Chg']<0].sort_values(by='%Chg', ascending=False)"
   ]
  },
  {
   "cell_type": "markdown",
   "metadata": {},
   "source": [
    "# Analysing the Stocks which have provided Profit for the day in the given Category (gone up by some %):"
   ]
  },
  {
   "cell_type": "code",
   "execution_count": 148,
   "metadata": {},
   "outputs": [
    {
     "name": "stdout",
     "output_type": "stream",
     "text": [
      "17\n"
     ]
    },
    {
     "data": {
      "text/html": [
       "<div>\n",
       "<style scoped>\n",
       "    .dataframe tbody tr th:only-of-type {\n",
       "        vertical-align: middle;\n",
       "    }\n",
       "\n",
       "    .dataframe tbody tr th {\n",
       "        vertical-align: top;\n",
       "    }\n",
       "\n",
       "    .dataframe thead th {\n",
       "        text-align: right;\n",
       "    }\n",
       "</style>\n",
       "<table border=\"1\" class=\"dataframe\">\n",
       "  <thead>\n",
       "    <tr style=\"text-align: right;\">\n",
       "      <th></th>\n",
       "      <th>Company Name</th>\n",
       "      <th>Industry</th>\n",
       "      <th>Open Price</th>\n",
       "      <th>Last Price</th>\n",
       "      <th>Change</th>\n",
       "      <th>%Chg</th>\n",
       "      <th>Mkt Cap(Rs cr)</th>\n",
       "    </tr>\n",
       "  </thead>\n",
       "  <tbody>\n",
       "    <tr>\n",
       "      <th>1</th>\n",
       "      <td>Mangalam Cement</td>\n",
       "      <td>Cement - Major</td>\n",
       "      <td>197.55</td>\n",
       "      <td>209.20</td>\n",
       "      <td>11.65</td>\n",
       "      <td>5.90</td>\n",
       "      <td>558</td>\n",
       "    </tr>\n",
       "    <tr>\n",
       "      <th>8</th>\n",
       "      <td>Dalmia Bharat</td>\n",
       "      <td>Cement - Major</td>\n",
       "      <td>831.40</td>\n",
       "      <td>872.65</td>\n",
       "      <td>41.25</td>\n",
       "      <td>4.96</td>\n",
       "      <td>16300</td>\n",
       "    </tr>\n",
       "    <tr>\n",
       "      <th>14</th>\n",
       "      <td>Orient Cement</td>\n",
       "      <td>Cement - Major</td>\n",
       "      <td>61.35</td>\n",
       "      <td>63.10</td>\n",
       "      <td>1.75</td>\n",
       "      <td>2.85</td>\n",
       "      <td>1293</td>\n",
       "    </tr>\n",
       "    <tr>\n",
       "      <th>20</th>\n",
       "      <td>India Cements</td>\n",
       "      <td>Cement - Major</td>\n",
       "      <td>118.90</td>\n",
       "      <td>121.50</td>\n",
       "      <td>2.60</td>\n",
       "      <td>2.19</td>\n",
       "      <td>3765</td>\n",
       "    </tr>\n",
       "    <tr>\n",
       "      <th>25</th>\n",
       "      <td>UltraTechCement</td>\n",
       "      <td>Cement - Major</td>\n",
       "      <td>4531.60</td>\n",
       "      <td>4617.90</td>\n",
       "      <td>86.30</td>\n",
       "      <td>1.90</td>\n",
       "      <td>133286</td>\n",
       "    </tr>\n",
       "    <tr>\n",
       "      <th>29</th>\n",
       "      <td>Shree Cements</td>\n",
       "      <td>Cement - Major</td>\n",
       "      <td>21910.35</td>\n",
       "      <td>22239.40</td>\n",
       "      <td>329.05</td>\n",
       "      <td>1.50</td>\n",
       "      <td>80241</td>\n",
       "    </tr>\n",
       "    <tr>\n",
       "      <th>31</th>\n",
       "      <td>ACC</td>\n",
       "      <td>Cement - Major</td>\n",
       "      <td>1676.35</td>\n",
       "      <td>1699.40</td>\n",
       "      <td>23.05</td>\n",
       "      <td>1.38</td>\n",
       "      <td>31913</td>\n",
       "    </tr>\n",
       "    <tr>\n",
       "      <th>39</th>\n",
       "      <td>Heidelberg Cem</td>\n",
       "      <td>Cement - Major</td>\n",
       "      <td>188.10</td>\n",
       "      <td>189.90</td>\n",
       "      <td>1.80</td>\n",
       "      <td>0.96</td>\n",
       "      <td>4303</td>\n",
       "    </tr>\n",
       "    <tr>\n",
       "      <th>40</th>\n",
       "      <td>KCP</td>\n",
       "      <td>Cement - Major</td>\n",
       "      <td>64.15</td>\n",
       "      <td>64.75</td>\n",
       "      <td>0.60</td>\n",
       "      <td>0.94</td>\n",
       "      <td>835</td>\n",
       "    </tr>\n",
       "    <tr>\n",
       "      <th>41</th>\n",
       "      <td>Guj Sidhee Cem</td>\n",
       "      <td>Cement - Major</td>\n",
       "      <td>32.15</td>\n",
       "      <td>32.45</td>\n",
       "      <td>0.30</td>\n",
       "      <td>0.93</td>\n",
       "      <td>286</td>\n",
       "    </tr>\n",
       "    <tr>\n",
       "      <th>44</th>\n",
       "      <td>JK Lakshmi Cem</td>\n",
       "      <td>Cement - Major</td>\n",
       "      <td>289.75</td>\n",
       "      <td>292.20</td>\n",
       "      <td>2.45</td>\n",
       "      <td>0.85</td>\n",
       "      <td>3438</td>\n",
       "    </tr>\n",
       "    <tr>\n",
       "      <th>45</th>\n",
       "      <td>Rain Industries</td>\n",
       "      <td>Cement - Major</td>\n",
       "      <td>100.95</td>\n",
       "      <td>101.80</td>\n",
       "      <td>0.85</td>\n",
       "      <td>0.84</td>\n",
       "      <td>3424</td>\n",
       "    </tr>\n",
       "    <tr>\n",
       "      <th>47</th>\n",
       "      <td>Shree Digvijay</td>\n",
       "      <td>Cement - Major</td>\n",
       "      <td>62.95</td>\n",
       "      <td>63.30</td>\n",
       "      <td>0.35</td>\n",
       "      <td>0.56</td>\n",
       "      <td>898</td>\n",
       "    </tr>\n",
       "    <tr>\n",
       "      <th>49</th>\n",
       "      <td>Birla Corp</td>\n",
       "      <td>Cement - Major</td>\n",
       "      <td>639.75</td>\n",
       "      <td>642.90</td>\n",
       "      <td>3.15</td>\n",
       "      <td>0.49</td>\n",
       "      <td>4951</td>\n",
       "    </tr>\n",
       "    <tr>\n",
       "      <th>50</th>\n",
       "      <td>Star Cement</td>\n",
       "      <td>Cement - Major</td>\n",
       "      <td>82.55</td>\n",
       "      <td>82.90</td>\n",
       "      <td>0.35</td>\n",
       "      <td>0.42</td>\n",
       "      <td>3419</td>\n",
       "    </tr>\n",
       "    <tr>\n",
       "      <th>51</th>\n",
       "      <td>Ramco Cements</td>\n",
       "      <td>Cement - Major</td>\n",
       "      <td>835.85</td>\n",
       "      <td>839.05</td>\n",
       "      <td>3.20</td>\n",
       "      <td>0.38</td>\n",
       "      <td>19790</td>\n",
       "    </tr>\n",
       "    <tr>\n",
       "      <th>53</th>\n",
       "      <td>Prism Cement</td>\n",
       "      <td>Cement - Major</td>\n",
       "      <td>75.00</td>\n",
       "      <td>75.10</td>\n",
       "      <td>0.10</td>\n",
       "      <td>0.13</td>\n",
       "      <td>3780</td>\n",
       "    </tr>\n",
       "  </tbody>\n",
       "</table>\n",
       "</div>"
      ],
      "text/plain": [
       "       Company Name        Industry  Open Price  Last Price  Change  %Chg  \\\n",
       "1   Mangalam Cement  Cement - Major      197.55      209.20   11.65  5.90   \n",
       "8     Dalmia Bharat  Cement - Major      831.40      872.65   41.25  4.96   \n",
       "14    Orient Cement  Cement - Major       61.35       63.10    1.75  2.85   \n",
       "20    India Cements  Cement - Major      118.90      121.50    2.60  2.19   \n",
       "25  UltraTechCement  Cement - Major     4531.60     4617.90   86.30  1.90   \n",
       "29    Shree Cements  Cement - Major    21910.35    22239.40  329.05  1.50   \n",
       "31              ACC  Cement - Major     1676.35     1699.40   23.05  1.38   \n",
       "39   Heidelberg Cem  Cement - Major      188.10      189.90    1.80  0.96   \n",
       "40              KCP  Cement - Major       64.15       64.75    0.60  0.94   \n",
       "41   Guj Sidhee Cem  Cement - Major       32.15       32.45    0.30  0.93   \n",
       "44   JK Lakshmi Cem  Cement - Major      289.75      292.20    2.45  0.85   \n",
       "45  Rain Industries  Cement - Major      100.95      101.80    0.85  0.84   \n",
       "47   Shree Digvijay  Cement - Major       62.95       63.30    0.35  0.56   \n",
       "49       Birla Corp  Cement - Major      639.75      642.90    3.15  0.49   \n",
       "50      Star Cement  Cement - Major       82.55       82.90    0.35  0.42   \n",
       "51    Ramco Cements  Cement - Major      835.85      839.05    3.20  0.38   \n",
       "53     Prism Cement  Cement - Major       75.00       75.10    0.10  0.13   \n",
       "\n",
       "    Mkt Cap(Rs cr)  \n",
       "1              558  \n",
       "8            16300  \n",
       "14            1293  \n",
       "20            3765  \n",
       "25          133286  \n",
       "29           80241  \n",
       "31           31913  \n",
       "39            4303  \n",
       "40             835  \n",
       "41             286  \n",
       "44            3438  \n",
       "45            3424  \n",
       "47             898  \n",
       "49            4951  \n",
       "50            3419  \n",
       "51           19790  \n",
       "53            3780  "
      ]
     },
     "execution_count": 148,
     "metadata": {},
     "output_type": "execute_result"
    }
   ],
   "source": [
    "print(spec_data[spec_data['%Chg']>0].shape[0])\n",
    "spec_data[spec_data['%Chg']>0].sort_values(by='%Chg', ascending=False)"
   ]
  },
  {
   "cell_type": "code",
   "execution_count": null,
   "metadata": {},
   "outputs": [],
   "source": []
  },
  {
   "cell_type": "markdown",
   "metadata": {},
   "source": [
    "#### Specific StockWise Analysis from Money Control"
   ]
  },
  {
   "cell_type": "code",
   "execution_count": 4,
   "metadata": {},
   "outputs": [
    {
     "data": {
      "text/html": [
       "<div>\n",
       "<style scoped>\n",
       "    .dataframe tbody tr th:only-of-type {\n",
       "        vertical-align: middle;\n",
       "    }\n",
       "\n",
       "    .dataframe tbody tr th {\n",
       "        vertical-align: top;\n",
       "    }\n",
       "\n",
       "    .dataframe thead th {\n",
       "        text-align: right;\n",
       "    }\n",
       "</style>\n",
       "<table border=\"1\" class=\"dataframe\">\n",
       "  <thead>\n",
       "    <tr style=\"text-align: right;\">\n",
       "      <th></th>\n",
       "      <th>Company Name</th>\n",
       "      <th>Symbol</th>\n",
       "    </tr>\n",
       "  </thead>\n",
       "  <tbody>\n",
       "    <tr>\n",
       "      <th>0</th>\n",
       "      <td>NAME OF COMPANY</td>\n",
       "      <td>SYMBOL</td>\n",
       "    </tr>\n",
       "    <tr>\n",
       "      <th>1</th>\n",
       "      <td>20 Microns Limited</td>\n",
       "      <td>20MICRONS</td>\n",
       "    </tr>\n",
       "    <tr>\n",
       "      <th>2</th>\n",
       "      <td>21st Century Management Services Limited</td>\n",
       "      <td>21STCENMGM</td>\n",
       "    </tr>\n",
       "    <tr>\n",
       "      <th>3</th>\n",
       "      <td>3i Infotech Limited</td>\n",
       "      <td>3IINFOTECH</td>\n",
       "    </tr>\n",
       "    <tr>\n",
       "      <th>4</th>\n",
       "      <td>3M India Limited</td>\n",
       "      <td>3MINDIA</td>\n",
       "    </tr>\n",
       "    <tr>\n",
       "      <th>...</th>\n",
       "      <td>...</td>\n",
       "      <td>...</td>\n",
       "    </tr>\n",
       "    <tr>\n",
       "      <th>1637</th>\n",
       "      <td>Zodiac JRD- MKJ Limited</td>\n",
       "      <td>ZODJRDMKJ</td>\n",
       "    </tr>\n",
       "    <tr>\n",
       "      <th>1638</th>\n",
       "      <td>Zota Health Care LImited</td>\n",
       "      <td>ZOTA</td>\n",
       "    </tr>\n",
       "    <tr>\n",
       "      <th>1639</th>\n",
       "      <td>Zuari Agro Chemicals Limited</td>\n",
       "      <td>ZUARI</td>\n",
       "    </tr>\n",
       "    <tr>\n",
       "      <th>1640</th>\n",
       "      <td>Zuari Global Limited</td>\n",
       "      <td>ZUARIGLOB</td>\n",
       "    </tr>\n",
       "    <tr>\n",
       "      <th>1641</th>\n",
       "      <td>Zydus Wellness Limited</td>\n",
       "      <td>ZYDUSWELL</td>\n",
       "    </tr>\n",
       "  </tbody>\n",
       "</table>\n",
       "<p>1642 rows × 2 columns</p>\n",
       "</div>"
      ],
      "text/plain": [
       "                                  Company Name      Symbol\n",
       "0                              NAME OF COMPANY      SYMBOL\n",
       "1                           20 Microns Limited   20MICRONS\n",
       "2     21st Century Management Services Limited  21STCENMGM\n",
       "3                          3i Infotech Limited  3IINFOTECH\n",
       "4                             3M India Limited     3MINDIA\n",
       "...                                        ...         ...\n",
       "1637                   Zodiac JRD- MKJ Limited   ZODJRDMKJ\n",
       "1638                  Zota Health Care LImited        ZOTA\n",
       "1639              Zuari Agro Chemicals Limited       ZUARI\n",
       "1640                      Zuari Global Limited   ZUARIGLOB\n",
       "1641                    Zydus Wellness Limited   ZYDUSWELL\n",
       "\n",
       "[1642 rows x 2 columns]"
      ]
     },
     "execution_count": 4,
     "metadata": {},
     "output_type": "execute_result"
    }
   ],
   "source": [
    "url_com='https://indiancompanies.in/listed-companies-in-nse-with-symbol/'\n",
    "result=pd.read_html(url_com)\n",
    "com_sym=((result[0])[[1,2]]).rename(columns={1:'Company Name',2:'Symbol'})\n",
    "com_sym"
   ]
  },
  {
   "cell_type": "code",
   "execution_count": 5,
   "metadata": {},
   "outputs": [
    {
     "data": {
      "text/html": [
       "<div>\n",
       "<style scoped>\n",
       "    .dataframe tbody tr th:only-of-type {\n",
       "        vertical-align: middle;\n",
       "    }\n",
       "\n",
       "    .dataframe tbody tr th {\n",
       "        vertical-align: top;\n",
       "    }\n",
       "\n",
       "    .dataframe thead th {\n",
       "        text-align: right;\n",
       "    }\n",
       "</style>\n",
       "<table border=\"1\" class=\"dataframe\">\n",
       "  <thead>\n",
       "    <tr style=\"text-align: right;\">\n",
       "      <th></th>\n",
       "      <th>Company Name</th>\n",
       "      <th>Symbol</th>\n",
       "    </tr>\n",
       "  </thead>\n",
       "  <tbody>\n",
       "    <tr>\n",
       "      <th>0</th>\n",
       "      <td>NAME OF COMPANY</td>\n",
       "      <td>SYMBOL</td>\n",
       "    </tr>\n",
       "  </tbody>\n",
       "</table>\n",
       "</div>"
      ],
      "text/plain": [
       "      Company Name  Symbol\n",
       "0  NAME OF COMPANY  SYMBOL"
      ]
     },
     "execution_count": 5,
     "metadata": {},
     "output_type": "execute_result"
    }
   ],
   "source": [
    "com_sym[com_sym['Company Name']=='NAME OF COMPANY']"
   ]
  },
  {
   "cell_type": "code",
   "execution_count": 6,
   "metadata": {},
   "outputs": [],
   "source": [
    "com_sym.drop(com_sym[com_sym['Company Name']=='NAME OF COMPANY'].index,inplace=True)"
   ]
  },
  {
   "cell_type": "code",
   "execution_count": 61,
   "metadata": {},
   "outputs": [
    {
     "name": "stdout",
     "output_type": "stream",
     "text": [
      "Enter Company Name:3M India Limited\n",
      "       Company Name   Symbol\n",
      "4  3M India Limited  3MINDIA\n"
     ]
    }
   ],
   "source": [
    "inp=input('Enter Company Name:')\n",
    "for i in com_sym['Company Name']:\n",
    "    if i==inp:\n",
    "        m=com_sym[com_sym['Company Name']==i]\n",
    "        print(m)      "
   ]
  },
  {
   "cell_type": "code",
   "execution_count": 63,
   "metadata": {},
   "outputs": [
    {
     "name": "stdout",
     "output_type": "stream",
     "text": [
      "Enter the company Name:Reliance\n"
     ]
    },
    {
     "data": {
      "text/html": [
       "<div>\n",
       "<style scoped>\n",
       "    .dataframe tbody tr th:only-of-type {\n",
       "        vertical-align: middle;\n",
       "    }\n",
       "\n",
       "    .dataframe tbody tr th {\n",
       "        vertical-align: top;\n",
       "    }\n",
       "\n",
       "    .dataframe thead th {\n",
       "        text-align: right;\n",
       "    }\n",
       "</style>\n",
       "<table border=\"1\" class=\"dataframe\">\n",
       "  <thead>\n",
       "    <tr style=\"text-align: right;\">\n",
       "      <th></th>\n",
       "      <th>Company Name</th>\n",
       "      <th>Symbol</th>\n",
       "    </tr>\n",
       "  </thead>\n",
       "  <tbody>\n",
       "    <tr>\n",
       "      <th>1190</th>\n",
       "      <td>Reliance Communications Limited</td>\n",
       "      <td>RCOM</td>\n",
       "    </tr>\n",
       "    <tr>\n",
       "      <th>1196</th>\n",
       "      <td>Reliance Capital Limited</td>\n",
       "      <td>RELCAPITAL</td>\n",
       "    </tr>\n",
       "    <tr>\n",
       "      <th>1197</th>\n",
       "      <td>Reliance Industries Limited</td>\n",
       "      <td>RELIANCE</td>\n",
       "    </tr>\n",
       "    <tr>\n",
       "      <th>1199</th>\n",
       "      <td>Reliance Infrastructure Limited</td>\n",
       "      <td>RELINFRA</td>\n",
       "    </tr>\n",
       "    <tr>\n",
       "      <th>1207</th>\n",
       "      <td>Reliance Home Finance Limited</td>\n",
       "      <td>RHFL</td>\n",
       "    </tr>\n",
       "    <tr>\n",
       "      <th>1209</th>\n",
       "      <td>Reliance Industrial Infrastructure Limited</td>\n",
       "      <td>RIIL</td>\n",
       "    </tr>\n",
       "    <tr>\n",
       "      <th>1215</th>\n",
       "      <td>Reliance Nippon Life Asset Management Limited</td>\n",
       "      <td>RNAM</td>\n",
       "    </tr>\n",
       "    <tr>\n",
       "      <th>1216</th>\n",
       "      <td>Reliance Naval and Engineering Limited</td>\n",
       "      <td>RNAVAL</td>\n",
       "    </tr>\n",
       "    <tr>\n",
       "      <th>1223</th>\n",
       "      <td>Reliance Power Limited</td>\n",
       "      <td>RPOWER</td>\n",
       "    </tr>\n",
       "  </tbody>\n",
       "</table>\n",
       "</div>"
      ],
      "text/plain": [
       "                                       Company Name      Symbol\n",
       "1190                Reliance Communications Limited        RCOM\n",
       "1196                       Reliance Capital Limited  RELCAPITAL\n",
       "1197                    Reliance Industries Limited    RELIANCE\n",
       "1199                Reliance Infrastructure Limited    RELINFRA\n",
       "1207                  Reliance Home Finance Limited        RHFL\n",
       "1209     Reliance Industrial Infrastructure Limited        RIIL\n",
       "1215  Reliance Nippon Life Asset Management Limited        RNAM\n",
       "1216         Reliance Naval and Engineering Limited      RNAVAL\n",
       "1223                         Reliance Power Limited      RPOWER"
      ]
     },
     "execution_count": 63,
     "metadata": {},
     "output_type": "execute_result"
    }
   ],
   "source": [
    "inp=input('Enter the company Name:')\n",
    "com_sym[com_sym['Company Name'].str.contains(inp)]"
   ]
  },
  {
   "cell_type": "markdown",
   "metadata": {},
   "source": [
    "# Day by Day Analysis of stock:"
   ]
  },
  {
   "cell_type": "code",
   "execution_count": 184,
   "metadata": {},
   "outputs": [
    {
     "data": {
      "text/html": [
       "<div>\n",
       "<style scoped>\n",
       "    .dataframe tbody tr th:only-of-type {\n",
       "        vertical-align: middle;\n",
       "    }\n",
       "\n",
       "    .dataframe tbody tr th {\n",
       "        vertical-align: top;\n",
       "    }\n",
       "\n",
       "    .dataframe thead th {\n",
       "        text-align: right;\n",
       "    }\n",
       "</style>\n",
       "<table border=\"1\" class=\"dataframe\">\n",
       "  <thead>\n",
       "    <tr style=\"text-align: right;\">\n",
       "      <th></th>\n",
       "      <th>Symbol</th>\n",
       "      <th>Prev Close</th>\n",
       "      <th>Open</th>\n",
       "      <th>High</th>\n",
       "      <th>Low</th>\n",
       "      <th>Close</th>\n",
       "      <th>VWAP</th>\n",
       "      <th>Volume</th>\n",
       "      <th>Trades</th>\n",
       "      <th>Date</th>\n",
       "      <th>Day_Number_of_Month</th>\n",
       "      <th>Month_Name</th>\n",
       "      <th>Month</th>\n",
       "      <th>Year</th>\n",
       "    </tr>\n",
       "    <tr>\n",
       "      <th>Serial Number</th>\n",
       "      <th></th>\n",
       "      <th></th>\n",
       "      <th></th>\n",
       "      <th></th>\n",
       "      <th></th>\n",
       "      <th></th>\n",
       "      <th></th>\n",
       "      <th></th>\n",
       "      <th></th>\n",
       "      <th></th>\n",
       "      <th></th>\n",
       "      <th></th>\n",
       "      <th></th>\n",
       "      <th></th>\n",
       "    </tr>\n",
       "  </thead>\n",
       "  <tbody>\n",
       "    <tr>\n",
       "      <th>0</th>\n",
       "      <td>AMBUJACEM</td>\n",
       "      <td>217.00</td>\n",
       "      <td>218.50</td>\n",
       "      <td>221.95</td>\n",
       "      <td>217.55</td>\n",
       "      <td>221.20</td>\n",
       "      <td>220.32</td>\n",
       "      <td>3358699</td>\n",
       "      <td>31667</td>\n",
       "      <td>2020-10-01</td>\n",
       "      <td>1</td>\n",
       "      <td>Oct</td>\n",
       "      <td>10</td>\n",
       "      <td>2020</td>\n",
       "    </tr>\n",
       "    <tr>\n",
       "      <th>1</th>\n",
       "      <td>AMBUJACEM</td>\n",
       "      <td>221.20</td>\n",
       "      <td>221.20</td>\n",
       "      <td>224.20</td>\n",
       "      <td>219.45</td>\n",
       "      <td>221.35</td>\n",
       "      <td>221.39</td>\n",
       "      <td>3259420</td>\n",
       "      <td>33828</td>\n",
       "      <td>2020-10-05</td>\n",
       "      <td>5</td>\n",
       "      <td>Oct</td>\n",
       "      <td>10</td>\n",
       "      <td>2020</td>\n",
       "    </tr>\n",
       "    <tr>\n",
       "      <th>2</th>\n",
       "      <td>AMBUJACEM</td>\n",
       "      <td>221.35</td>\n",
       "      <td>222.95</td>\n",
       "      <td>227.75</td>\n",
       "      <td>220.10</td>\n",
       "      <td>225.30</td>\n",
       "      <td>223.04</td>\n",
       "      <td>4929361</td>\n",
       "      <td>66393</td>\n",
       "      <td>2020-10-06</td>\n",
       "      <td>6</td>\n",
       "      <td>Oct</td>\n",
       "      <td>10</td>\n",
       "      <td>2020</td>\n",
       "    </tr>\n",
       "    <tr>\n",
       "      <th>3</th>\n",
       "      <td>AMBUJACEM</td>\n",
       "      <td>225.30</td>\n",
       "      <td>226.00</td>\n",
       "      <td>237.75</td>\n",
       "      <td>225.00</td>\n",
       "      <td>234.80</td>\n",
       "      <td>233.77</td>\n",
       "      <td>16914960</td>\n",
       "      <td>126279</td>\n",
       "      <td>2020-10-07</td>\n",
       "      <td>7</td>\n",
       "      <td>Oct</td>\n",
       "      <td>10</td>\n",
       "      <td>2020</td>\n",
       "    </tr>\n",
       "    <tr>\n",
       "      <th>4</th>\n",
       "      <td>AMBUJACEM</td>\n",
       "      <td>234.80</td>\n",
       "      <td>234.80</td>\n",
       "      <td>239.95</td>\n",
       "      <td>231.40</td>\n",
       "      <td>238.15</td>\n",
       "      <td>235.51</td>\n",
       "      <td>8142299</td>\n",
       "      <td>60297</td>\n",
       "      <td>2020-10-08</td>\n",
       "      <td>8</td>\n",
       "      <td>Oct</td>\n",
       "      <td>10</td>\n",
       "      <td>2020</td>\n",
       "    </tr>\n",
       "  </tbody>\n",
       "</table>\n",
       "</div>"
      ],
      "text/plain": [
       "                  Symbol  Prev Close    Open    High     Low   Close    VWAP  \\\n",
       "Serial Number                                                                  \n",
       "0              AMBUJACEM      217.00  218.50  221.95  217.55  221.20  220.32   \n",
       "1              AMBUJACEM      221.20  221.20  224.20  219.45  221.35  221.39   \n",
       "2              AMBUJACEM      221.35  222.95  227.75  220.10  225.30  223.04   \n",
       "3              AMBUJACEM      225.30  226.00  237.75  225.00  234.80  233.77   \n",
       "4              AMBUJACEM      234.80  234.80  239.95  231.40  238.15  235.51   \n",
       "\n",
       "                 Volume  Trades        Date  Day_Number_of_Month Month_Name  \\\n",
       "Serial Number                                                                 \n",
       "0               3358699   31667  2020-10-01                    1        Oct   \n",
       "1               3259420   33828  2020-10-05                    5        Oct   \n",
       "2               4929361   66393  2020-10-06                    6        Oct   \n",
       "3              16914960  126279  2020-10-07                    7        Oct   \n",
       "4               8142299   60297  2020-10-08                    8        Oct   \n",
       "\n",
       "               Month  Year  \n",
       "Serial Number               \n",
       "0                 10  2020  \n",
       "1                 10  2020  \n",
       "2                 10  2020  \n",
       "3                 10  2020  \n",
       "4                 10  2020  "
      ]
     },
     "execution_count": 184,
     "metadata": {},
     "output_type": "execute_result"
    }
   ],
   "source": [
    "df.head()"
   ]
  },
  {
   "cell_type": "code",
   "execution_count": null,
   "metadata": {},
   "outputs": [],
   "source": [
    "v=df1['Open']\n",
    "w=df1['Low']\n",
    "x=df1.index\n",
    "y=df1['VWAP']\n",
    "z=df1['High']\n",
    "\n",
    "plt.figure(figsize=(15, 10))\n",
    "plt.grid(axis='both')\n",
    "plt.title('Analysis of Stock (Prices)')\n",
    "\n",
    "plt.bar(x,v, color='g', label='Opening Price', linewidth=5)#Avg opening value of stock during month (in green)\n",
    "plt.plot(x,w ,color='r',label='Lowest Value during month')#Lowest value during month (in red)\n",
    "plt.plot(x,y, '-X',color='cyan',label='Avg value during Month' )#Average value of stock in month (in cyan)\n",
    "plt.plot(x,z ,color='navy',label='Highest Value in Month');#Highest value during month (in navy blue)\n",
    "plt.legend()\n",
    "\n",
    "plt.xlabel('Months', fontsize=15);\n",
    "plt.ylabel('Price of Stock', fontsize=15);\n",
    "\n",
    "plt.rcParams.update({'font.size': 15})\n",
    "\n",
    "\n",
    "\n"
   ]
  },
  {
   "cell_type": "code",
   "execution_count": 217,
   "metadata": {},
   "outputs": [
    {
     "data": {
      "application/vnd.plotly.v1+json": {
       "config": {
        "plotlyServerURL": "https://plot.ly"
       },
       "data": [
        {
         "hovertemplate": "variable=Open<br>Day_Number_of_Month=%{x}<br>value=%{y}<extra></extra>",
         "legendgroup": "Open",
         "line": {
          "color": "#636efa",
          "dash": "solid"
         },
         "mode": "lines",
         "name": "Open",
         "orientation": "v",
         "showlegend": true,
         "type": "scatter",
         "x": [
          1,
          5,
          6,
          7,
          8,
          9,
          12,
          13,
          14,
          15,
          16,
          19,
          20,
          21,
          22,
          23,
          26,
          27,
          28,
          29,
          30
         ],
         "xaxis": "x",
         "y": [
          218.5,
          221.2,
          222.95,
          226,
          234.8,
          236.55,
          238,
          237,
          241.95,
          248,
          243.3,
          249.2,
          249.9,
          251.9,
          253,
          255.5,
          248.7,
          245.05,
          253.85,
          250.5,
          254.85
         ],
         "yaxis": "y"
        },
        {
         "hovertemplate": "variable=Prev Close<br>Day_Number_of_Month=%{x}<br>value=%{y}<extra></extra>",
         "legendgroup": "Prev Close",
         "line": {
          "color": "#EF553B",
          "dash": "solid"
         },
         "mode": "lines",
         "name": "Prev Close",
         "orientation": "v",
         "showlegend": true,
         "type": "scatter",
         "x": [
          1,
          5,
          6,
          7,
          8,
          9,
          12,
          13,
          14,
          15,
          16,
          19,
          20,
          21,
          22,
          23,
          26,
          27,
          28,
          29,
          30
         ],
         "xaxis": "x",
         "y": [
          217,
          221.2,
          221.35,
          225.3,
          234.8,
          238.15,
          239.35,
          238.4,
          241.75,
          246.6,
          243.35,
          248,
          247.6,
          251.45,
          253.35,
          253.6,
          247.4,
          245.05,
          255.85,
          251.8,
          254
         ],
         "yaxis": "y"
        },
        {
         "hovertemplate": "variable=Close<br>Day_Number_of_Month=%{x}<br>value=%{y}<extra></extra>",
         "legendgroup": "Close",
         "line": {
          "color": "#00cc96",
          "dash": "solid"
         },
         "mode": "lines",
         "name": "Close",
         "orientation": "v",
         "showlegend": true,
         "type": "scatter",
         "x": [
          1,
          5,
          6,
          7,
          8,
          9,
          12,
          13,
          14,
          15,
          16,
          19,
          20,
          21,
          22,
          23,
          26,
          27,
          28,
          29,
          30
         ],
         "xaxis": "x",
         "y": [
          221.2,
          221.35,
          225.3,
          234.8,
          238.15,
          239.35,
          238.4,
          241.75,
          246.6,
          243.35,
          248,
          247.6,
          251.45,
          253.35,
          253.6,
          247.4,
          245.05,
          255.85,
          251.8,
          254,
          259.7
         ],
         "yaxis": "y"
        }
       ],
       "layout": {
        "hoverdistance": 1,
        "legend": {
         "title": {
          "text": "variable"
         },
         "tracegroupgap": 0
        },
        "spikedistance": 500,
        "template": {
         "data": {
          "bar": [
           {
            "error_x": {
             "color": "#2a3f5f"
            },
            "error_y": {
             "color": "#2a3f5f"
            },
            "marker": {
             "line": {
              "color": "#E5ECF6",
              "width": 0.5
             }
            },
            "type": "bar"
           }
          ],
          "barpolar": [
           {
            "marker": {
             "line": {
              "color": "#E5ECF6",
              "width": 0.5
             }
            },
            "type": "barpolar"
           }
          ],
          "carpet": [
           {
            "aaxis": {
             "endlinecolor": "#2a3f5f",
             "gridcolor": "white",
             "linecolor": "white",
             "minorgridcolor": "white",
             "startlinecolor": "#2a3f5f"
            },
            "baxis": {
             "endlinecolor": "#2a3f5f",
             "gridcolor": "white",
             "linecolor": "white",
             "minorgridcolor": "white",
             "startlinecolor": "#2a3f5f"
            },
            "type": "carpet"
           }
          ],
          "choropleth": [
           {
            "colorbar": {
             "outlinewidth": 0,
             "ticks": ""
            },
            "type": "choropleth"
           }
          ],
          "contour": [
           {
            "colorbar": {
             "outlinewidth": 0,
             "ticks": ""
            },
            "colorscale": [
             [
              0,
              "#0d0887"
             ],
             [
              0.1111111111111111,
              "#46039f"
             ],
             [
              0.2222222222222222,
              "#7201a8"
             ],
             [
              0.3333333333333333,
              "#9c179e"
             ],
             [
              0.4444444444444444,
              "#bd3786"
             ],
             [
              0.5555555555555556,
              "#d8576b"
             ],
             [
              0.6666666666666666,
              "#ed7953"
             ],
             [
              0.7777777777777778,
              "#fb9f3a"
             ],
             [
              0.8888888888888888,
              "#fdca26"
             ],
             [
              1,
              "#f0f921"
             ]
            ],
            "type": "contour"
           }
          ],
          "contourcarpet": [
           {
            "colorbar": {
             "outlinewidth": 0,
             "ticks": ""
            },
            "type": "contourcarpet"
           }
          ],
          "heatmap": [
           {
            "colorbar": {
             "outlinewidth": 0,
             "ticks": ""
            },
            "colorscale": [
             [
              0,
              "#0d0887"
             ],
             [
              0.1111111111111111,
              "#46039f"
             ],
             [
              0.2222222222222222,
              "#7201a8"
             ],
             [
              0.3333333333333333,
              "#9c179e"
             ],
             [
              0.4444444444444444,
              "#bd3786"
             ],
             [
              0.5555555555555556,
              "#d8576b"
             ],
             [
              0.6666666666666666,
              "#ed7953"
             ],
             [
              0.7777777777777778,
              "#fb9f3a"
             ],
             [
              0.8888888888888888,
              "#fdca26"
             ],
             [
              1,
              "#f0f921"
             ]
            ],
            "type": "heatmap"
           }
          ],
          "heatmapgl": [
           {
            "colorbar": {
             "outlinewidth": 0,
             "ticks": ""
            },
            "colorscale": [
             [
              0,
              "#0d0887"
             ],
             [
              0.1111111111111111,
              "#46039f"
             ],
             [
              0.2222222222222222,
              "#7201a8"
             ],
             [
              0.3333333333333333,
              "#9c179e"
             ],
             [
              0.4444444444444444,
              "#bd3786"
             ],
             [
              0.5555555555555556,
              "#d8576b"
             ],
             [
              0.6666666666666666,
              "#ed7953"
             ],
             [
              0.7777777777777778,
              "#fb9f3a"
             ],
             [
              0.8888888888888888,
              "#fdca26"
             ],
             [
              1,
              "#f0f921"
             ]
            ],
            "type": "heatmapgl"
           }
          ],
          "histogram": [
           {
            "marker": {
             "colorbar": {
              "outlinewidth": 0,
              "ticks": ""
             }
            },
            "type": "histogram"
           }
          ],
          "histogram2d": [
           {
            "colorbar": {
             "outlinewidth": 0,
             "ticks": ""
            },
            "colorscale": [
             [
              0,
              "#0d0887"
             ],
             [
              0.1111111111111111,
              "#46039f"
             ],
             [
              0.2222222222222222,
              "#7201a8"
             ],
             [
              0.3333333333333333,
              "#9c179e"
             ],
             [
              0.4444444444444444,
              "#bd3786"
             ],
             [
              0.5555555555555556,
              "#d8576b"
             ],
             [
              0.6666666666666666,
              "#ed7953"
             ],
             [
              0.7777777777777778,
              "#fb9f3a"
             ],
             [
              0.8888888888888888,
              "#fdca26"
             ],
             [
              1,
              "#f0f921"
             ]
            ],
            "type": "histogram2d"
           }
          ],
          "histogram2dcontour": [
           {
            "colorbar": {
             "outlinewidth": 0,
             "ticks": ""
            },
            "colorscale": [
             [
              0,
              "#0d0887"
             ],
             [
              0.1111111111111111,
              "#46039f"
             ],
             [
              0.2222222222222222,
              "#7201a8"
             ],
             [
              0.3333333333333333,
              "#9c179e"
             ],
             [
              0.4444444444444444,
              "#bd3786"
             ],
             [
              0.5555555555555556,
              "#d8576b"
             ],
             [
              0.6666666666666666,
              "#ed7953"
             ],
             [
              0.7777777777777778,
              "#fb9f3a"
             ],
             [
              0.8888888888888888,
              "#fdca26"
             ],
             [
              1,
              "#f0f921"
             ]
            ],
            "type": "histogram2dcontour"
           }
          ],
          "mesh3d": [
           {
            "colorbar": {
             "outlinewidth": 0,
             "ticks": ""
            },
            "type": "mesh3d"
           }
          ],
          "parcoords": [
           {
            "line": {
             "colorbar": {
              "outlinewidth": 0,
              "ticks": ""
             }
            },
            "type": "parcoords"
           }
          ],
          "pie": [
           {
            "automargin": true,
            "type": "pie"
           }
          ],
          "scatter": [
           {
            "marker": {
             "colorbar": {
              "outlinewidth": 0,
              "ticks": ""
             }
            },
            "type": "scatter"
           }
          ],
          "scatter3d": [
           {
            "line": {
             "colorbar": {
              "outlinewidth": 0,
              "ticks": ""
             }
            },
            "marker": {
             "colorbar": {
              "outlinewidth": 0,
              "ticks": ""
             }
            },
            "type": "scatter3d"
           }
          ],
          "scattercarpet": [
           {
            "marker": {
             "colorbar": {
              "outlinewidth": 0,
              "ticks": ""
             }
            },
            "type": "scattercarpet"
           }
          ],
          "scattergeo": [
           {
            "marker": {
             "colorbar": {
              "outlinewidth": 0,
              "ticks": ""
             }
            },
            "type": "scattergeo"
           }
          ],
          "scattergl": [
           {
            "marker": {
             "colorbar": {
              "outlinewidth": 0,
              "ticks": ""
             }
            },
            "type": "scattergl"
           }
          ],
          "scattermapbox": [
           {
            "marker": {
             "colorbar": {
              "outlinewidth": 0,
              "ticks": ""
             }
            },
            "type": "scattermapbox"
           }
          ],
          "scatterpolar": [
           {
            "marker": {
             "colorbar": {
              "outlinewidth": 0,
              "ticks": ""
             }
            },
            "type": "scatterpolar"
           }
          ],
          "scatterpolargl": [
           {
            "marker": {
             "colorbar": {
              "outlinewidth": 0,
              "ticks": ""
             }
            },
            "type": "scatterpolargl"
           }
          ],
          "scatterternary": [
           {
            "marker": {
             "colorbar": {
              "outlinewidth": 0,
              "ticks": ""
             }
            },
            "type": "scatterternary"
           }
          ],
          "surface": [
           {
            "colorbar": {
             "outlinewidth": 0,
             "ticks": ""
            },
            "colorscale": [
             [
              0,
              "#0d0887"
             ],
             [
              0.1111111111111111,
              "#46039f"
             ],
             [
              0.2222222222222222,
              "#7201a8"
             ],
             [
              0.3333333333333333,
              "#9c179e"
             ],
             [
              0.4444444444444444,
              "#bd3786"
             ],
             [
              0.5555555555555556,
              "#d8576b"
             ],
             [
              0.6666666666666666,
              "#ed7953"
             ],
             [
              0.7777777777777778,
              "#fb9f3a"
             ],
             [
              0.8888888888888888,
              "#fdca26"
             ],
             [
              1,
              "#f0f921"
             ]
            ],
            "type": "surface"
           }
          ],
          "table": [
           {
            "cells": {
             "fill": {
              "color": "#EBF0F8"
             },
             "line": {
              "color": "white"
             }
            },
            "header": {
             "fill": {
              "color": "#C8D4E3"
             },
             "line": {
              "color": "white"
             }
            },
            "type": "table"
           }
          ]
         },
         "layout": {
          "annotationdefaults": {
           "arrowcolor": "#2a3f5f",
           "arrowhead": 0,
           "arrowwidth": 1
          },
          "coloraxis": {
           "colorbar": {
            "outlinewidth": 0,
            "ticks": ""
           }
          },
          "colorscale": {
           "diverging": [
            [
             0,
             "#8e0152"
            ],
            [
             0.1,
             "#c51b7d"
            ],
            [
             0.2,
             "#de77ae"
            ],
            [
             0.3,
             "#f1b6da"
            ],
            [
             0.4,
             "#fde0ef"
            ],
            [
             0.5,
             "#f7f7f7"
            ],
            [
             0.6,
             "#e6f5d0"
            ],
            [
             0.7,
             "#b8e186"
            ],
            [
             0.8,
             "#7fbc41"
            ],
            [
             0.9,
             "#4d9221"
            ],
            [
             1,
             "#276419"
            ]
           ],
           "sequential": [
            [
             0,
             "#0d0887"
            ],
            [
             0.1111111111111111,
             "#46039f"
            ],
            [
             0.2222222222222222,
             "#7201a8"
            ],
            [
             0.3333333333333333,
             "#9c179e"
            ],
            [
             0.4444444444444444,
             "#bd3786"
            ],
            [
             0.5555555555555556,
             "#d8576b"
            ],
            [
             0.6666666666666666,
             "#ed7953"
            ],
            [
             0.7777777777777778,
             "#fb9f3a"
            ],
            [
             0.8888888888888888,
             "#fdca26"
            ],
            [
             1,
             "#f0f921"
            ]
           ],
           "sequentialminus": [
            [
             0,
             "#0d0887"
            ],
            [
             0.1111111111111111,
             "#46039f"
            ],
            [
             0.2222222222222222,
             "#7201a8"
            ],
            [
             0.3333333333333333,
             "#9c179e"
            ],
            [
             0.4444444444444444,
             "#bd3786"
            ],
            [
             0.5555555555555556,
             "#d8576b"
            ],
            [
             0.6666666666666666,
             "#ed7953"
            ],
            [
             0.7777777777777778,
             "#fb9f3a"
            ],
            [
             0.8888888888888888,
             "#fdca26"
            ],
            [
             1,
             "#f0f921"
            ]
           ]
          },
          "colorway": [
           "#636efa",
           "#EF553B",
           "#00cc96",
           "#ab63fa",
           "#FFA15A",
           "#19d3f3",
           "#FF6692",
           "#B6E880",
           "#FF97FF",
           "#FECB52"
          ],
          "font": {
           "color": "#2a3f5f"
          },
          "geo": {
           "bgcolor": "white",
           "lakecolor": "white",
           "landcolor": "#E5ECF6",
           "showlakes": true,
           "showland": true,
           "subunitcolor": "white"
          },
          "hoverlabel": {
           "align": "left"
          },
          "hovermode": "closest",
          "mapbox": {
           "style": "light"
          },
          "paper_bgcolor": "white",
          "plot_bgcolor": "#E5ECF6",
          "polar": {
           "angularaxis": {
            "gridcolor": "white",
            "linecolor": "white",
            "ticks": ""
           },
           "bgcolor": "#E5ECF6",
           "radialaxis": {
            "gridcolor": "white",
            "linecolor": "white",
            "ticks": ""
           }
          },
          "scene": {
           "xaxis": {
            "backgroundcolor": "#E5ECF6",
            "gridcolor": "white",
            "gridwidth": 2,
            "linecolor": "white",
            "showbackground": true,
            "ticks": "",
            "zerolinecolor": "white"
           },
           "yaxis": {
            "backgroundcolor": "#E5ECF6",
            "gridcolor": "white",
            "gridwidth": 2,
            "linecolor": "white",
            "showbackground": true,
            "ticks": "",
            "zerolinecolor": "white"
           },
           "zaxis": {
            "backgroundcolor": "#E5ECF6",
            "gridcolor": "white",
            "gridwidth": 2,
            "linecolor": "white",
            "showbackground": true,
            "ticks": "",
            "zerolinecolor": "white"
           }
          },
          "shapedefaults": {
           "line": {
            "color": "#2a3f5f"
           }
          },
          "ternary": {
           "aaxis": {
            "gridcolor": "white",
            "linecolor": "white",
            "ticks": ""
           },
           "baxis": {
            "gridcolor": "white",
            "linecolor": "white",
            "ticks": ""
           },
           "bgcolor": "#E5ECF6",
           "caxis": {
            "gridcolor": "white",
            "linecolor": "white",
            "ticks": ""
           }
          },
          "title": {
           "x": 0.05
          },
          "xaxis": {
           "automargin": true,
           "gridcolor": "white",
           "linecolor": "white",
           "ticks": "",
           "title": {
            "standoff": 15
           },
           "zerolinecolor": "white",
           "zerolinewidth": 2
          },
          "yaxis": {
           "automargin": true,
           "gridcolor": "white",
           "linecolor": "white",
           "ticks": "",
           "title": {
            "standoff": 15
           },
           "zerolinecolor": "white",
           "zerolinewidth": 2
          }
         }
        },
        "title": {
         "text": "Day by Day Analysis of ['AMBUJACEM'] stock for the month of ['Oct']"
        },
        "xaxis": {
         "anchor": "y",
         "domain": [
          0,
          1
         ],
         "dtick": 1,
         "showspikes": true,
         "spikecolor": "black",
         "spikemode": "across",
         "spikesnap": "cursor",
         "spikethickness": 1,
         "title": {
          "text": "Day_Number_of_Month"
         }
        },
        "yaxis": {
         "anchor": "x",
         "domain": [
          0,
          1
         ],
         "showspikes": true,
         "spikecolor": "black",
         "spikethickness": 1,
         "title": {
          "text": "value"
         }
        }
       }
      },
      "text/html": [
       "<div>                            <div id=\"6d5cc288-2d81-460b-a021-3eb52d500a7c\" class=\"plotly-graph-div\" style=\"height:525px; width:100%;\"></div>            <script type=\"text/javascript\">                require([\"plotly\"], function(Plotly) {                    window.PLOTLYENV=window.PLOTLYENV || {};                                    if (document.getElementById(\"6d5cc288-2d81-460b-a021-3eb52d500a7c\")) {                    Plotly.newPlot(                        \"6d5cc288-2d81-460b-a021-3eb52d500a7c\",                        [{\"hovertemplate\": \"variable=Open<br>Day_Number_of_Month=%{x}<br>value=%{y}<extra></extra>\", \"legendgroup\": \"Open\", \"line\": {\"color\": \"#636efa\", \"dash\": \"solid\"}, \"mode\": \"lines\", \"name\": \"Open\", \"orientation\": \"v\", \"showlegend\": true, \"type\": \"scatter\", \"x\": [1, 5, 6, 7, 8, 9, 12, 13, 14, 15, 16, 19, 20, 21, 22, 23, 26, 27, 28, 29, 30], \"xaxis\": \"x\", \"y\": [218.5, 221.2, 222.95, 226.0, 234.8, 236.55, 238.0, 237.0, 241.95, 248.0, 243.3, 249.2, 249.9, 251.9, 253.0, 255.5, 248.7, 245.05, 253.85, 250.5, 254.85], \"yaxis\": \"y\"}, {\"hovertemplate\": \"variable=Prev Close<br>Day_Number_of_Month=%{x}<br>value=%{y}<extra></extra>\", \"legendgroup\": \"Prev Close\", \"line\": {\"color\": \"#EF553B\", \"dash\": \"solid\"}, \"mode\": \"lines\", \"name\": \"Prev Close\", \"orientation\": \"v\", \"showlegend\": true, \"type\": \"scatter\", \"x\": [1, 5, 6, 7, 8, 9, 12, 13, 14, 15, 16, 19, 20, 21, 22, 23, 26, 27, 28, 29, 30], \"xaxis\": \"x\", \"y\": [217.0, 221.2, 221.35, 225.3, 234.8, 238.15, 239.35, 238.4, 241.75, 246.6, 243.35, 248.0, 247.6, 251.45, 253.35, 253.6, 247.4, 245.05, 255.85, 251.8, 254.0], \"yaxis\": \"y\"}, {\"hovertemplate\": \"variable=Close<br>Day_Number_of_Month=%{x}<br>value=%{y}<extra></extra>\", \"legendgroup\": \"Close\", \"line\": {\"color\": \"#00cc96\", \"dash\": \"solid\"}, \"mode\": \"lines\", \"name\": \"Close\", \"orientation\": \"v\", \"showlegend\": true, \"type\": \"scatter\", \"x\": [1, 5, 6, 7, 8, 9, 12, 13, 14, 15, 16, 19, 20, 21, 22, 23, 26, 27, 28, 29, 30], \"xaxis\": \"x\", \"y\": [221.2, 221.35, 225.3, 234.8, 238.15, 239.35, 238.4, 241.75, 246.6, 243.35, 248.0, 247.6, 251.45, 253.35, 253.6, 247.4, 245.05, 255.85, 251.8, 254.0, 259.7], \"yaxis\": \"y\"}],                        {\"hoverdistance\": 1, \"legend\": {\"title\": {\"text\": \"variable\"}, \"tracegroupgap\": 0}, \"spikedistance\": 500, \"template\": {\"data\": {\"bar\": [{\"error_x\": {\"color\": \"#2a3f5f\"}, \"error_y\": {\"color\": \"#2a3f5f\"}, \"marker\": {\"line\": {\"color\": \"#E5ECF6\", \"width\": 0.5}}, \"type\": \"bar\"}], \"barpolar\": [{\"marker\": {\"line\": {\"color\": \"#E5ECF6\", \"width\": 0.5}}, \"type\": \"barpolar\"}], \"carpet\": [{\"aaxis\": {\"endlinecolor\": \"#2a3f5f\", \"gridcolor\": \"white\", \"linecolor\": \"white\", \"minorgridcolor\": \"white\", \"startlinecolor\": \"#2a3f5f\"}, \"baxis\": {\"endlinecolor\": \"#2a3f5f\", \"gridcolor\": \"white\", \"linecolor\": \"white\", \"minorgridcolor\": \"white\", \"startlinecolor\": \"#2a3f5f\"}, \"type\": \"carpet\"}], \"choropleth\": [{\"colorbar\": {\"outlinewidth\": 0, \"ticks\": \"\"}, \"type\": \"choropleth\"}], \"contour\": [{\"colorbar\": {\"outlinewidth\": 0, \"ticks\": \"\"}, \"colorscale\": [[0.0, \"#0d0887\"], [0.1111111111111111, \"#46039f\"], [0.2222222222222222, \"#7201a8\"], [0.3333333333333333, \"#9c179e\"], [0.4444444444444444, \"#bd3786\"], [0.5555555555555556, \"#d8576b\"], [0.6666666666666666, \"#ed7953\"], [0.7777777777777778, \"#fb9f3a\"], [0.8888888888888888, \"#fdca26\"], [1.0, \"#f0f921\"]], \"type\": \"contour\"}], \"contourcarpet\": [{\"colorbar\": {\"outlinewidth\": 0, \"ticks\": \"\"}, \"type\": \"contourcarpet\"}], \"heatmap\": [{\"colorbar\": {\"outlinewidth\": 0, \"ticks\": \"\"}, \"colorscale\": [[0.0, \"#0d0887\"], [0.1111111111111111, \"#46039f\"], [0.2222222222222222, \"#7201a8\"], [0.3333333333333333, \"#9c179e\"], [0.4444444444444444, \"#bd3786\"], [0.5555555555555556, \"#d8576b\"], [0.6666666666666666, \"#ed7953\"], [0.7777777777777778, \"#fb9f3a\"], [0.8888888888888888, \"#fdca26\"], [1.0, \"#f0f921\"]], \"type\": \"heatmap\"}], \"heatmapgl\": [{\"colorbar\": {\"outlinewidth\": 0, \"ticks\": \"\"}, \"colorscale\": [[0.0, \"#0d0887\"], [0.1111111111111111, \"#46039f\"], [0.2222222222222222, \"#7201a8\"], [0.3333333333333333, \"#9c179e\"], [0.4444444444444444, \"#bd3786\"], [0.5555555555555556, \"#d8576b\"], [0.6666666666666666, \"#ed7953\"], [0.7777777777777778, \"#fb9f3a\"], [0.8888888888888888, \"#fdca26\"], [1.0, \"#f0f921\"]], \"type\": \"heatmapgl\"}], \"histogram\": [{\"marker\": {\"colorbar\": {\"outlinewidth\": 0, \"ticks\": \"\"}}, \"type\": \"histogram\"}], \"histogram2d\": [{\"colorbar\": {\"outlinewidth\": 0, \"ticks\": \"\"}, \"colorscale\": [[0.0, \"#0d0887\"], [0.1111111111111111, \"#46039f\"], [0.2222222222222222, \"#7201a8\"], [0.3333333333333333, \"#9c179e\"], [0.4444444444444444, \"#bd3786\"], [0.5555555555555556, \"#d8576b\"], [0.6666666666666666, \"#ed7953\"], [0.7777777777777778, \"#fb9f3a\"], [0.8888888888888888, \"#fdca26\"], [1.0, \"#f0f921\"]], \"type\": \"histogram2d\"}], \"histogram2dcontour\": [{\"colorbar\": {\"outlinewidth\": 0, \"ticks\": \"\"}, \"colorscale\": [[0.0, \"#0d0887\"], [0.1111111111111111, \"#46039f\"], [0.2222222222222222, \"#7201a8\"], [0.3333333333333333, \"#9c179e\"], [0.4444444444444444, \"#bd3786\"], [0.5555555555555556, \"#d8576b\"], [0.6666666666666666, \"#ed7953\"], [0.7777777777777778, \"#fb9f3a\"], [0.8888888888888888, \"#fdca26\"], [1.0, \"#f0f921\"]], \"type\": \"histogram2dcontour\"}], \"mesh3d\": [{\"colorbar\": {\"outlinewidth\": 0, \"ticks\": \"\"}, \"type\": \"mesh3d\"}], \"parcoords\": [{\"line\": {\"colorbar\": {\"outlinewidth\": 0, \"ticks\": \"\"}}, \"type\": \"parcoords\"}], \"pie\": [{\"automargin\": true, \"type\": \"pie\"}], \"scatter\": [{\"marker\": {\"colorbar\": {\"outlinewidth\": 0, \"ticks\": \"\"}}, \"type\": \"scatter\"}], \"scatter3d\": [{\"line\": {\"colorbar\": {\"outlinewidth\": 0, \"ticks\": \"\"}}, \"marker\": {\"colorbar\": {\"outlinewidth\": 0, \"ticks\": \"\"}}, \"type\": \"scatter3d\"}], \"scattercarpet\": [{\"marker\": {\"colorbar\": {\"outlinewidth\": 0, \"ticks\": \"\"}}, \"type\": \"scattercarpet\"}], \"scattergeo\": [{\"marker\": {\"colorbar\": {\"outlinewidth\": 0, \"ticks\": \"\"}}, \"type\": \"scattergeo\"}], \"scattergl\": [{\"marker\": {\"colorbar\": {\"outlinewidth\": 0, \"ticks\": \"\"}}, \"type\": \"scattergl\"}], \"scattermapbox\": [{\"marker\": {\"colorbar\": {\"outlinewidth\": 0, \"ticks\": \"\"}}, \"type\": \"scattermapbox\"}], \"scatterpolar\": [{\"marker\": {\"colorbar\": {\"outlinewidth\": 0, \"ticks\": \"\"}}, \"type\": \"scatterpolar\"}], \"scatterpolargl\": [{\"marker\": {\"colorbar\": {\"outlinewidth\": 0, \"ticks\": \"\"}}, \"type\": \"scatterpolargl\"}], \"scatterternary\": [{\"marker\": {\"colorbar\": {\"outlinewidth\": 0, \"ticks\": \"\"}}, \"type\": \"scatterternary\"}], \"surface\": [{\"colorbar\": {\"outlinewidth\": 0, \"ticks\": \"\"}, \"colorscale\": [[0.0, \"#0d0887\"], [0.1111111111111111, \"#46039f\"], [0.2222222222222222, \"#7201a8\"], [0.3333333333333333, \"#9c179e\"], [0.4444444444444444, \"#bd3786\"], [0.5555555555555556, \"#d8576b\"], [0.6666666666666666, \"#ed7953\"], [0.7777777777777778, \"#fb9f3a\"], [0.8888888888888888, \"#fdca26\"], [1.0, \"#f0f921\"]], \"type\": \"surface\"}], \"table\": [{\"cells\": {\"fill\": {\"color\": \"#EBF0F8\"}, \"line\": {\"color\": \"white\"}}, \"header\": {\"fill\": {\"color\": \"#C8D4E3\"}, \"line\": {\"color\": \"white\"}}, \"type\": \"table\"}]}, \"layout\": {\"annotationdefaults\": {\"arrowcolor\": \"#2a3f5f\", \"arrowhead\": 0, \"arrowwidth\": 1}, \"coloraxis\": {\"colorbar\": {\"outlinewidth\": 0, \"ticks\": \"\"}}, \"colorscale\": {\"diverging\": [[0, \"#8e0152\"], [0.1, \"#c51b7d\"], [0.2, \"#de77ae\"], [0.3, \"#f1b6da\"], [0.4, \"#fde0ef\"], [0.5, \"#f7f7f7\"], [0.6, \"#e6f5d0\"], [0.7, \"#b8e186\"], [0.8, \"#7fbc41\"], [0.9, \"#4d9221\"], [1, \"#276419\"]], \"sequential\": [[0.0, \"#0d0887\"], [0.1111111111111111, \"#46039f\"], [0.2222222222222222, \"#7201a8\"], [0.3333333333333333, \"#9c179e\"], [0.4444444444444444, \"#bd3786\"], [0.5555555555555556, \"#d8576b\"], [0.6666666666666666, \"#ed7953\"], [0.7777777777777778, \"#fb9f3a\"], [0.8888888888888888, \"#fdca26\"], [1.0, \"#f0f921\"]], \"sequentialminus\": [[0.0, \"#0d0887\"], [0.1111111111111111, \"#46039f\"], [0.2222222222222222, \"#7201a8\"], [0.3333333333333333, \"#9c179e\"], [0.4444444444444444, \"#bd3786\"], [0.5555555555555556, \"#d8576b\"], [0.6666666666666666, \"#ed7953\"], [0.7777777777777778, \"#fb9f3a\"], [0.8888888888888888, \"#fdca26\"], [1.0, \"#f0f921\"]]}, \"colorway\": [\"#636efa\", \"#EF553B\", \"#00cc96\", \"#ab63fa\", \"#FFA15A\", \"#19d3f3\", \"#FF6692\", \"#B6E880\", \"#FF97FF\", \"#FECB52\"], \"font\": {\"color\": \"#2a3f5f\"}, \"geo\": {\"bgcolor\": \"white\", \"lakecolor\": \"white\", \"landcolor\": \"#E5ECF6\", \"showlakes\": true, \"showland\": true, \"subunitcolor\": \"white\"}, \"hoverlabel\": {\"align\": \"left\"}, \"hovermode\": \"closest\", \"mapbox\": {\"style\": \"light\"}, \"paper_bgcolor\": \"white\", \"plot_bgcolor\": \"#E5ECF6\", \"polar\": {\"angularaxis\": {\"gridcolor\": \"white\", \"linecolor\": \"white\", \"ticks\": \"\"}, \"bgcolor\": \"#E5ECF6\", \"radialaxis\": {\"gridcolor\": \"white\", \"linecolor\": \"white\", \"ticks\": \"\"}}, \"scene\": {\"xaxis\": {\"backgroundcolor\": \"#E5ECF6\", \"gridcolor\": \"white\", \"gridwidth\": 2, \"linecolor\": \"white\", \"showbackground\": true, \"ticks\": \"\", \"zerolinecolor\": \"white\"}, \"yaxis\": {\"backgroundcolor\": \"#E5ECF6\", \"gridcolor\": \"white\", \"gridwidth\": 2, \"linecolor\": \"white\", \"showbackground\": true, \"ticks\": \"\", \"zerolinecolor\": \"white\"}, \"zaxis\": {\"backgroundcolor\": \"#E5ECF6\", \"gridcolor\": \"white\", \"gridwidth\": 2, \"linecolor\": \"white\", \"showbackground\": true, \"ticks\": \"\", \"zerolinecolor\": \"white\"}}, \"shapedefaults\": {\"line\": {\"color\": \"#2a3f5f\"}}, \"ternary\": {\"aaxis\": {\"gridcolor\": \"white\", \"linecolor\": \"white\", \"ticks\": \"\"}, \"baxis\": {\"gridcolor\": \"white\", \"linecolor\": \"white\", \"ticks\": \"\"}, \"bgcolor\": \"#E5ECF6\", \"caxis\": {\"gridcolor\": \"white\", \"linecolor\": \"white\", \"ticks\": \"\"}}, \"title\": {\"x\": 0.05}, \"xaxis\": {\"automargin\": true, \"gridcolor\": \"white\", \"linecolor\": \"white\", \"ticks\": \"\", \"title\": {\"standoff\": 15}, \"zerolinecolor\": \"white\", \"zerolinewidth\": 2}, \"yaxis\": {\"automargin\": true, \"gridcolor\": \"white\", \"linecolor\": \"white\", \"ticks\": \"\", \"title\": {\"standoff\": 15}, \"zerolinecolor\": \"white\", \"zerolinewidth\": 2}}}, \"title\": {\"text\": \"Day by Day Analysis of ['AMBUJACEM'] stock for the month of ['Oct']\"}, \"xaxis\": {\"anchor\": \"y\", \"domain\": [0.0, 1.0], \"dtick\": 1, \"showspikes\": true, \"spikecolor\": \"black\", \"spikemode\": \"across\", \"spikesnap\": \"cursor\", \"spikethickness\": 1, \"title\": {\"text\": \"Day_Number_of_Month\"}}, \"yaxis\": {\"anchor\": \"x\", \"domain\": [0.0, 1.0], \"showspikes\": true, \"spikecolor\": \"black\", \"spikethickness\": 1, \"title\": {\"text\": \"value\"}}},                        {\"responsive\": true}                    ).then(function(){\n",
       "                            \n",
       "var gd = document.getElementById('6d5cc288-2d81-460b-a021-3eb52d500a7c');\n",
       "var x = new MutationObserver(function (mutations, observer) {{\n",
       "        var display = window.getComputedStyle(gd).display;\n",
       "        if (!display || display === 'none') {{\n",
       "            console.log([gd, 'removed!']);\n",
       "            Plotly.purge(gd);\n",
       "            observer.disconnect();\n",
       "        }}\n",
       "}});\n",
       "\n",
       "// Listen for the removal of the full notebook cells\n",
       "var notebookContainer = gd.closest('#notebook-container');\n",
       "if (notebookContainer) {{\n",
       "    x.observe(notebookContainer, {childList: true});\n",
       "}}\n",
       "\n",
       "// Listen for the clearing of the current output cell\n",
       "var outputEl = gd.closest('.output');\n",
       "if (outputEl) {{\n",
       "    x.observe(outputEl, {childList: true});\n",
       "}}\n",
       "\n",
       "                        })                };                });            </script>        </div>"
      ]
     },
     "metadata": {},
     "output_type": "display_data"
    },
    {
     "data": {
      "application/vnd.plotly.v1+json": {
       "config": {
        "plotlyServerURL": "https://plot.ly"
       },
       "data": [
        {
         "hovertemplate": "variable=High<br>Day_Number_of_Month=%{x}<br>value=%{y}<extra></extra>",
         "legendgroup": "High",
         "line": {
          "color": "#636efa",
          "dash": "solid"
         },
         "mode": "lines",
         "name": "High",
         "orientation": "v",
         "showlegend": true,
         "type": "scatter",
         "x": [
          1,
          5,
          6,
          7,
          8,
          9,
          12,
          13,
          14,
          15,
          16,
          19,
          20,
          21,
          22,
          23,
          26,
          27,
          28,
          29,
          30
         ],
         "xaxis": "x",
         "y": [
          221.95,
          224.2,
          227.75,
          237.75,
          239.95,
          240.55,
          242.35,
          249.35,
          248,
          250,
          249,
          249.7,
          254.9,
          254.3,
          255.6,
          256,
          249,
          257,
          254.7,
          255,
          265.8
         ],
         "yaxis": "y"
        },
        {
         "hovertemplate": "variable=Low<br>Day_Number_of_Month=%{x}<br>value=%{y}<extra></extra>",
         "legendgroup": "Low",
         "line": {
          "color": "#EF553B",
          "dash": "solid"
         },
         "mode": "lines",
         "name": "Low",
         "orientation": "v",
         "showlegend": true,
         "type": "scatter",
         "x": [
          1,
          5,
          6,
          7,
          8,
          9,
          12,
          13,
          14,
          15,
          16,
          19,
          20,
          21,
          22,
          23,
          26,
          27,
          28,
          29,
          30
         ],
         "xaxis": "x",
         "y": [
          217.55,
          219.45,
          220.1,
          225,
          231.4,
          235,
          233.2,
          236.8,
          240.15,
          240.8,
          240.15,
          243.4,
          247.05,
          245.95,
          249.5,
          245,
          242.45,
          243.65,
          250.35,
          248.7,
          252.4
         ],
         "yaxis": "y"
        }
       ],
       "layout": {
        "hoverdistance": 1,
        "legend": {
         "title": {
          "text": "variable"
         },
         "tracegroupgap": 0
        },
        "spikedistance": 500,
        "template": {
         "data": {
          "bar": [
           {
            "error_x": {
             "color": "#2a3f5f"
            },
            "error_y": {
             "color": "#2a3f5f"
            },
            "marker": {
             "line": {
              "color": "#E5ECF6",
              "width": 0.5
             }
            },
            "type": "bar"
           }
          ],
          "barpolar": [
           {
            "marker": {
             "line": {
              "color": "#E5ECF6",
              "width": 0.5
             }
            },
            "type": "barpolar"
           }
          ],
          "carpet": [
           {
            "aaxis": {
             "endlinecolor": "#2a3f5f",
             "gridcolor": "white",
             "linecolor": "white",
             "minorgridcolor": "white",
             "startlinecolor": "#2a3f5f"
            },
            "baxis": {
             "endlinecolor": "#2a3f5f",
             "gridcolor": "white",
             "linecolor": "white",
             "minorgridcolor": "white",
             "startlinecolor": "#2a3f5f"
            },
            "type": "carpet"
           }
          ],
          "choropleth": [
           {
            "colorbar": {
             "outlinewidth": 0,
             "ticks": ""
            },
            "type": "choropleth"
           }
          ],
          "contour": [
           {
            "colorbar": {
             "outlinewidth": 0,
             "ticks": ""
            },
            "colorscale": [
             [
              0,
              "#0d0887"
             ],
             [
              0.1111111111111111,
              "#46039f"
             ],
             [
              0.2222222222222222,
              "#7201a8"
             ],
             [
              0.3333333333333333,
              "#9c179e"
             ],
             [
              0.4444444444444444,
              "#bd3786"
             ],
             [
              0.5555555555555556,
              "#d8576b"
             ],
             [
              0.6666666666666666,
              "#ed7953"
             ],
             [
              0.7777777777777778,
              "#fb9f3a"
             ],
             [
              0.8888888888888888,
              "#fdca26"
             ],
             [
              1,
              "#f0f921"
             ]
            ],
            "type": "contour"
           }
          ],
          "contourcarpet": [
           {
            "colorbar": {
             "outlinewidth": 0,
             "ticks": ""
            },
            "type": "contourcarpet"
           }
          ],
          "heatmap": [
           {
            "colorbar": {
             "outlinewidth": 0,
             "ticks": ""
            },
            "colorscale": [
             [
              0,
              "#0d0887"
             ],
             [
              0.1111111111111111,
              "#46039f"
             ],
             [
              0.2222222222222222,
              "#7201a8"
             ],
             [
              0.3333333333333333,
              "#9c179e"
             ],
             [
              0.4444444444444444,
              "#bd3786"
             ],
             [
              0.5555555555555556,
              "#d8576b"
             ],
             [
              0.6666666666666666,
              "#ed7953"
             ],
             [
              0.7777777777777778,
              "#fb9f3a"
             ],
             [
              0.8888888888888888,
              "#fdca26"
             ],
             [
              1,
              "#f0f921"
             ]
            ],
            "type": "heatmap"
           }
          ],
          "heatmapgl": [
           {
            "colorbar": {
             "outlinewidth": 0,
             "ticks": ""
            },
            "colorscale": [
             [
              0,
              "#0d0887"
             ],
             [
              0.1111111111111111,
              "#46039f"
             ],
             [
              0.2222222222222222,
              "#7201a8"
             ],
             [
              0.3333333333333333,
              "#9c179e"
             ],
             [
              0.4444444444444444,
              "#bd3786"
             ],
             [
              0.5555555555555556,
              "#d8576b"
             ],
             [
              0.6666666666666666,
              "#ed7953"
             ],
             [
              0.7777777777777778,
              "#fb9f3a"
             ],
             [
              0.8888888888888888,
              "#fdca26"
             ],
             [
              1,
              "#f0f921"
             ]
            ],
            "type": "heatmapgl"
           }
          ],
          "histogram": [
           {
            "marker": {
             "colorbar": {
              "outlinewidth": 0,
              "ticks": ""
             }
            },
            "type": "histogram"
           }
          ],
          "histogram2d": [
           {
            "colorbar": {
             "outlinewidth": 0,
             "ticks": ""
            },
            "colorscale": [
             [
              0,
              "#0d0887"
             ],
             [
              0.1111111111111111,
              "#46039f"
             ],
             [
              0.2222222222222222,
              "#7201a8"
             ],
             [
              0.3333333333333333,
              "#9c179e"
             ],
             [
              0.4444444444444444,
              "#bd3786"
             ],
             [
              0.5555555555555556,
              "#d8576b"
             ],
             [
              0.6666666666666666,
              "#ed7953"
             ],
             [
              0.7777777777777778,
              "#fb9f3a"
             ],
             [
              0.8888888888888888,
              "#fdca26"
             ],
             [
              1,
              "#f0f921"
             ]
            ],
            "type": "histogram2d"
           }
          ],
          "histogram2dcontour": [
           {
            "colorbar": {
             "outlinewidth": 0,
             "ticks": ""
            },
            "colorscale": [
             [
              0,
              "#0d0887"
             ],
             [
              0.1111111111111111,
              "#46039f"
             ],
             [
              0.2222222222222222,
              "#7201a8"
             ],
             [
              0.3333333333333333,
              "#9c179e"
             ],
             [
              0.4444444444444444,
              "#bd3786"
             ],
             [
              0.5555555555555556,
              "#d8576b"
             ],
             [
              0.6666666666666666,
              "#ed7953"
             ],
             [
              0.7777777777777778,
              "#fb9f3a"
             ],
             [
              0.8888888888888888,
              "#fdca26"
             ],
             [
              1,
              "#f0f921"
             ]
            ],
            "type": "histogram2dcontour"
           }
          ],
          "mesh3d": [
           {
            "colorbar": {
             "outlinewidth": 0,
             "ticks": ""
            },
            "type": "mesh3d"
           }
          ],
          "parcoords": [
           {
            "line": {
             "colorbar": {
              "outlinewidth": 0,
              "ticks": ""
             }
            },
            "type": "parcoords"
           }
          ],
          "pie": [
           {
            "automargin": true,
            "type": "pie"
           }
          ],
          "scatter": [
           {
            "marker": {
             "colorbar": {
              "outlinewidth": 0,
              "ticks": ""
             }
            },
            "type": "scatter"
           }
          ],
          "scatter3d": [
           {
            "line": {
             "colorbar": {
              "outlinewidth": 0,
              "ticks": ""
             }
            },
            "marker": {
             "colorbar": {
              "outlinewidth": 0,
              "ticks": ""
             }
            },
            "type": "scatter3d"
           }
          ],
          "scattercarpet": [
           {
            "marker": {
             "colorbar": {
              "outlinewidth": 0,
              "ticks": ""
             }
            },
            "type": "scattercarpet"
           }
          ],
          "scattergeo": [
           {
            "marker": {
             "colorbar": {
              "outlinewidth": 0,
              "ticks": ""
             }
            },
            "type": "scattergeo"
           }
          ],
          "scattergl": [
           {
            "marker": {
             "colorbar": {
              "outlinewidth": 0,
              "ticks": ""
             }
            },
            "type": "scattergl"
           }
          ],
          "scattermapbox": [
           {
            "marker": {
             "colorbar": {
              "outlinewidth": 0,
              "ticks": ""
             }
            },
            "type": "scattermapbox"
           }
          ],
          "scatterpolar": [
           {
            "marker": {
             "colorbar": {
              "outlinewidth": 0,
              "ticks": ""
             }
            },
            "type": "scatterpolar"
           }
          ],
          "scatterpolargl": [
           {
            "marker": {
             "colorbar": {
              "outlinewidth": 0,
              "ticks": ""
             }
            },
            "type": "scatterpolargl"
           }
          ],
          "scatterternary": [
           {
            "marker": {
             "colorbar": {
              "outlinewidth": 0,
              "ticks": ""
             }
            },
            "type": "scatterternary"
           }
          ],
          "surface": [
           {
            "colorbar": {
             "outlinewidth": 0,
             "ticks": ""
            },
            "colorscale": [
             [
              0,
              "#0d0887"
             ],
             [
              0.1111111111111111,
              "#46039f"
             ],
             [
              0.2222222222222222,
              "#7201a8"
             ],
             [
              0.3333333333333333,
              "#9c179e"
             ],
             [
              0.4444444444444444,
              "#bd3786"
             ],
             [
              0.5555555555555556,
              "#d8576b"
             ],
             [
              0.6666666666666666,
              "#ed7953"
             ],
             [
              0.7777777777777778,
              "#fb9f3a"
             ],
             [
              0.8888888888888888,
              "#fdca26"
             ],
             [
              1,
              "#f0f921"
             ]
            ],
            "type": "surface"
           }
          ],
          "table": [
           {
            "cells": {
             "fill": {
              "color": "#EBF0F8"
             },
             "line": {
              "color": "white"
             }
            },
            "header": {
             "fill": {
              "color": "#C8D4E3"
             },
             "line": {
              "color": "white"
             }
            },
            "type": "table"
           }
          ]
         },
         "layout": {
          "annotationdefaults": {
           "arrowcolor": "#2a3f5f",
           "arrowhead": 0,
           "arrowwidth": 1
          },
          "coloraxis": {
           "colorbar": {
            "outlinewidth": 0,
            "ticks": ""
           }
          },
          "colorscale": {
           "diverging": [
            [
             0,
             "#8e0152"
            ],
            [
             0.1,
             "#c51b7d"
            ],
            [
             0.2,
             "#de77ae"
            ],
            [
             0.3,
             "#f1b6da"
            ],
            [
             0.4,
             "#fde0ef"
            ],
            [
             0.5,
             "#f7f7f7"
            ],
            [
             0.6,
             "#e6f5d0"
            ],
            [
             0.7,
             "#b8e186"
            ],
            [
             0.8,
             "#7fbc41"
            ],
            [
             0.9,
             "#4d9221"
            ],
            [
             1,
             "#276419"
            ]
           ],
           "sequential": [
            [
             0,
             "#0d0887"
            ],
            [
             0.1111111111111111,
             "#46039f"
            ],
            [
             0.2222222222222222,
             "#7201a8"
            ],
            [
             0.3333333333333333,
             "#9c179e"
            ],
            [
             0.4444444444444444,
             "#bd3786"
            ],
            [
             0.5555555555555556,
             "#d8576b"
            ],
            [
             0.6666666666666666,
             "#ed7953"
            ],
            [
             0.7777777777777778,
             "#fb9f3a"
            ],
            [
             0.8888888888888888,
             "#fdca26"
            ],
            [
             1,
             "#f0f921"
            ]
           ],
           "sequentialminus": [
            [
             0,
             "#0d0887"
            ],
            [
             0.1111111111111111,
             "#46039f"
            ],
            [
             0.2222222222222222,
             "#7201a8"
            ],
            [
             0.3333333333333333,
             "#9c179e"
            ],
            [
             0.4444444444444444,
             "#bd3786"
            ],
            [
             0.5555555555555556,
             "#d8576b"
            ],
            [
             0.6666666666666666,
             "#ed7953"
            ],
            [
             0.7777777777777778,
             "#fb9f3a"
            ],
            [
             0.8888888888888888,
             "#fdca26"
            ],
            [
             1,
             "#f0f921"
            ]
           ]
          },
          "colorway": [
           "#636efa",
           "#EF553B",
           "#00cc96",
           "#ab63fa",
           "#FFA15A",
           "#19d3f3",
           "#FF6692",
           "#B6E880",
           "#FF97FF",
           "#FECB52"
          ],
          "font": {
           "color": "#2a3f5f"
          },
          "geo": {
           "bgcolor": "white",
           "lakecolor": "white",
           "landcolor": "#E5ECF6",
           "showlakes": true,
           "showland": true,
           "subunitcolor": "white"
          },
          "hoverlabel": {
           "align": "left"
          },
          "hovermode": "closest",
          "mapbox": {
           "style": "light"
          },
          "paper_bgcolor": "white",
          "plot_bgcolor": "#E5ECF6",
          "polar": {
           "angularaxis": {
            "gridcolor": "white",
            "linecolor": "white",
            "ticks": ""
           },
           "bgcolor": "#E5ECF6",
           "radialaxis": {
            "gridcolor": "white",
            "linecolor": "white",
            "ticks": ""
           }
          },
          "scene": {
           "xaxis": {
            "backgroundcolor": "#E5ECF6",
            "gridcolor": "white",
            "gridwidth": 2,
            "linecolor": "white",
            "showbackground": true,
            "ticks": "",
            "zerolinecolor": "white"
           },
           "yaxis": {
            "backgroundcolor": "#E5ECF6",
            "gridcolor": "white",
            "gridwidth": 2,
            "linecolor": "white",
            "showbackground": true,
            "ticks": "",
            "zerolinecolor": "white"
           },
           "zaxis": {
            "backgroundcolor": "#E5ECF6",
            "gridcolor": "white",
            "gridwidth": 2,
            "linecolor": "white",
            "showbackground": true,
            "ticks": "",
            "zerolinecolor": "white"
           }
          },
          "shapedefaults": {
           "line": {
            "color": "#2a3f5f"
           }
          },
          "ternary": {
           "aaxis": {
            "gridcolor": "white",
            "linecolor": "white",
            "ticks": ""
           },
           "baxis": {
            "gridcolor": "white",
            "linecolor": "white",
            "ticks": ""
           },
           "bgcolor": "#E5ECF6",
           "caxis": {
            "gridcolor": "white",
            "linecolor": "white",
            "ticks": ""
           }
          },
          "title": {
           "x": 0.05
          },
          "xaxis": {
           "automargin": true,
           "gridcolor": "white",
           "linecolor": "white",
           "ticks": "",
           "title": {
            "standoff": 15
           },
           "zerolinecolor": "white",
           "zerolinewidth": 2
          },
          "yaxis": {
           "automargin": true,
           "gridcolor": "white",
           "linecolor": "white",
           "ticks": "",
           "title": {
            "standoff": 15
           },
           "zerolinecolor": "white",
           "zerolinewidth": 2
          }
         }
        },
        "title": {
         "text": "Day by Day Analysis of ['AMBUJACEM'] stock for the month of ['Oct']"
        },
        "xaxis": {
         "anchor": "y",
         "domain": [
          0,
          1
         ],
         "dtick": 1,
         "showspikes": true,
         "spikecolor": "black",
         "spikemode": "across",
         "spikesnap": "cursor",
         "spikethickness": 1,
         "title": {
          "text": "Day_Number_of_Month"
         }
        },
        "yaxis": {
         "anchor": "x",
         "domain": [
          0,
          1
         ],
         "showspikes": true,
         "spikecolor": "black",
         "spikethickness": 1,
         "title": {
          "text": "value"
         }
        }
       }
      },
      "text/html": [
       "<div>                            <div id=\"c9efa3d7-2063-4981-9ff1-14f8faec8303\" class=\"plotly-graph-div\" style=\"height:525px; width:100%;\"></div>            <script type=\"text/javascript\">                require([\"plotly\"], function(Plotly) {                    window.PLOTLYENV=window.PLOTLYENV || {};                                    if (document.getElementById(\"c9efa3d7-2063-4981-9ff1-14f8faec8303\")) {                    Plotly.newPlot(                        \"c9efa3d7-2063-4981-9ff1-14f8faec8303\",                        [{\"hovertemplate\": \"variable=High<br>Day_Number_of_Month=%{x}<br>value=%{y}<extra></extra>\", \"legendgroup\": \"High\", \"line\": {\"color\": \"#636efa\", \"dash\": \"solid\"}, \"mode\": \"lines\", \"name\": \"High\", \"orientation\": \"v\", \"showlegend\": true, \"type\": \"scatter\", \"x\": [1, 5, 6, 7, 8, 9, 12, 13, 14, 15, 16, 19, 20, 21, 22, 23, 26, 27, 28, 29, 30], \"xaxis\": \"x\", \"y\": [221.95, 224.2, 227.75, 237.75, 239.95, 240.55, 242.35, 249.35, 248.0, 250.0, 249.0, 249.7, 254.9, 254.3, 255.6, 256.0, 249.0, 257.0, 254.7, 255.0, 265.8], \"yaxis\": \"y\"}, {\"hovertemplate\": \"variable=Low<br>Day_Number_of_Month=%{x}<br>value=%{y}<extra></extra>\", \"legendgroup\": \"Low\", \"line\": {\"color\": \"#EF553B\", \"dash\": \"solid\"}, \"mode\": \"lines\", \"name\": \"Low\", \"orientation\": \"v\", \"showlegend\": true, \"type\": \"scatter\", \"x\": [1, 5, 6, 7, 8, 9, 12, 13, 14, 15, 16, 19, 20, 21, 22, 23, 26, 27, 28, 29, 30], \"xaxis\": \"x\", \"y\": [217.55, 219.45, 220.1, 225.0, 231.4, 235.0, 233.2, 236.8, 240.15, 240.8, 240.15, 243.4, 247.05, 245.95, 249.5, 245.0, 242.45, 243.65, 250.35, 248.7, 252.4], \"yaxis\": \"y\"}],                        {\"hoverdistance\": 1, \"legend\": {\"title\": {\"text\": \"variable\"}, \"tracegroupgap\": 0}, \"spikedistance\": 500, \"template\": {\"data\": {\"bar\": [{\"error_x\": {\"color\": \"#2a3f5f\"}, \"error_y\": {\"color\": \"#2a3f5f\"}, \"marker\": {\"line\": {\"color\": \"#E5ECF6\", \"width\": 0.5}}, \"type\": \"bar\"}], \"barpolar\": [{\"marker\": {\"line\": {\"color\": \"#E5ECF6\", \"width\": 0.5}}, \"type\": \"barpolar\"}], \"carpet\": [{\"aaxis\": {\"endlinecolor\": \"#2a3f5f\", \"gridcolor\": \"white\", \"linecolor\": \"white\", \"minorgridcolor\": \"white\", \"startlinecolor\": \"#2a3f5f\"}, \"baxis\": {\"endlinecolor\": \"#2a3f5f\", \"gridcolor\": \"white\", \"linecolor\": \"white\", \"minorgridcolor\": \"white\", \"startlinecolor\": \"#2a3f5f\"}, \"type\": \"carpet\"}], \"choropleth\": [{\"colorbar\": {\"outlinewidth\": 0, \"ticks\": \"\"}, \"type\": \"choropleth\"}], \"contour\": [{\"colorbar\": {\"outlinewidth\": 0, \"ticks\": \"\"}, \"colorscale\": [[0.0, \"#0d0887\"], [0.1111111111111111, \"#46039f\"], [0.2222222222222222, \"#7201a8\"], [0.3333333333333333, \"#9c179e\"], [0.4444444444444444, \"#bd3786\"], [0.5555555555555556, \"#d8576b\"], [0.6666666666666666, \"#ed7953\"], [0.7777777777777778, \"#fb9f3a\"], [0.8888888888888888, \"#fdca26\"], [1.0, \"#f0f921\"]], \"type\": \"contour\"}], \"contourcarpet\": [{\"colorbar\": {\"outlinewidth\": 0, \"ticks\": \"\"}, \"type\": \"contourcarpet\"}], \"heatmap\": [{\"colorbar\": {\"outlinewidth\": 0, \"ticks\": \"\"}, \"colorscale\": [[0.0, \"#0d0887\"], [0.1111111111111111, \"#46039f\"], [0.2222222222222222, \"#7201a8\"], [0.3333333333333333, \"#9c179e\"], [0.4444444444444444, \"#bd3786\"], [0.5555555555555556, \"#d8576b\"], [0.6666666666666666, \"#ed7953\"], [0.7777777777777778, \"#fb9f3a\"], [0.8888888888888888, \"#fdca26\"], [1.0, \"#f0f921\"]], \"type\": \"heatmap\"}], \"heatmapgl\": [{\"colorbar\": {\"outlinewidth\": 0, \"ticks\": \"\"}, \"colorscale\": [[0.0, \"#0d0887\"], [0.1111111111111111, \"#46039f\"], [0.2222222222222222, \"#7201a8\"], [0.3333333333333333, \"#9c179e\"], [0.4444444444444444, \"#bd3786\"], [0.5555555555555556, \"#d8576b\"], [0.6666666666666666, \"#ed7953\"], [0.7777777777777778, \"#fb9f3a\"], [0.8888888888888888, \"#fdca26\"], [1.0, \"#f0f921\"]], \"type\": \"heatmapgl\"}], \"histogram\": [{\"marker\": {\"colorbar\": {\"outlinewidth\": 0, \"ticks\": \"\"}}, \"type\": \"histogram\"}], \"histogram2d\": [{\"colorbar\": {\"outlinewidth\": 0, \"ticks\": \"\"}, \"colorscale\": [[0.0, \"#0d0887\"], [0.1111111111111111, \"#46039f\"], [0.2222222222222222, \"#7201a8\"], [0.3333333333333333, \"#9c179e\"], [0.4444444444444444, \"#bd3786\"], [0.5555555555555556, \"#d8576b\"], [0.6666666666666666, \"#ed7953\"], [0.7777777777777778, \"#fb9f3a\"], [0.8888888888888888, \"#fdca26\"], [1.0, \"#f0f921\"]], \"type\": \"histogram2d\"}], \"histogram2dcontour\": [{\"colorbar\": {\"outlinewidth\": 0, \"ticks\": \"\"}, \"colorscale\": [[0.0, \"#0d0887\"], [0.1111111111111111, \"#46039f\"], [0.2222222222222222, \"#7201a8\"], [0.3333333333333333, \"#9c179e\"], [0.4444444444444444, \"#bd3786\"], [0.5555555555555556, \"#d8576b\"], [0.6666666666666666, \"#ed7953\"], [0.7777777777777778, \"#fb9f3a\"], [0.8888888888888888, \"#fdca26\"], [1.0, \"#f0f921\"]], \"type\": \"histogram2dcontour\"}], \"mesh3d\": [{\"colorbar\": {\"outlinewidth\": 0, \"ticks\": \"\"}, \"type\": \"mesh3d\"}], \"parcoords\": [{\"line\": {\"colorbar\": {\"outlinewidth\": 0, \"ticks\": \"\"}}, \"type\": \"parcoords\"}], \"pie\": [{\"automargin\": true, \"type\": \"pie\"}], \"scatter\": [{\"marker\": {\"colorbar\": {\"outlinewidth\": 0, \"ticks\": \"\"}}, \"type\": \"scatter\"}], \"scatter3d\": [{\"line\": {\"colorbar\": {\"outlinewidth\": 0, \"ticks\": \"\"}}, \"marker\": {\"colorbar\": {\"outlinewidth\": 0, \"ticks\": \"\"}}, \"type\": \"scatter3d\"}], \"scattercarpet\": [{\"marker\": {\"colorbar\": {\"outlinewidth\": 0, \"ticks\": \"\"}}, \"type\": \"scattercarpet\"}], \"scattergeo\": [{\"marker\": {\"colorbar\": {\"outlinewidth\": 0, \"ticks\": \"\"}}, \"type\": \"scattergeo\"}], \"scattergl\": [{\"marker\": {\"colorbar\": {\"outlinewidth\": 0, \"ticks\": \"\"}}, \"type\": \"scattergl\"}], \"scattermapbox\": [{\"marker\": {\"colorbar\": {\"outlinewidth\": 0, \"ticks\": \"\"}}, \"type\": \"scattermapbox\"}], \"scatterpolar\": [{\"marker\": {\"colorbar\": {\"outlinewidth\": 0, \"ticks\": \"\"}}, \"type\": \"scatterpolar\"}], \"scatterpolargl\": [{\"marker\": {\"colorbar\": {\"outlinewidth\": 0, \"ticks\": \"\"}}, \"type\": \"scatterpolargl\"}], \"scatterternary\": [{\"marker\": {\"colorbar\": {\"outlinewidth\": 0, \"ticks\": \"\"}}, \"type\": \"scatterternary\"}], \"surface\": [{\"colorbar\": {\"outlinewidth\": 0, \"ticks\": \"\"}, \"colorscale\": [[0.0, \"#0d0887\"], [0.1111111111111111, \"#46039f\"], [0.2222222222222222, \"#7201a8\"], [0.3333333333333333, \"#9c179e\"], [0.4444444444444444, \"#bd3786\"], [0.5555555555555556, \"#d8576b\"], [0.6666666666666666, \"#ed7953\"], [0.7777777777777778, \"#fb9f3a\"], [0.8888888888888888, \"#fdca26\"], [1.0, \"#f0f921\"]], \"type\": \"surface\"}], \"table\": [{\"cells\": {\"fill\": {\"color\": \"#EBF0F8\"}, \"line\": {\"color\": \"white\"}}, \"header\": {\"fill\": {\"color\": \"#C8D4E3\"}, \"line\": {\"color\": \"white\"}}, \"type\": \"table\"}]}, \"layout\": {\"annotationdefaults\": {\"arrowcolor\": \"#2a3f5f\", \"arrowhead\": 0, \"arrowwidth\": 1}, \"coloraxis\": {\"colorbar\": {\"outlinewidth\": 0, \"ticks\": \"\"}}, \"colorscale\": {\"diverging\": [[0, \"#8e0152\"], [0.1, \"#c51b7d\"], [0.2, \"#de77ae\"], [0.3, \"#f1b6da\"], [0.4, \"#fde0ef\"], [0.5, \"#f7f7f7\"], [0.6, \"#e6f5d0\"], [0.7, \"#b8e186\"], [0.8, \"#7fbc41\"], [0.9, \"#4d9221\"], [1, \"#276419\"]], \"sequential\": [[0.0, \"#0d0887\"], [0.1111111111111111, \"#46039f\"], [0.2222222222222222, \"#7201a8\"], [0.3333333333333333, \"#9c179e\"], [0.4444444444444444, \"#bd3786\"], [0.5555555555555556, \"#d8576b\"], [0.6666666666666666, \"#ed7953\"], [0.7777777777777778, \"#fb9f3a\"], [0.8888888888888888, \"#fdca26\"], [1.0, \"#f0f921\"]], \"sequentialminus\": [[0.0, \"#0d0887\"], [0.1111111111111111, \"#46039f\"], [0.2222222222222222, \"#7201a8\"], [0.3333333333333333, \"#9c179e\"], [0.4444444444444444, \"#bd3786\"], [0.5555555555555556, \"#d8576b\"], [0.6666666666666666, \"#ed7953\"], [0.7777777777777778, \"#fb9f3a\"], [0.8888888888888888, \"#fdca26\"], [1.0, \"#f0f921\"]]}, \"colorway\": [\"#636efa\", \"#EF553B\", \"#00cc96\", \"#ab63fa\", \"#FFA15A\", \"#19d3f3\", \"#FF6692\", \"#B6E880\", \"#FF97FF\", \"#FECB52\"], \"font\": {\"color\": \"#2a3f5f\"}, \"geo\": {\"bgcolor\": \"white\", \"lakecolor\": \"white\", \"landcolor\": \"#E5ECF6\", \"showlakes\": true, \"showland\": true, \"subunitcolor\": \"white\"}, \"hoverlabel\": {\"align\": \"left\"}, \"hovermode\": \"closest\", \"mapbox\": {\"style\": \"light\"}, \"paper_bgcolor\": \"white\", \"plot_bgcolor\": \"#E5ECF6\", \"polar\": {\"angularaxis\": {\"gridcolor\": \"white\", \"linecolor\": \"white\", \"ticks\": \"\"}, \"bgcolor\": \"#E5ECF6\", \"radialaxis\": {\"gridcolor\": \"white\", \"linecolor\": \"white\", \"ticks\": \"\"}}, \"scene\": {\"xaxis\": {\"backgroundcolor\": \"#E5ECF6\", \"gridcolor\": \"white\", \"gridwidth\": 2, \"linecolor\": \"white\", \"showbackground\": true, \"ticks\": \"\", \"zerolinecolor\": \"white\"}, \"yaxis\": {\"backgroundcolor\": \"#E5ECF6\", \"gridcolor\": \"white\", \"gridwidth\": 2, \"linecolor\": \"white\", \"showbackground\": true, \"ticks\": \"\", \"zerolinecolor\": \"white\"}, \"zaxis\": {\"backgroundcolor\": \"#E5ECF6\", \"gridcolor\": \"white\", \"gridwidth\": 2, \"linecolor\": \"white\", \"showbackground\": true, \"ticks\": \"\", \"zerolinecolor\": \"white\"}}, \"shapedefaults\": {\"line\": {\"color\": \"#2a3f5f\"}}, \"ternary\": {\"aaxis\": {\"gridcolor\": \"white\", \"linecolor\": \"white\", \"ticks\": \"\"}, \"baxis\": {\"gridcolor\": \"white\", \"linecolor\": \"white\", \"ticks\": \"\"}, \"bgcolor\": \"#E5ECF6\", \"caxis\": {\"gridcolor\": \"white\", \"linecolor\": \"white\", \"ticks\": \"\"}}, \"title\": {\"x\": 0.05}, \"xaxis\": {\"automargin\": true, \"gridcolor\": \"white\", \"linecolor\": \"white\", \"ticks\": \"\", \"title\": {\"standoff\": 15}, \"zerolinecolor\": \"white\", \"zerolinewidth\": 2}, \"yaxis\": {\"automargin\": true, \"gridcolor\": \"white\", \"linecolor\": \"white\", \"ticks\": \"\", \"title\": {\"standoff\": 15}, \"zerolinecolor\": \"white\", \"zerolinewidth\": 2}}}, \"title\": {\"text\": \"Day by Day Analysis of ['AMBUJACEM'] stock for the month of ['Oct']\"}, \"xaxis\": {\"anchor\": \"y\", \"domain\": [0.0, 1.0], \"dtick\": 1, \"showspikes\": true, \"spikecolor\": \"black\", \"spikemode\": \"across\", \"spikesnap\": \"cursor\", \"spikethickness\": 1, \"title\": {\"text\": \"Day_Number_of_Month\"}}, \"yaxis\": {\"anchor\": \"x\", \"domain\": [0.0, 1.0], \"showspikes\": true, \"spikecolor\": \"black\", \"spikethickness\": 1, \"title\": {\"text\": \"value\"}}},                        {\"responsive\": true}                    ).then(function(){\n",
       "                            \n",
       "var gd = document.getElementById('c9efa3d7-2063-4981-9ff1-14f8faec8303');\n",
       "var x = new MutationObserver(function (mutations, observer) {{\n",
       "        var display = window.getComputedStyle(gd).display;\n",
       "        if (!display || display === 'none') {{\n",
       "            console.log([gd, 'removed!']);\n",
       "            Plotly.purge(gd);\n",
       "            observer.disconnect();\n",
       "        }}\n",
       "}});\n",
       "\n",
       "// Listen for the removal of the full notebook cells\n",
       "var notebookContainer = gd.closest('#notebook-container');\n",
       "if (notebookContainer) {{\n",
       "    x.observe(notebookContainer, {childList: true});\n",
       "}}\n",
       "\n",
       "// Listen for the clearing of the current output cell\n",
       "var outputEl = gd.closest('.output');\n",
       "if (outputEl) {{\n",
       "    x.observe(outputEl, {childList: true});\n",
       "}}\n",
       "\n",
       "                        })                };                });            </script>        </div>"
      ]
     },
     "metadata": {},
     "output_type": "display_data"
    }
   ],
   "source": [
    "o=df['Open']\n",
    "l=df['Low']\n",
    "m=df['Month_Name']\n",
    "a=df['VWAP']\n",
    "h=df['High']\n",
    "p=df['Prev Close']\n",
    "c=df['Close']\n",
    "\n",
    "\n",
    "ttl=('Day by Day Analysis of {} stock for the month of {}'.format(df.Symbol.unique(),df.Month_Name.unique()))\n",
    "\n",
    "fig = px.line(df, x=df.Day_Number_of_Month, y=[o,p,c], title=ttl)\n",
    "fig1 = px.line(df, x=df.Day_Number_of_Month, y=[h,l], title=ttl)\n",
    "fig.update_xaxes(showspikes=True, spikecolor=\"black\", spikesnap=\"cursor\", spikemode=\"across\",spikethickness=1, dtick=1)\n",
    "fig.update_yaxes(showspikes=True, spikecolor='black', spikethickness=1,)\n",
    "fig.update_layout(spikedistance=500, hoverdistance=1)\n",
    "fig.show()\n",
    "\n",
    "fig1.update_xaxes(showspikes=True, spikecolor=\"black\", spikesnap=\"cursor\", spikemode=\"across\",spikethickness=1, dtick=1)\n",
    "fig1.update_yaxes(showspikes=True, spikecolor='black', spikethickness=1,)\n",
    "fig1.update_layout(spikedistance=500, hoverdistance=1)\n",
    "fig1.show()"
   ]
  },
  {
   "cell_type": "code",
   "execution_count": null,
   "metadata": {},
   "outputs": [],
   "source": []
  },
  {
   "cell_type": "code",
   "execution_count": null,
   "metadata": {},
   "outputs": [],
   "source": []
  },
  {
   "cell_type": "code",
   "execution_count": null,
   "metadata": {},
   "outputs": [],
   "source": []
  },
  {
   "cell_type": "code",
   "execution_count": null,
   "metadata": {},
   "outputs": [],
   "source": []
  }
 ],
 "metadata": {
  "kernelspec": {
   "display_name": "Python 3",
   "language": "python",
   "name": "python3"
  },
  "language_info": {
   "codemirror_mode": {
    "name": "ipython",
    "version": 3
   },
   "file_extension": ".py",
   "mimetype": "text/x-python",
   "name": "python",
   "nbconvert_exporter": "python",
   "pygments_lexer": "ipython3",
   "version": "3.7.6"
  }
 },
 "nbformat": 4,
 "nbformat_minor": 4
}
